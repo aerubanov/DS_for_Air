{
 "cells": [
  {
   "cell_type": "code",
   "execution_count": 15,
   "metadata": {},
   "outputs": [],
   "source": [
    "import pandas as pd\n",
    "from sklearn.model_selection import train_test_split\n",
    "from sklearn.preprocessing import StandardScaler\n",
    "from sklearn.linear_model import LinearRegression\n",
    "from sklearn.metrics import mean_absolute_error"
   ]
  },
  {
   "cell_type": "markdown",
   "metadata": {},
   "source": [
    "# Data preprocessing"
   ]
  },
  {
   "cell_type": "code",
   "execution_count": 16,
   "metadata": {},
   "outputs": [],
   "source": [
    "data = data = pd.read_csv('../DATA/processed/dataset.csv', parse_dates=['date'])\n",
    "data = data.set_index('date')"
   ]
  },
  {
   "cell_type": "code",
   "execution_count": 17,
   "metadata": {},
   "outputs": [],
   "source": [
    "data.loc[data.prec_amount == 'Осадков нет', 'prec_amount'] = 0\n",
    "data.loc[data.prec_amount == 'Следы осадков', 'prec_amount'] = 0\n",
    "data.prec_amount.fillna(value=0, inplace=True)\n",
    "data['prec_amount'] = data.prec_amount.astype(float)"
   ]
  },
  {
   "cell_type": "code",
   "execution_count": 18,
   "metadata": {},
   "outputs": [],
   "source": [
    "data['P1'] = data.P1.interpolate()\n",
    "data['P2'] = data.P2.interpolate()\n",
    "data['pressure'] = data.pressure.interpolate()\n",
    "data['temperature'] = data.temperature.interpolate()\n",
    "data['humidity'] = data.humidity.interpolate()"
   ]
  },
  {
   "cell_type": "code",
   "execution_count": 19,
   "metadata": {},
   "outputs": [],
   "source": [
    "data.temp_meteo.fillna(value=data.temp_meteo.mean(), inplace=True)\n",
    "data.pres_meteo.fillna(value=data.pres_meteo.mean(), inplace=True)\n",
    "data.hum_meteo.fillna(value=data.hum_meteo.mean(), inplace=True)\n",
    "data.wind_speed.fillna(value=data.wind_speed.mean(), inplace=True)"
   ]
  },
  {
   "cell_type": "markdown",
   "metadata": {},
   "source": [
    "Провереям, в каких столбцах есть None"
   ]
  },
  {
   "cell_type": "code",
   "execution_count": 20,
   "metadata": {},
   "outputs": [
    {
     "name": "stdout",
     "output_type": "stream",
     "text": [
      "wind_direction\n",
      "precipitation\n",
      "visibility\n",
      "dew_point_temp\n"
     ]
    }
   ],
   "source": [
    "for c in data.columns:\n",
    "    if data[c].isnull().values.any():\n",
    "        print(c)"
   ]
  },
  {
   "cell_type": "code",
   "execution_count": 21,
   "metadata": {},
   "outputs": [
    {
     "data": {
      "text/html": [
       "<div>\n",
       "<style scoped>\n",
       "    .dataframe tbody tr th:only-of-type {\n",
       "        vertical-align: middle;\n",
       "    }\n",
       "\n",
       "    .dataframe tbody tr th {\n",
       "        vertical-align: top;\n",
       "    }\n",
       "\n",
       "    .dataframe thead th {\n",
       "        text-align: right;\n",
       "    }\n",
       "</style>\n",
       "<table border=\"1\" class=\"dataframe\">\n",
       "  <thead>\n",
       "    <tr style=\"text-align: right;\">\n",
       "      <th></th>\n",
       "      <th>P1</th>\n",
       "      <th>P2</th>\n",
       "      <th>pressure</th>\n",
       "      <th>temperature</th>\n",
       "      <th>humidity</th>\n",
       "      <th>temp_meteo</th>\n",
       "      <th>pres_meteo</th>\n",
       "      <th>hum_meteo</th>\n",
       "      <th>wind_direction</th>\n",
       "      <th>wind_speed</th>\n",
       "      <th>precipitation</th>\n",
       "      <th>prec_amount</th>\n",
       "      <th>visibility</th>\n",
       "      <th>dew_point_temp</th>\n",
       "    </tr>\n",
       "    <tr>\n",
       "      <th>date</th>\n",
       "      <th></th>\n",
       "      <th></th>\n",
       "      <th></th>\n",
       "      <th></th>\n",
       "      <th></th>\n",
       "      <th></th>\n",
       "      <th></th>\n",
       "      <th></th>\n",
       "      <th></th>\n",
       "      <th></th>\n",
       "      <th></th>\n",
       "      <th></th>\n",
       "      <th></th>\n",
       "      <th></th>\n",
       "    </tr>\n",
       "  </thead>\n",
       "  <tbody>\n",
       "    <tr>\n",
       "      <th>2019-04-01 00:00:00</th>\n",
       "      <td>5.645000</td>\n",
       "      <td>3.137143</td>\n",
       "      <td>98513.2400</td>\n",
       "      <td>7.09250</td>\n",
       "      <td>55.9125</td>\n",
       "      <td>12.003271</td>\n",
       "      <td>100026.352198</td>\n",
       "      <td>64.131817</td>\n",
       "      <td>NaN</td>\n",
       "      <td>1.103918</td>\n",
       "      <td>NaN</td>\n",
       "      <td>0.0</td>\n",
       "      <td>NaN</td>\n",
       "      <td>NaN</td>\n",
       "    </tr>\n",
       "    <tr>\n",
       "      <th>2019-04-01 00:05:00</th>\n",
       "      <td>5.513333</td>\n",
       "      <td>3.040595</td>\n",
       "      <td>98521.9400</td>\n",
       "      <td>7.02000</td>\n",
       "      <td>56.0350</td>\n",
       "      <td>12.003271</td>\n",
       "      <td>100026.352198</td>\n",
       "      <td>64.131817</td>\n",
       "      <td>NaN</td>\n",
       "      <td>1.103918</td>\n",
       "      <td>NaN</td>\n",
       "      <td>0.0</td>\n",
       "      <td>NaN</td>\n",
       "      <td>NaN</td>\n",
       "    </tr>\n",
       "    <tr>\n",
       "      <th>2019-04-01 00:10:00</th>\n",
       "      <td>5.504643</td>\n",
       "      <td>3.011786</td>\n",
       "      <td>98522.7600</td>\n",
       "      <td>7.04125</td>\n",
       "      <td>55.8850</td>\n",
       "      <td>12.003271</td>\n",
       "      <td>100026.352198</td>\n",
       "      <td>64.131817</td>\n",
       "      <td>NaN</td>\n",
       "      <td>1.103918</td>\n",
       "      <td>NaN</td>\n",
       "      <td>0.0</td>\n",
       "      <td>NaN</td>\n",
       "      <td>NaN</td>\n",
       "    </tr>\n",
       "    <tr>\n",
       "      <th>2019-04-01 00:15:00</th>\n",
       "      <td>6.790714</td>\n",
       "      <td>3.461071</td>\n",
       "      <td>98529.4850</td>\n",
       "      <td>6.98125</td>\n",
       "      <td>55.9075</td>\n",
       "      <td>12.003271</td>\n",
       "      <td>100026.352198</td>\n",
       "      <td>64.131817</td>\n",
       "      <td>NaN</td>\n",
       "      <td>1.103918</td>\n",
       "      <td>NaN</td>\n",
       "      <td>0.0</td>\n",
       "      <td>NaN</td>\n",
       "      <td>NaN</td>\n",
       "    </tr>\n",
       "    <tr>\n",
       "      <th>2019-04-01 00:20:00</th>\n",
       "      <td>7.344643</td>\n",
       "      <td>4.065357</td>\n",
       "      <td>98529.3075</td>\n",
       "      <td>6.97875</td>\n",
       "      <td>55.8550</td>\n",
       "      <td>12.003271</td>\n",
       "      <td>100026.352198</td>\n",
       "      <td>64.131817</td>\n",
       "      <td>NaN</td>\n",
       "      <td>1.103918</td>\n",
       "      <td>NaN</td>\n",
       "      <td>0.0</td>\n",
       "      <td>NaN</td>\n",
       "      <td>NaN</td>\n",
       "    </tr>\n",
       "  </tbody>\n",
       "</table>\n",
       "</div>"
      ],
      "text/plain": [
       "                           P1        P2    pressure  temperature  humidity  \\\n",
       "date                                                                         \n",
       "2019-04-01 00:00:00  5.645000  3.137143  98513.2400      7.09250   55.9125   \n",
       "2019-04-01 00:05:00  5.513333  3.040595  98521.9400      7.02000   56.0350   \n",
       "2019-04-01 00:10:00  5.504643  3.011786  98522.7600      7.04125   55.8850   \n",
       "2019-04-01 00:15:00  6.790714  3.461071  98529.4850      6.98125   55.9075   \n",
       "2019-04-01 00:20:00  7.344643  4.065357  98529.3075      6.97875   55.8550   \n",
       "\n",
       "                     temp_meteo     pres_meteo  hum_meteo wind_direction  \\\n",
       "date                                                                       \n",
       "2019-04-01 00:00:00   12.003271  100026.352198  64.131817            NaN   \n",
       "2019-04-01 00:05:00   12.003271  100026.352198  64.131817            NaN   \n",
       "2019-04-01 00:10:00   12.003271  100026.352198  64.131817            NaN   \n",
       "2019-04-01 00:15:00   12.003271  100026.352198  64.131817            NaN   \n",
       "2019-04-01 00:20:00   12.003271  100026.352198  64.131817            NaN   \n",
       "\n",
       "                     wind_speed precipitation  prec_amount  visibility  \\\n",
       "date                                                                     \n",
       "2019-04-01 00:00:00    1.103918           NaN          0.0         NaN   \n",
       "2019-04-01 00:05:00    1.103918           NaN          0.0         NaN   \n",
       "2019-04-01 00:10:00    1.103918           NaN          0.0         NaN   \n",
       "2019-04-01 00:15:00    1.103918           NaN          0.0         NaN   \n",
       "2019-04-01 00:20:00    1.103918           NaN          0.0         NaN   \n",
       "\n",
       "                     dew_point_temp  \n",
       "date                                 \n",
       "2019-04-01 00:00:00             NaN  \n",
       "2019-04-01 00:05:00             NaN  \n",
       "2019-04-01 00:10:00             NaN  \n",
       "2019-04-01 00:15:00             NaN  \n",
       "2019-04-01 00:20:00             NaN  "
      ]
     },
     "execution_count": 21,
     "metadata": {},
     "output_type": "execute_result"
    }
   ],
   "source": [
    "data.head()"
   ]
  },
  {
   "cell_type": "markdown",
   "metadata": {},
   "source": [
    "# Train test split"
   ]
  },
  {
   "cell_type": "code",
   "execution_count": 22,
   "metadata": {},
   "outputs": [],
   "source": [
    "columns = ['hum_meteo', 'temp_meteo', 'pres_meteo', 'wind_speed', 'prec_amount']\n",
    "X = data[columns]\n",
    "y = data.P1"
   ]
  },
  {
   "cell_type": "code",
   "execution_count": 23,
   "metadata": {},
   "outputs": [],
   "source": [
    "X_train, X_test, y_train, y_test = train_test_split(X, y, test_size=0.3, shuffle=True, random_state=42)"
   ]
  },
  {
   "cell_type": "code",
   "execution_count": 24,
   "metadata": {},
   "outputs": [
    {
     "data": {
      "text/html": [
       "<div>\n",
       "<style scoped>\n",
       "    .dataframe tbody tr th:only-of-type {\n",
       "        vertical-align: middle;\n",
       "    }\n",
       "\n",
       "    .dataframe tbody tr th {\n",
       "        vertical-align: top;\n",
       "    }\n",
       "\n",
       "    .dataframe thead th {\n",
       "        text-align: right;\n",
       "    }\n",
       "</style>\n",
       "<table border=\"1\" class=\"dataframe\">\n",
       "  <thead>\n",
       "    <tr style=\"text-align: right;\">\n",
       "      <th></th>\n",
       "      <th>hum_meteo</th>\n",
       "      <th>temp_meteo</th>\n",
       "      <th>pres_meteo</th>\n",
       "      <th>wind_speed</th>\n",
       "      <th>prec_amount</th>\n",
       "    </tr>\n",
       "    <tr>\n",
       "      <th>date</th>\n",
       "      <th></th>\n",
       "      <th></th>\n",
       "      <th></th>\n",
       "      <th></th>\n",
       "      <th></th>\n",
       "    </tr>\n",
       "  </thead>\n",
       "  <tbody>\n",
       "    <tr>\n",
       "      <th>2019-05-29 03:15:00</th>\n",
       "      <td>61.0</td>\n",
       "      <td>20.3</td>\n",
       "      <td>100111.4898</td>\n",
       "      <td>0.0</td>\n",
       "      <td>0.0</td>\n",
       "    </tr>\n",
       "    <tr>\n",
       "      <th>2019-04-19 18:25:00</th>\n",
       "      <td>23.0</td>\n",
       "      <td>12.1</td>\n",
       "      <td>101324.7200</td>\n",
       "      <td>1.0</td>\n",
       "      <td>0.0</td>\n",
       "    </tr>\n",
       "    <tr>\n",
       "      <th>2019-11-12 22:55:00</th>\n",
       "      <td>71.0</td>\n",
       "      <td>4.2</td>\n",
       "      <td>101204.7302</td>\n",
       "      <td>1.0</td>\n",
       "      <td>0.0</td>\n",
       "    </tr>\n",
       "    <tr>\n",
       "      <th>2019-11-29 23:40:00</th>\n",
       "      <td>87.0</td>\n",
       "      <td>2.2</td>\n",
       "      <td>98938.2562</td>\n",
       "      <td>1.0</td>\n",
       "      <td>0.0</td>\n",
       "    </tr>\n",
       "    <tr>\n",
       "      <th>2019-10-18 23:45:00</th>\n",
       "      <td>82.0</td>\n",
       "      <td>13.1</td>\n",
       "      <td>100338.1372</td>\n",
       "      <td>2.0</td>\n",
       "      <td>0.0</td>\n",
       "    </tr>\n",
       "  </tbody>\n",
       "</table>\n",
       "</div>"
      ],
      "text/plain": [
       "                     hum_meteo  temp_meteo   pres_meteo  wind_speed  \\\n",
       "date                                                                  \n",
       "2019-05-29 03:15:00       61.0        20.3  100111.4898         0.0   \n",
       "2019-04-19 18:25:00       23.0        12.1  101324.7200         1.0   \n",
       "2019-11-12 22:55:00       71.0         4.2  101204.7302         1.0   \n",
       "2019-11-29 23:40:00       87.0         2.2   98938.2562         1.0   \n",
       "2019-10-18 23:45:00       82.0        13.1  100338.1372         2.0   \n",
       "\n",
       "                     prec_amount  \n",
       "date                              \n",
       "2019-05-29 03:15:00          0.0  \n",
       "2019-04-19 18:25:00          0.0  \n",
       "2019-11-12 22:55:00          0.0  \n",
       "2019-11-29 23:40:00          0.0  \n",
       "2019-10-18 23:45:00          0.0  "
      ]
     },
     "execution_count": 24,
     "metadata": {},
     "output_type": "execute_result"
    }
   ],
   "source": [
    "X_train.head()"
   ]
  },
  {
   "cell_type": "markdown",
   "metadata": {},
   "source": [
    "# Model"
   ]
  },
  {
   "cell_type": "code",
   "execution_count": 25,
   "metadata": {},
   "outputs": [],
   "source": [
    "scaler = StandardScaler()\n",
    "X_train = scaler.fit_transform(X_train)\n",
    "X_test = scaler.transform(X_test)"
   ]
  },
  {
   "cell_type": "code",
   "execution_count": 26,
   "metadata": {},
   "outputs": [],
   "source": [
    "model = LinearRegression()\n",
    "model.fit(X_train, y_train)\n",
    "prediction = model.predict(X_test)"
   ]
  },
  {
   "cell_type": "code",
   "execution_count": 27,
   "metadata": {},
   "outputs": [
    {
     "data": {
      "text/plain": [
       "9.436314424415318"
      ]
     },
     "execution_count": 27,
     "metadata": {},
     "output_type": "execute_result"
    }
   ],
   "source": [
    "mean_absolute_error(y_test, prediction)"
   ]
  },
  {
   "cell_type": "markdown",
   "metadata": {},
   "source": [
    "# Features importance"
   ]
  },
  {
   "cell_type": "code",
   "execution_count": 28,
   "metadata": {},
   "outputs": [
    {
     "data": {
      "text/html": [
       "<div>\n",
       "<style scoped>\n",
       "    .dataframe tbody tr th:only-of-type {\n",
       "        vertical-align: middle;\n",
       "    }\n",
       "\n",
       "    .dataframe tbody tr th {\n",
       "        vertical-align: top;\n",
       "    }\n",
       "\n",
       "    .dataframe thead th {\n",
       "        text-align: right;\n",
       "    }\n",
       "</style>\n",
       "<table border=\"1\" class=\"dataframe\">\n",
       "  <thead>\n",
       "    <tr style=\"text-align: right;\">\n",
       "      <th></th>\n",
       "      <th>featurs</th>\n",
       "      <th>importance</th>\n",
       "    </tr>\n",
       "  </thead>\n",
       "  <tbody>\n",
       "    <tr>\n",
       "      <th>0</th>\n",
       "      <td>hum_meteo</td>\n",
       "      <td>3.703230</td>\n",
       "    </tr>\n",
       "    <tr>\n",
       "      <th>1</th>\n",
       "      <td>temp_meteo</td>\n",
       "      <td>-1.187858</td>\n",
       "    </tr>\n",
       "    <tr>\n",
       "      <th>2</th>\n",
       "      <td>pres_meteo</td>\n",
       "      <td>2.770879</td>\n",
       "    </tr>\n",
       "    <tr>\n",
       "      <th>3</th>\n",
       "      <td>wind_speed</td>\n",
       "      <td>-3.872401</td>\n",
       "    </tr>\n",
       "    <tr>\n",
       "      <th>4</th>\n",
       "      <td>prec_amount</td>\n",
       "      <td>-0.348653</td>\n",
       "    </tr>\n",
       "  </tbody>\n",
       "</table>\n",
       "</div>"
      ],
      "text/plain": [
       "       featurs  importance\n",
       "0    hum_meteo    3.703230\n",
       "1   temp_meteo   -1.187858\n",
       "2   pres_meteo    2.770879\n",
       "3   wind_speed   -3.872401\n",
       "4  prec_amount   -0.348653"
      ]
     },
     "execution_count": 28,
     "metadata": {},
     "output_type": "execute_result"
    }
   ],
   "source": [
    "coef = pd.DataFrame(index=range(len(columns)))\n",
    "coef['featurs'] = columns\n",
    "coef['importance'] = model.coef_\n",
    "coef"
   ]
  }
 ],
 "metadata": {
  "kernelspec": {
   "display_name": "Python 3",
   "language": "python",
   "name": "python3"
  },
  "toc": {
   "base_numbering": 1,
   "nav_menu": {},
   "number_sections": true,
   "sideBar": true,
   "skip_h1_title": false,
   "title_cell": "Table of Contents",
   "title_sidebar": "Contents",
   "toc_cell": false,
   "toc_position": {},
   "toc_section_display": true,
   "toc_window_display": false
  },
  "varInspector": {
   "cols": {
    "lenName": 16,
    "lenType": 16,
    "lenVar": 40
   },
   "kernels_config": {
    "python": {
     "delete_cmd_postfix": "",
     "delete_cmd_prefix": "del ",
     "library": "var_list.py",
     "varRefreshCmd": "print(var_dic_list())"
    },
    "r": {
     "delete_cmd_postfix": ") ",
     "delete_cmd_prefix": "rm(",
     "library": "var_list.r",
     "varRefreshCmd": "cat(var_dic_list()) "
    }
   },
   "types_to_exclude": [
    "module",
    "function",
    "builtin_function_or_method",
    "instance",
    "_Feature"
   ],
   "window_display": false
  }
 },
 "nbformat": 4,
 "nbformat_minor": 2
}
