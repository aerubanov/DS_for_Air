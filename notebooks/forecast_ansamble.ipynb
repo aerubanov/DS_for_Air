{
 "cells": [
  {
   "cell_type": "code",
   "execution_count": 1,
   "metadata": {},
   "outputs": [],
   "source": [
    "import pandas as pd\n",
    "import matplotlib.pyplot as plt\n",
    "import datetime\n",
    "import typing\n",
    "import numpy as np\n",
    "from sklearn.linear_model import LinearRegression, Ridge, Lasso\n",
    "from sklearn.ensemble import RandomForestRegressor\n",
    "from sklearn.metrics import mean_absolute_error\n",
    "from sklearn.preprocessing import StandardScaler, PolynomialFeatures\n",
    "from sklearn.model_selection import train_test_split\n",
    "from sklearn.base import clone\n",
    "import seaborn as sns\n",
    "\n",
    "%matplotlib inline\n",
    "plt.rcParams['figure.figsize'] = (10.0, 8.0) # set default size of plots\n",
    "\n",
    "%load_ext autoreload\n",
    "%autoreload 2\n",
    "\n",
    "np.random.seed(42)"
   ]
  },
  {
   "cell_type": "code",
   "execution_count": 66,
   "metadata": {},
   "outputs": [],
   "source": [
    "def prepare_features(data: pd.DataFrame) -> pd.DataFrame:\n",
    "    \"\"\"Features preparation for anomaly detection and clustering\"\"\"\n",
    "    # textual values encoding\n",
    "    data['hum_meteo'] = data.hum_meteo.fillna(method='bfill')\n",
    "    data['pres_meteo'] = data.hum_meteo.fillna(method='bfill')\n",
    "    data['wind_speed'] = data.hum_meteo.fillna(method='bfill')\n",
    "    data['temp_meteo'] = data.temp_meteo.fillna(method='bfill')\n",
    "    data['prec_amount'] = data.prec_amount.fillna(method='bfill')\n",
    "    data.loc[data.prec_amount == 'Осадков нет', 'prec_amount'] = 0\n",
    "    data.loc[data.prec_amount == 'Следы осадков', 'prec_amount'] = 0\n",
    "    data['prec_amount'] = data.prec_amount.astype(float)\n",
    "\n",
    "    \n",
    "    # fill missing value before PCA\n",
    "    data['P1'] = data.P1.interpolate()\n",
    "    \n",
    "    for c in data.columns:\n",
    "        data[c].fillna((data[c].bbmean()), inplace=True)\n",
    "    \n",
    "    return data"
   ]
  },
  {
   "cell_type": "code",
   "execution_count": 67,
   "metadata": {},
   "outputs": [],
   "source": [
    "class Chunk:\n",
    "    def __init__(self, train_part, test_part, feature_names):\n",
    "        self.train = train_part\n",
    "        self.test = test_part\n",
    "        self.features = feature_names\n",
    "        \n",
    "    def get_X(self, forvard_time):\n",
    "        X = list(self.train.P1.values)\n",
    "        #for feature in self.features:\n",
    "        #    X.append(self.test[feature].values[forvard_time])\n",
    "        return X\n",
    "    \n",
    "    def get_y(self, forward_time):\n",
    "        y = self.test.P1.values[forward_time]\n",
    "        return y\n",
    "\n",
    "        \n",
    "    def get_meta_X(self, forward_time, models):\n",
    "        X = self.get_X(forward_time)\n",
    "        model = models[forward_time]\n",
    "        prediction = model.predict([X])[0]\n",
    "        X_meta = [prediction]\n",
    "        for feature in self.features:\n",
    "            X_meta.append(self.test[feature].values[forward_time])\n",
    "        return X_meta\n",
    "        \n",
    "        "
   ]
  },
  {
   "cell_type": "code",
   "execution_count": 68,
   "metadata": {},
   "outputs": [],
   "source": [
    "def prepare_data(data):\n",
    "    data['P1'] = data.P1.interpolate()\n",
    "    data['pressure'] = data.pressure.interpolate()\n",
    "    data['humidity'] = data.humidity.interpolate()\n",
    "    data['temperature'] = data.temperature.interpolate()\n",
    "    data['prec_amount'] = data.prec_amount.fillna(method='bfill')\n",
    "    data['prec_time'] = data.prec_time.fillna(method='bfill')\n",
    "    data.loc[data.prec_amount == 'Осадков нет', 'prec_amount'] = 0\n",
    "    data.loc[data.prec_amount == 'Следы осадков', 'prec_amount'] = 0\n",
    "    data['prec_amount'] = data.prec_amount.astype(float)\n",
    "    data['prec_amount'] = data.prec_amount//data.prec_time\n",
    "    data['prec_time'] = data.prec_time.interpolate()\n",
    "    data['prec_amount'] = data.prec_amount.interpolate()\n",
    "    return data"
   ]
  },
  {
   "cell_type": "code",
   "execution_count": 69,
   "metadata": {},
   "outputs": [],
   "source": [
    "data = pd.read_csv('../DATA/processed/dataset.csv', parse_dates=['date'])\n",
    "data = data.set_index('date')"
   ]
  },
  {
   "cell_type": "code",
   "execution_count": 70,
   "metadata": {},
   "outputs": [],
   "source": [
    "sel_columns = ['P1', 'pressure', 'temperature', 'humidity', 'wind_direction',\n",
    "               'wind_speed', 'prec_amount', 'prec_time']\n",
    "data = data[sel_columns]"
   ]
  },
  {
   "cell_type": "code",
   "execution_count": 71,
   "metadata": {},
   "outputs": [],
   "source": [
    "data = prepare_data(data)"
   ]
  },
  {
   "cell_type": "code",
   "execution_count": 72,
   "metadata": {},
   "outputs": [
    {
     "name": "stdout",
     "output_type": "stream",
     "text": [
      "<class 'pandas.core.frame.DataFrame'>\n",
      "DatetimeIndex: 108001 entries, 2019-04-01 00:00:00+00:00 to 2020-04-10 00:00:00+00:00\n",
      "Data columns (total 8 columns):\n",
      "P1                108001 non-null float64\n",
      "pressure          108001 non-null float64\n",
      "temperature       108001 non-null float64\n",
      "humidity          108001 non-null float64\n",
      "wind_direction    108001 non-null object\n",
      "wind_speed        108001 non-null int64\n",
      "prec_amount       108001 non-null float64\n",
      "prec_time         108001 non-null float64\n",
      "dtypes: float64(6), int64(1), object(1)\n",
      "memory usage: 7.4+ MB\n"
     ]
    }
   ],
   "source": [
    "data.info()"
   ]
  },
  {
   "cell_type": "code",
   "execution_count": 73,
   "metadata": {},
   "outputs": [],
   "source": [
    "train_data = data[:str(data.index[-1] - datetime.timedelta(days=50))]\n",
    "test_data = data[str(data.index[-1] - datetime.timedelta(days=50)):]"
   ]
  },
  {
   "cell_type": "code",
   "execution_count": 74,
   "metadata": {},
   "outputs": [],
   "source": [
    "def pp(start, end, n):\n",
    "    \"\"\"generation of random datetime indexes\"\"\"\n",
    "    start_u = start.value//10**9\n",
    "    end_u = end.value//10**9\n",
    "\n",
    "    return pd.DatetimeIndex((10**9*np.random.randint(start_u, end_u, n)).view('M8[ns]'))"
   ]
  },
  {
   "cell_type": "code",
   "execution_count": 75,
   "metadata": {},
   "outputs": [],
   "source": [
    "def generate_chunks(series, n, start, end, chunk_len, test_len, features):\n",
    "    chunks = []\n",
    "    for idx in pp(start, end, n):\n",
    "        train_part = series[str(idx):str(idx+datetime.timedelta(hours=chunk_len-test_len))]\n",
    "        test_part = series[str(idx+datetime.timedelta(hours=chunk_len-test_len)):str(idx+datetime.timedelta(hours=chunk_len))]\n",
    "        chunk = Chunk(train_part, test_part, features)\n",
    "        chunks.append(chunk)\n",
    "    return chunks"
   ]
  },
  {
   "cell_type": "code",
   "execution_count": 76,
   "metadata": {},
   "outputs": [],
   "source": [
    "chunk_len = 48\n",
    "test_len = 24\n",
    "train_start_idx = train_data.index[0]\n",
    "train_end_idx = train_data.index[-1] - datetime.timedelta(hours=chunk_len)\n",
    "train_num_samples = 2000\n",
    "\n",
    "train_chunks = generate_chunks(train_data.resample('1H').mean(), train_num_samples,\n",
    "                         train_start_idx, train_end_idx,\n",
    "                         chunk_len, test_len,\n",
    "                         ['pressure', 'temperature', 'humidity', 'wind_speed', 'prec_amount']\n",
    "                        )\n",
    "\n",
    "test_start_idx = test_data.index[0]\n",
    "test_end_idx = test_data.index[-1] - datetime.timedelta(hours=chunk_len)\n",
    "test_num_samples = 300\n",
    "\n",
    "test_chunks = generate_chunks(test_data.resample('1H').mean(), test_num_samples,\n",
    "                         test_start_idx, test_end_idx,\n",
    "                         chunk_len, test_len,\n",
    "                         ['pressure', 'temperature', 'humidity', 'wind_speed', 'prec_amount']\n",
    "                        )"
   ]
  },
  {
   "cell_type": "code",
   "execution_count": 77,
   "metadata": {},
   "outputs": [],
   "source": [
    "train, train_meta = train_test_split(train_chunks, test_size=0.5, random_state=42)"
   ]
  },
  {
   "cell_type": "code",
   "execution_count": 78,
   "metadata": {},
   "outputs": [],
   "source": [
    "def train_models(model, chunks, num_models):\n",
    "    models = []\n",
    "    for i in range(num_models):\n",
    "        X = [chunk.get_X(i) for chunk in chunks]\n",
    "        local_model = clone(model)\n",
    "        y = [chunk.get_y(i) for chunk in chunks]\n",
    "        local_model.fit(X, y)\n",
    "        models.append(local_model)\n",
    "    return models"
   ]
  },
  {
   "cell_type": "code",
   "execution_count": 79,
   "metadata": {},
   "outputs": [],
   "source": [
    "def get_mae(models, chunks):\n",
    "    scores = []\n",
    "    for i in range(len(models)):\n",
    "        X = [chunk.get_X(i) for chunk in chunks]\n",
    "        local_model = models[i]\n",
    "        prediction = local_model.predict(X)\n",
    "        y = [chunk.get_y(i) for chunk in chunks]\n",
    "        mae = mean_absolute_error(y, prediction)\n",
    "        scores.append(mae)\n",
    "    return scores"
   ]
  },
  {
   "cell_type": "code",
   "execution_count": 80,
   "metadata": {},
   "outputs": [
    {
     "data": {
      "text/plain": [
       "1000"
      ]
     },
     "execution_count": 80,
     "metadata": {},
     "output_type": "execute_result"
    }
   ],
   "source": [
    "len(train)"
   ]
  },
  {
   "cell_type": "code",
   "execution_count": 81,
   "metadata": {},
   "outputs": [],
   "source": [
    "#mod = RandomForestRegressor(min_samples_leaf=3, random_state=42)\n",
    "mod = Lasso(alpha=0.2, random_state=42)\n",
    "models = train_models(mod, train, test_len)"
   ]
  },
  {
   "cell_type": "code",
   "execution_count": 82,
   "metadata": {},
   "outputs": [],
   "source": [
    "mae = get_mae(models, test_chunks)"
   ]
  },
  {
   "cell_type": "code",
   "execution_count": 83,
   "metadata": {},
   "outputs": [],
   "source": [
    "def train_meta_models(meta_model, models, chunks, num_models):\n",
    "    meta_models = []\n",
    "    for i in range(num_models):\n",
    "        X = [chunk.get_meta_X(i, models) for chunk in chunks]\n",
    "        local_model = clone(meta_model)\n",
    "        y = [chunk.get_y(i) for chunk in chunks]\n",
    "        local_model.fit(X, y)\n",
    "        meta_models.append(local_model)\n",
    "    return meta_models"
   ]
  },
  {
   "cell_type": "code",
   "execution_count": 84,
   "metadata": {},
   "outputs": [],
   "source": [
    "def get_meta_mae(models, meta_models, chunks):\n",
    "    scores = []\n",
    "    for i in range(len(models)):\n",
    "        X = [chunk.get_meta_X(i, models) for chunk in chunks]\n",
    "        local_model = meta_models[i]\n",
    "        prediction = local_model.predict(X)\n",
    "        y = [chunk.get_y(i) for chunk in chunks]\n",
    "        mae = mean_absolute_error(y, prediction)\n",
    "        scores.append(mae)\n",
    "    return scores"
   ]
  },
  {
   "cell_type": "code",
   "execution_count": 85,
   "metadata": {},
   "outputs": [
    {
     "name": "stdout",
     "output_type": "stream",
     "text": [
      "CPU times: user 10.7 s, sys: 20.1 ms, total: 10.7 s\n",
      "Wall time: 10.9 s\n"
     ]
    }
   ],
   "source": [
    "%%time\n",
    "#meta_model = Lasso(alpha=0.2, random_state=42)\n",
    "#meta_model = Ridge(alpha=0.6, random_state=42)\n",
    "meta_model = RandomForestRegressor(min_samples_leaf=3, random_state=42)\n",
    "meta_models = train_meta_models(meta_model, models, train_meta, test_len)"
   ]
  },
  {
   "cell_type": "code",
   "execution_count": 86,
   "metadata": {},
   "outputs": [],
   "source": [
    "meta_mae = get_meta_mae(models, meta_models, test_chunks)"
   ]
  },
  {
   "cell_type": "code",
   "execution_count": 87,
   "metadata": {},
   "outputs": [
    {
     "data": {
      "text/plain": [
       "<matplotlib.legend.Legend at 0x7f45fd544110>"
      ]
     },
     "execution_count": 87,
     "metadata": {},
     "output_type": "execute_result"
    },
    {
     "data": {
      "image/png": "[encoded data removed]",
      "text/plain": [
       "<Figure size 432x288 with 1 Axes>"
      ]
     },
     "metadata": {
      "needs_background": "light"
     },
     "output_type": "display_data"
    }
   ],
   "source": [
    "plt.plot(mae, label='model')\n",
    "plt.plot(meta_mae, label='meta_model')\n",
    "plt.legend()"
   ]
  },
  {
   "cell_type": "code",
   "execution_count": 88,
   "metadata": {},
   "outputs": [
    {
     "data": {
      "text/plain": [
       "[1.6597317506069424,\n",
       " 3.1512766404138484,\n",
       " 4.17794967688043,\n",
       " 4.824718850689107,\n",
       " 5.4625777832841935,\n",
       " 5.90956125170259,\n",
       " 6.5989594404150544,\n",
       " 6.9040991545064605,\n",
       " 6.840313087350634,\n",
       " 6.9185036898485,\n",
       " 7.822520229217762,\n",
       " 7.688852431708018,\n",
       " 7.420956330033443,\n",
       " 7.340614074197501,\n",
       " 7.580863958934551,\n",
       " 8.10790619915932,\n",
       " 8.491094517609875,\n",
       " 7.726503827330968,\n",
       " 7.745487711299748,\n",
       " 7.761911608233047,\n",
       " 8.124487092072888,\n",
       " 7.724859643164232,\n",
       " 7.693157835163535,\n",
       " 7.783580105814047]"
      ]
     },
     "execution_count": 88,
     "metadata": {},
     "output_type": "execute_result"
    }
   ],
   "source": [
    "meta_mae"
   ]
  },
  {
   "cell_type": "code",
   "execution_count": 89,
   "metadata": {},
   "outputs": [
    {
     "data": {
      "text/plain": [
       "[1.5303334648485243,\n",
       " 2.860072633294068,\n",
       " 3.8579084561745307,\n",
       " 4.589297893348252,\n",
       " 5.074898712085396,\n",
       " 6.024796823814074,\n",
       " 6.604481885154752,\n",
       " 6.915798290919205,\n",
       " 7.034136466259636,\n",
       " 7.366144729020866,\n",
       " 7.619512293723447,\n",
       " 7.737177342188422,\n",
       " 7.8967780167882715,\n",
       " 8.348278147991477,\n",
       " 8.957075546792439,\n",
       " 9.558624944934245,\n",
       " 9.977638150552787,\n",
       " 9.794864764365249,\n",
       " 9.713632194542098,\n",
       " 9.463442019946337,\n",
       " 9.306396748289393,\n",
       " 9.522542923830905,\n",
       " 9.806327794914527,\n",
       " 9.97448312082947]"
      ]
     },
     "execution_count": 89,
     "metadata": {},
     "output_type": "execute_result"
    }
   ],
   "source": [
    "mae"
   ]
  },
  {
   "cell_type": "code",
   "execution_count": 64,
   "metadata": {},
   "outputs": [
    {
     "data": {
      "text/plain": [
       "[1.6324263688290035,\n",
       " 2.9721436793234917,\n",
       " 4.004207466324041,\n",
       " 5.070850273097633,\n",
       " 5.668973765171288,\n",
       " 6.151796103164654,\n",
       " 6.498035192752712,\n",
       " 6.050173309343109,\n",
       " 6.3162512424415596,\n",
       " 6.952209406687157,\n",
       " 7.56656560135368,\n",
       " 7.527331410210847,\n",
       " 7.190080318744304,\n",
       " 7.188581400287322,\n",
       " 7.100921425739322,\n",
       " 7.237364994922945,\n",
       " 7.400772285077928,\n",
       " 7.21631464286128,\n",
       " 7.334948247954983,\n",
       " 7.5763192022420816,\n",
       " 7.79126995984484,\n",
       " 8.346891163227328,\n",
       " 8.871815118982623,\n",
       " 8.9771874934208]"
      ]
     },
     "execution_count": 64,
     "metadata": {},
     "output_type": "execute_result"
    }
   ],
   "source": [
    "meta_mae"
   ]
  },
  {
   "cell_type": "code",
   "execution_count": 65,
   "metadata": {},
   "outputs": [
    {
     "data": {
      "text/plain": [
       "[1.5528074613292229,\n",
       " 2.8249413640331658,\n",
       " 3.8313263718457606,\n",
       " 4.910559313108432,\n",
       " 5.647163666627384,\n",
       " 6.262770362338649,\n",
       " 6.7800540095689925,\n",
       " 6.864197378928881,\n",
       " 6.615627099889851,\n",
       " 6.850907389389878,\n",
       " 7.33106854061523,\n",
       " 7.35676418811937,\n",
       " 7.313839403933052,\n",
       " 7.5478201978120465,\n",
       " 7.846376825612173,\n",
       " 8.072709773719968,\n",
       " 8.587310914200614,\n",
       " 8.60980152358342,\n",
       " 8.597134231649715,\n",
       " 8.520609398225181,\n",
       " 8.713672303082195,\n",
       " 9.15845631591762,\n",
       " 9.742700047197674,\n",
       " 9.914087454875007]"
      ]
     },
     "execution_count": 65,
     "metadata": {},
     "output_type": "execute_result"
    }
   ],
   "source": [
    "mae"
   ]
  },
  {
   "cell_type": "code",
   "execution_count": 63,
   "metadata": {},
   "outputs": [
    {
     "data": {
      "text/plain": [
       "<matplotlib.legend.Legend at 0x7f45f6a16610>"
      ]
     },
     "execution_count": 63,
     "metadata": {},
     "output_type": "execute_result"
    },
    {
     "data": {
      "image/png": "[encoded data removed]",
      "text/plain": [
       "<Figure size 432x288 with 1 Axes>"
      ]
     },
     "metadata": {
      "needs_background": "light"
     },
     "output_type": "display_data"
    }
   ],
   "source": [
    "plt.plot(mae, label='model')\n",
    "plt.plot(meta_mae, label='meta_model')\n",
    "plt.legend()"
   ]
  },
  {
   "cell_type": "code",
   "execution_count": null,
   "metadata": {},
   "outputs": [],
   "source": []
  }
 ],
 "metadata": {
  "kernelspec": {
   "display_name": "Python 3",
   "language": "python",
   "name": "python3"
  },
  "language_info": {
   "codemirror_mode": {
    "name": "ipython",
    "version": 3
   },
   "file_extension": ".py",
   "mimetype": "text/x-python",
   "name": "python",
   "nbconvert_exporter": "python",
   "pygments_lexer": "ipython3",
   "version": "3.7.4"
  },
  "toc": {
   "base_numbering": 1,
   "nav_menu": {},
   "number_sections": true,
   "sideBar": true,
   "skip_h1_title": false,
   "title_cell": "Table of Contents",
   "title_sidebar": "Contents",
   "toc_cell": false,
   "toc_position": {},
   "toc_section_display": true,
   "toc_window_display": false
  },
  "varInspector": {
   "cols": {
    "lenName": 16,
    "lenType": 16,
    "lenVar": 40
   },
   "kernels_config": {
    "python": {
     "delete_cmd_postfix": "",
     "delete_cmd_prefix": "del ",
     "library": "var_list.py",
     "varRefreshCmd": "print(var_dic_list())"
    },
    "r": {
     "delete_cmd_postfix": ") ",
     "delete_cmd_prefix": "rm(",
     "library": "var_list.r",
     "varRefreshCmd": "cat(var_dic_list()) "
    }
   },
   "types_to_exclude": [
    "module",
    "function",
    "builtin_function_or_method",
    "instance",
    "_Feature"
   ],
   "window_display": false
  }
 },
 "nbformat": 4,
 "nbformat_minor": 2
}
