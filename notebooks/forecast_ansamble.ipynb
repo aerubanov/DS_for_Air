{
 "cells": [
  {
   "cell_type": "code",
   "execution_count": 34,
   "metadata": {},
   "outputs": [
    {
     "name": "stdout",
     "output_type": "stream",
     "text": [
      "The autoreload extension is already loaded. To reload it, use:\n",
      "  %reload_ext autoreload\n"
     ]
    }
   ],
   "source": [
    "import pandas as pd\n",
    "import matplotlib.pyplot as plt\n",
    "import datetime\n",
    "import typing\n",
    "import numpy as np\n",
    "from sklearn.linear_model import LinearRegression, Ridge, Lasso\n",
    "from sklearn.ensemble import RandomForestRegressor\n",
    "from sklearn.metrics import mean_absolute_error\n",
    "from sklearn.preprocessing import StandardScaler, PolynomialFeatures\n",
    "from sklearn.model_selection import train_test_split\n",
    "from sklearn.base import clone\n",
    "import seaborn as sns\n",
    "\n",
    "%matplotlib inline\n",
    "plt.rcParams['figure.figsize'] = (10.0, 8.0) # set default size of plots\n",
    "\n",
    "%load_ext autoreload\n",
    "%autoreload 2\n",
    "\n"
   ]
  },
  {
   "cell_type": "markdown",
   "metadata": {},
   "source": [
    "# Data preprocessing"
   ]
  },
  {
   "cell_type": "code",
   "execution_count": 2,
   "metadata": {},
   "outputs": [],
   "source": [
    "class Chunk:\n",
    "    def __init__(self, train_part, test_part, feature_names):\n",
    "        self.train = train_part\n",
    "        self.test = test_part\n",
    "        self.features = feature_names\n",
    "        \n",
    "    def get_X(self, forvard_time):\n",
    "        X = list(self.train.P1.values)\n",
    "        X += list(self.train.P1_diff1.values)\n",
    "        X += list(self.train.P1_diff2.values)\n",
    "        X += list(self.train.P1_diff3.values)\n",
    "        \n",
    "        X += list(self.train.temperature.values)\n",
    "        X += list(self.train.t_diff.values)\n",
    "        X += list(self.train.t_diff1.values)\n",
    "        X += list(self.train.t_diff2.values)\n",
    "        \n",
    "        #X += list(self.train.pressure.values)\n",
    "        #X += list(self.train.p_diff.values)\n",
    "        #X += list(self.train.p_diff1.values)\n",
    "        #X += list(self.train.p_diff2.values)\n",
    "        \n",
    "        #X += list(self.train.humidity.values)\n",
    "        #X += list(self.train.t_diff.values)\n",
    "        #X += list(self.train.t_diff1.values)\n",
    "        #X += list(self.train.t_diff2.values)\n",
    "        \n",
    "        return X\n",
    "    \n",
    "    def get_y(self, forward_time):\n",
    "        y = self.test.P1.values[forward_time]\n",
    "        return y\n",
    "\n",
    "        \n",
    "    def get_meta_X(self, forward_time, models):\n",
    "        X = self.get_X(forward_time)\n",
    "        model = models[forward_time]\n",
    "        prediction = model.predict([X])[0]\n",
    "        X_meta = [prediction]\n",
    "        for feature in self.features:\n",
    "            X_meta.append(self.test[feature].values[forward_time])\n",
    "        return X_meta\n",
    "        \n",
    "        "
   ]
  },
  {
   "cell_type": "code",
   "execution_count": 3,
   "metadata": {},
   "outputs": [],
   "source": [
    "def prepare_data(data):\n",
    "    data['P1'] = data.P1.interpolate()\n",
    "    \n",
    "    data['pres_meteo'] = data.pres_meteo.fillna(method='bfill')\n",
    "    data['temp_meteo'] = data.temp_meteo.fillna(method='bfill')\n",
    "    data['hum_meteo'] = data.hum_meteo.fillna(method='bfill')\n",
    "    data['pres_meteo'] = data.pres_meteo.interpolate()\n",
    "    data['hum_meteo'] = data.hum_meteo.interpolate()\n",
    "    data['temp_meteo'] = data.temp_meteo.interpolate()\n",
    "    \n",
    "    data['pressure'] = data.pressure.interpolate()\n",
    "    data['humidity'] = data.humidity.interpolate()\n",
    "    data['temperature'] = data.temperature.interpolate()\n",
    "    \n",
    "    data['prec_amount'] = data.prec_amount.fillna(method='bfill')\n",
    "    data['prec_time'] = data.prec_time.fillna(method='bfill')\n",
    "    data.loc[data.prec_amount == 'Осадков нет', 'prec_amount'] = 0\n",
    "    data.loc[data.prec_amount == 'Следы осадков', 'prec_amount'] = 0\n",
    "    data['prec_amount'] = data.prec_amount.astype(float)\n",
    "    #data['prec_amount'] = data.prec_amount//data.prec_time\n",
    "    data['prec_time'] = data.prec_time.interpolate()\n",
    "    data['prec_amount'] = data.prec_amount.interpolate()\n",
    "    data['wind_direction'] = data.wind_direction.fillna(method='bfill')\n",
    "    return data"
   ]
  },
  {
   "cell_type": "code",
   "execution_count": 4,
   "metadata": {},
   "outputs": [],
   "source": [
    "wind_dir = {'Ветер, дующий с востока': 0,\n",
    "            'Ветер, дующий с востоко-северо-востока': 45/2,\n",
    "            'Ветер, дующий с северо-востока': 45,\n",
    "            'Ветер, дующий с северо-северо-востока': 45 + 45/2,\n",
    "            'Ветер, дующий с севера': 90,\n",
    "            'Ветер, дующий с северо-северо-запад': 90 + 45/2,\n",
    "            'Ветер, дующий с северо-запада': 135,\n",
    "            'Ветер, дующий с западо-северо-запада': 135 + 45/2,\n",
    "            'Ветер, дующий с запада': 180,\n",
    "            'Ветер, дующий с западо-юго-запада': 180+45/2,\n",
    "            'Ветер, дующий с юго-запада': 225,\n",
    "            'Ветер, дующий с юго-юго-запада': 225 + 45/2,\n",
    "            'Ветер, дующий с юга': 270,\n",
    "            'Ветер, дующий с юго-юго-востока': 270 + 45/2,\n",
    "            'Ветер, дующий с юго-востока': 315,\n",
    "            'Ветер, дующий с востоко-юго-востока': 315 + 45/2,\n",
    "            'Штиль, безветрие': None,\n",
    "            }\n",
    "\n",
    "def add_features(data):\n",
    "    data['day_of_week'] = data.index.dayofweek\n",
    "    data['hour'] = data.index.hour\n",
    "    data['sin_day'] = np.sin(2*np.pi*data.day_of_week/7)\n",
    "    data['cos_day'] = np.cos(2*np.pi*data.day_of_week/7)\n",
    "    data['sin_hour'] = np.sin(2*np.pi*data.hour/24)\n",
    "    data['cos_hour'] = np.cos(2*np.pi*data.hour/24)\n",
    "    \n",
    "    data['P1_diff1'] = data.P1.diff(periods=1)\n",
    "    data['P1_diff2'] = data.P1_diff1.diff(periods=1)\n",
    "    data['P1_diff3'] = data.P1_diff2.diff(periods=1)\n",
    "    data['t_diff'] = data.temperature.diff(periods=1)\n",
    "    data['t_diff1'] = data.t_diff.diff(periods=1)\n",
    "    data['t_diff2'] = data.t_diff1.diff(periods=1)\n",
    "    data['p_diff'] = data.pressure.diff(periods=1)\n",
    "    data['p_diff1'] = data.p_diff.diff(periods=1)\n",
    "    data['p_diff2'] = data.p_diff1.diff(periods=1)\n",
    "    data['h_diff'] = data.humidity.diff(periods=1)\n",
    "    data['h_diff1'] = data.h_diff.diff(periods=1)\n",
    "    data['h_diff2'] = data.h_diff1.diff(periods=1)\n",
    "    \n",
    "    data['wind_direction'] = data.wind_direction.map(wind_dir)\n",
    "    data[\"wind_sin\"] = np.sin(np.radians(data.wind_direction))\n",
    "    data[\"wind_cos\"] = np.cos(np.radians(data.wind_direction))\n",
    "    data['wind_sin'] = data.wind_sin.fillna(value=2)\n",
    "    data['wind_cos'] = data.wind_cos.fillna(value=2)\n",
    "    \n",
    "    data['temp_diff'] = data.temp_meteo.diff(periods=3)\n",
    "    data['humidity_diff'] = data.hum_meteo.diff(periods=3)\n",
    "    data['pressure_diff'] = data.pres_meteo.diff(periods=3)\n",
    "    data['wind_sin_diff'] = data.wind_sin.diff(periods=3)\n",
    "    data['wind_cos_diff'] = data.wind_cos.diff(periods=3)\n",
    "    data['temp_diff3'] = data.temp_meteo.diff(periods=9)\n",
    "    data['humidity_diff3'] = data.hum_meteo.diff(periods=9)\n",
    "    data['pressure_diff3'] = data.pres_meteo.diff(periods=9)\n",
    "    data['wind_sin_diff3'] = data.wind_sin.diff(periods=9)\n",
    "    data['wind_cos_diff3'] = data.wind_cos.diff(periods=9)\n",
    "    return data"
   ]
  },
  {
   "cell_type": "code",
   "execution_count": 5,
   "metadata": {},
   "outputs": [],
   "source": [
    "data = pd.read_csv('../DATA/processed/dataset.csv', parse_dates=['date'])\n",
    "data = data.set_index('date')"
   ]
  },
  {
   "cell_type": "code",
   "execution_count": 6,
   "metadata": {},
   "outputs": [
    {
     "data": {
      "text/plain": [
       "Index(['P1', 'P2', 'pressure', 'temperature', 'humidity', 'temp_meteo',\n",
       "       'pres_meteo', 'hum_meteo', 'wind_direction', 'wind_speed',\n",
       "       'precipitation', 'prec_amount', 'prec_time', 'visibility',\n",
       "       'dew_point_temp'],\n",
       "      dtype='object')"
      ]
     },
     "execution_count": 6,
     "metadata": {},
     "output_type": "execute_result"
    }
   ],
   "source": [
    "data.columns"
   ]
  },
  {
   "cell_type": "code",
   "execution_count": 7,
   "metadata": {},
   "outputs": [],
   "source": [
    "sel_columns = ['P1', 'pres_meteo', 'temp_meteo', 'hum_meteo', 'wind_direction',\n",
    "               'wind_speed', 'prec_amount', 'prec_time', 'pressure', 'temperature', 'humidity']\n",
    "data = data[sel_columns]"
   ]
  },
  {
   "cell_type": "code",
   "execution_count": 8,
   "metadata": {},
   "outputs": [],
   "source": [
    "data = prepare_data(data)\n",
    "data = add_features(data)\n",
    "data = data.resample('1H').mean()"
   ]
  },
  {
   "cell_type": "code",
   "execution_count": 9,
   "metadata": {},
   "outputs": [
    {
     "name": "stdout",
     "output_type": "stream",
     "text": [
      "<class 'pandas.core.frame.DataFrame'>\n",
      "DatetimeIndex: 9001 entries, 2019-04-01 00:00:00+00:00 to 2020-04-10 00:00:00+00:00\n",
      "Freq: H\n",
      "Data columns (total 41 columns):\n",
      "P1                9001 non-null float64\n",
      "pres_meteo        9001 non-null float64\n",
      "temp_meteo        9001 non-null float64\n",
      "hum_meteo         9001 non-null float64\n",
      "wind_direction    7399 non-null float64\n",
      "wind_speed        9001 non-null float64\n",
      "prec_amount       9001 non-null float64\n",
      "prec_time         9001 non-null float64\n",
      "pressure          9001 non-null float64\n",
      "temperature       9001 non-null float64\n",
      "humidity          9001 non-null float64\n",
      "day_of_week       9001 non-null float64\n",
      "hour              9001 non-null float64\n",
      "sin_day           9001 non-null float64\n",
      "cos_day           9001 non-null float64\n",
      "sin_hour          9001 non-null float64\n",
      "cos_hour          9001 non-null float64\n",
      "P1_diff1          9001 non-null float64\n",
      "P1_diff2          9001 non-null float64\n",
      "P1_diff3          9001 non-null float64\n",
      "t_diff            9001 non-null float64\n",
      "t_diff1           9001 non-null float64\n",
      "t_diff2           9001 non-null float64\n",
      "p_diff            9001 non-null float64\n",
      "p_diff1           9001 non-null float64\n",
      "p_diff2           9001 non-null float64\n",
      "h_diff            9001 non-null float64\n",
      "h_diff1           9001 non-null float64\n",
      "h_diff2           9001 non-null float64\n",
      "wind_sin          9001 non-null float64\n",
      "wind_cos          9001 non-null float64\n",
      "temp_diff         9001 non-null float64\n",
      "humidity_diff     9001 non-null float64\n",
      "pressure_diff     9001 non-null float64\n",
      "wind_sin_diff     9001 non-null float64\n",
      "wind_cos_diff     9001 non-null float64\n",
      "temp_diff3        9001 non-null float64\n",
      "humidity_diff3    9001 non-null float64\n",
      "pressure_diff3    9001 non-null float64\n",
      "wind_sin_diff3    9001 non-null float64\n",
      "wind_cos_diff3    9001 non-null float64\n",
      "dtypes: float64(41)\n",
      "memory usage: 2.9 MB\n"
     ]
    }
   ],
   "source": [
    "data.info()"
   ]
  },
  {
   "cell_type": "markdown",
   "metadata": {},
   "source": [
    "# Split data on chunks"
   ]
  },
  {
   "cell_type": "code",
   "execution_count": 10,
   "metadata": {},
   "outputs": [],
   "source": [
    "train_data = data['2019-04-02 00:00:00+00:00':str(data.index[-1] - datetime.timedelta(days=50))]\n",
    "test_data = data[str(data.index[-1] - datetime.timedelta(days=50)):]"
   ]
  },
  {
   "cell_type": "code",
   "execution_count": 11,
   "metadata": {},
   "outputs": [],
   "source": [
    "def pp(start, end, n):\n",
    "    \"\"\"generation of random datetime indexes\"\"\"\n",
    "    start_u = start.value//10**9\n",
    "    end_u = end.value//10**9\n",
    "\n",
    "    return pd.DatetimeIndex((10**9*np.random.randint(start_u, end_u, n)).view('M8[ns]'))"
   ]
  },
  {
   "cell_type": "code",
   "execution_count": 12,
   "metadata": {},
   "outputs": [],
   "source": [
    "def generate_chunks(series, n, start, end, chunk_len, test_len, features):\n",
    "    chunks = []\n",
    "    for idx in pp(start, end, n):\n",
    "        train_part = series[str(idx):str(idx+datetime.timedelta(hours=chunk_len-test_len))]\n",
    "        test_part = series[str(idx+datetime.timedelta(hours=chunk_len-test_len)):str(idx+datetime.timedelta(hours=chunk_len))]\n",
    "        chunk = Chunk(train_part, test_part, features)\n",
    "        chunks.append(chunk)\n",
    "    return chunks"
   ]
  },
  {
   "cell_type": "code",
   "execution_count": 13,
   "metadata": {},
   "outputs": [],
   "source": [
    "chunk_len = 48\n",
    "test_len = 24\n",
    "train_start_idx = train_data.index[0]\n",
    "train_end_idx = train_data.index[-1] - datetime.timedelta(hours=chunk_len)\n",
    "train_num_samples = 2000\n",
    "features = ['pres_meteo', 'temp_meteo', 'hum_meteo', 'wind_speed', 'prec_amount',\n",
    "           'sin_day', 'cos_day', 'sin_hour', 'cos_hour', 'wind_sin', 'wind_cos', 'temp_diff', 'humidity_diff',\n",
    "           'pressure_diff', 'temp_diff3', 'humidity_diff3',\n",
    "           'pressure_diff3']\n",
    "np.random.seed(42)\n",
    "\n",
    "train_chunks = generate_chunks(train_data, train_num_samples,\n",
    "                               train_start_idx, train_end_idx,\n",
    "                               chunk_len, test_len, features)\n",
    "\n",
    "test_start_idx = test_data.index[0]\n",
    "test_end_idx = test_data.index[-1] - datetime.timedelta(hours=chunk_len)\n",
    "test_num_samples = 300\n",
    "\n",
    "test_chunks = generate_chunks(test_data, test_num_samples,\n",
    "                              test_start_idx, test_end_idx,\n",
    "                              chunk_len, test_len,\n",
    "                              features)"
   ]
  },
  {
   "cell_type": "code",
   "execution_count": 14,
   "metadata": {},
   "outputs": [],
   "source": [
    "train, train_meta = train_test_split(train_chunks, test_size=0.5, random_state=42)"
   ]
  },
  {
   "cell_type": "markdown",
   "metadata": {},
   "source": [
    "# Train models"
   ]
  },
  {
   "cell_type": "code",
   "execution_count": 15,
   "metadata": {},
   "outputs": [],
   "source": [
    "def train_models(model, chunks, num_models):\n",
    "    models = []\n",
    "    for i in range(num_models):\n",
    "        X = [chunk.get_X(i) for chunk in chunks]\n",
    "        local_model = clone(model)\n",
    "        y = [chunk.get_y(i) for chunk in chunks]\n",
    "        local_model.fit(X, y)\n",
    "        models.append(local_model)\n",
    "    return models"
   ]
  },
  {
   "cell_type": "code",
   "execution_count": 16,
   "metadata": {},
   "outputs": [],
   "source": [
    "def get_mae(models, chunks):\n",
    "    scores = []\n",
    "    for i in range(len(models)):\n",
    "        X = [chunk.get_X(i) for chunk in chunks]\n",
    "        local_model = models[i]\n",
    "        prediction = local_model.predict(X)\n",
    "        y = [chunk.get_y(i) for chunk in chunks]\n",
    "        mae = mean_absolute_error(y, prediction)\n",
    "        scores.append(mae)\n",
    "    return scores"
   ]
  },
  {
   "cell_type": "code",
   "execution_count": 17,
   "metadata": {},
   "outputs": [
    {
     "name": "stdout",
     "output_type": "stream",
     "text": [
      "CPU times: user 10.9 s, sys: 3.28 s, total: 14.2 s\n",
      "Wall time: 5.83 s\n"
     ]
    }
   ],
   "source": [
    "%%time\n",
    "#mod = RandomForestRegressor(min_samples_leaf=3, random_state=42)\n",
    "mod = Lasso(alpha=0.7, random_state=42, max_iter=1500)\n",
    "models = train_models(mod, train, test_len)"
   ]
  },
  {
   "cell_type": "code",
   "execution_count": 18,
   "metadata": {},
   "outputs": [],
   "source": [
    "mae = get_mae(models, test_chunks)"
   ]
  },
  {
   "cell_type": "code",
   "execution_count": 19,
   "metadata": {},
   "outputs": [
    {
     "name": "stdout",
     "output_type": "stream",
     "text": [
      "0.3 6.934548688751292\n",
      "0.4 6.928468650414923\n",
      "0.6 6.912866611689033\n",
      "0.7 6.912575931872471\n",
      "1 6.915831738556616\n"
     ]
    }
   ],
   "source": [
    "alpha = [0.3, 0.4, 0.6, 0.7, 1]\n",
    "for i in range(len(alpha)):\n",
    "    mod = Lasso(alpha=alpha[i], random_state=42)\n",
    "    models = train_models(mod, train, test_len)\n",
    "    mae = get_mae(models, test_chunks)\n",
    "    print(alpha[i], np.mean(mae))"
   ]
  },
  {
   "cell_type": "code",
   "execution_count": 20,
   "metadata": {},
   "outputs": [
    {
     "data": {
      "text/plain": [
       "([1.4913353899267812,\n",
       "  2.7512745810275216,\n",
       "  3.756833438752789,\n",
       "  4.580585878296887,\n",
       "  5.080386595625764,\n",
       "  5.516955718391661,\n",
       "  6.05902319417212,\n",
       "  6.20357022887689,\n",
       "  6.157231953879743,\n",
       "  6.3791856635634625,\n",
       "  6.7069612286684945,\n",
       "  7.0547844995830475,\n",
       "  7.2326886959986645,\n",
       "  7.42891638418601,\n",
       "  7.654897948435705,\n",
       "  8.253158291293524,\n",
       "  8.578936873438193,\n",
       "  8.685004980892378,\n",
       "  8.853320837927651,\n",
       "  8.854016127275672,\n",
       "  9.105965273059564,\n",
       "  9.304903561249832,\n",
       "  9.976442048699663,\n",
       "  10.313582332136756],\n",
       " 6.915831738556616)"
      ]
     },
     "execution_count": 20,
     "metadata": {},
     "output_type": "execute_result"
    }
   ],
   "source": [
    "mae, np.mean(mae)"
   ]
  },
  {
   "cell_type": "markdown",
   "metadata": {},
   "source": [
    "# Train meta models"
   ]
  },
  {
   "cell_type": "code",
   "execution_count": 21,
   "metadata": {},
   "outputs": [],
   "source": [
    "def train_meta_models(meta_model, models, chunks, num_models):\n",
    "    meta_models = []\n",
    "    for i in range(num_models):\n",
    "        X = [chunk.get_meta_X(i, models) for chunk in chunks]\n",
    "        local_model = clone(meta_model)\n",
    "        y = [chunk.get_y(i) for chunk in chunks]\n",
    "        local_model.fit(X, y)\n",
    "        meta_models.append(local_model)\n",
    "    return meta_models"
   ]
  },
  {
   "cell_type": "code",
   "execution_count": 22,
   "metadata": {},
   "outputs": [],
   "source": [
    "def get_meta_mae(models, meta_models, chunks):\n",
    "    scores = []\n",
    "    for i in range(len(models)):\n",
    "        X = [chunk.get_meta_X(i, models) for chunk in chunks]\n",
    "        local_model = meta_models[i]\n",
    "        prediction = local_model.predict(X)\n",
    "        y = [chunk.get_y(i) for chunk in chunks]\n",
    "        mae = mean_absolute_error(y, prediction)\n",
    "        scores.append(mae)\n",
    "    return scores"
   ]
  },
  {
   "cell_type": "code",
   "execution_count": 23,
   "metadata": {},
   "outputs": [],
   "source": [
    "def get_predictions(models, meta_models, chunk):\n",
    "    predictions = []\n",
    "    for i in range(len(models)):\n",
    "        X = [chunk.get_meta_X(i, models) ]\n",
    "        local_model = meta_models[i]\n",
    "        prediction = local_model.predict(X)[0]\n",
    "        predictions.append(prediction)\n",
    "    return predictions"
   ]
  },
  {
   "cell_type": "code",
   "execution_count": 24,
   "metadata": {},
   "outputs": [
    {
     "name": "stdout",
     "output_type": "stream",
     "text": [
      "CPU times: user 19.5 s, sys: 97.3 ms, total: 19.6 s\n",
      "Wall time: 19.8 s\n"
     ]
    }
   ],
   "source": [
    "%%time\n",
    "#meta_model = Lasso(alpha=0.2, random_state=42)\n",
    "#meta_model = Ridge(alpha=0.6, random_state=42)\n",
    "meta_model = RandomForestRegressor(min_samples_leaf=20, random_state=42)\n",
    "meta_models = train_meta_models(meta_model, models, train_meta, test_len)"
   ]
  },
  {
   "cell_type": "code",
   "execution_count": 25,
   "metadata": {},
   "outputs": [],
   "source": [
    "meta_mae = get_meta_mae(models, meta_models, test_chunks)"
   ]
  },
  {
   "cell_type": "code",
   "execution_count": 26,
   "metadata": {},
   "outputs": [],
   "source": [
    "def get_feature_impotances(models):\n",
    "    importance = models[0].feature_importances_\n",
    "    for mod in models[1:]:\n",
    "        local_importance = mod.feature_importances_\n",
    "        importance += local_importance\n",
    "    importance = importance / len(models)\n",
    "    return list(importance)"
   ]
  },
  {
   "cell_type": "code",
   "execution_count": 27,
   "metadata": {},
   "outputs": [
    {
     "data": {
      "text/plain": [
       "[0.6773756330630638,\n",
       " 0.012264192895671001,\n",
       " 0.01202714225611004,\n",
       " 0.16825276084716875,\n",
       " 0.043189535003025,\n",
       " 0.01933513029550241,\n",
       " 0.001953938035884092,\n",
       " 0.0015213276376480225,\n",
       " 0.0046766183812192805,\n",
       " 0.00588585942468032,\n",
       " 0.00593421062321894,\n",
       " 0.04641572084491189,\n",
       " 0.00023513387343158715,\n",
       " 5.130702148763622e-05,\n",
       " 0.00030474548443234063,\n",
       " 0.00023788144030324746,\n",
       " 8.37631926730979e-05,\n",
       " 0.00025509967956868524]"
      ]
     },
     "execution_count": 27,
     "metadata": {},
     "output_type": "execute_result"
    }
   ],
   "source": [
    "get_feature_impotances(meta_models)"
   ]
  },
  {
   "cell_type": "raw",
   "metadata": {},
   "source": [
    "alpha = [10, 15, 20, 25, 30]\n",
    "for i in range(len(alpha)):\n",
    "    meta_model = RandomForestRegressor(min_samples_leaf=alpha[i], random_state=42)\n",
    "    meta_models = train_meta_models(meta_model, models, train_meta, test_len)\n",
    "    meta_mae = get_meta_mae(models, meta_models, test_chunks)\n",
    "    print(alpha[i], np.mean(meta_mae))"
   ]
  },
  {
   "cell_type": "code",
   "execution_count": 28,
   "metadata": {},
   "outputs": [
    {
     "data": {
      "text/plain": [
       "5.705769817896392"
      ]
     },
     "execution_count": 28,
     "metadata": {},
     "output_type": "execute_result"
    }
   ],
   "source": [
    "np.mean(meta_mae)"
   ]
  },
  {
   "cell_type": "code",
   "execution_count": 29,
   "metadata": {},
   "outputs": [
    {
     "data": {
      "text/plain": [
       "5.705769817896392"
      ]
     },
     "execution_count": 29,
     "metadata": {},
     "output_type": "execute_result"
    }
   ],
   "source": [
    "np.mean(meta_mae)"
   ]
  },
  {
   "cell_type": "code",
   "execution_count": 36,
   "metadata": {},
   "outputs": [
    {
     "data": {
      "text/plain": [
       "<matplotlib.legend.Legend at 0x7ffa0cc7cf90>"
      ]
     },
     "execution_count": 36,
     "metadata": {},
     "output_type": "execute_result"
    },
    {
     "data": {
      "image/png": "[encoded data removed]",
      "text/plain": [
       "<Figure size 720x576 with 1 Axes>"
      ]
     },
     "metadata": {
      "needs_background": "light"
     },
     "output_type": "display_data"
    }
   ],
   "source": [
    "plt.plot(mae, label='model')\n",
    "plt.plot(meta_mae, label='meta_model')\n",
    "plt.legend()"
   ]
  },
  {
   "cell_type": "code",
   "execution_count": 31,
   "metadata": {},
   "outputs": [
    {
     "data": {
      "text/plain": [
       "([1.4913353899267812,\n",
       "  2.7512745810275216,\n",
       "  3.756833438752789,\n",
       "  4.580585878296887,\n",
       "  5.080386595625764,\n",
       "  5.516955718391661,\n",
       "  6.05902319417212,\n",
       "  6.20357022887689,\n",
       "  6.157231953879743,\n",
       "  6.3791856635634625,\n",
       "  6.7069612286684945,\n",
       "  7.0547844995830475,\n",
       "  7.2326886959986645,\n",
       "  7.42891638418601,\n",
       "  7.654897948435705,\n",
       "  8.253158291293524,\n",
       "  8.578936873438193,\n",
       "  8.685004980892378,\n",
       "  8.853320837927651,\n",
       "  8.854016127275672,\n",
       "  9.105965273059564,\n",
       "  9.304903561249832,\n",
       "  9.976442048699663,\n",
       "  10.313582332136756],\n",
       " 6.915831738556616)"
      ]
     },
     "execution_count": 31,
     "metadata": {},
     "output_type": "execute_result"
    }
   ],
   "source": [
    "mae, np.mean(mae)"
   ]
  },
  {
   "cell_type": "code",
   "execution_count": 32,
   "metadata": {},
   "outputs": [
    {
     "data": {
      "text/plain": [
       "([1.8898919710741946,\n",
       "  2.82324706998824,\n",
       "  3.732195055166778,\n",
       "  4.421452734181667,\n",
       "  4.909581434368751,\n",
       "  5.33117854135947,\n",
       "  5.553110161718628,\n",
       "  5.595244591135737,\n",
       "  5.884594826807711,\n",
       "  5.996530259774915,\n",
       "  6.132220188213051,\n",
       "  6.4447170538720435,\n",
       "  6.026686158242319,\n",
       "  6.082413220951861,\n",
       "  5.991938357498144,\n",
       "  6.271561046323717,\n",
       "  6.521278096796351,\n",
       "  6.446053465375142,\n",
       "  6.7630927169962884,\n",
       "  6.801728608271946,\n",
       "  6.607367273139004,\n",
       "  6.360505856856879,\n",
       "  7.081452529587274,\n",
       "  7.270434411813263],\n",
       " 5.705769817896392)"
      ]
     },
     "execution_count": 32,
     "metadata": {},
     "output_type": "execute_result"
    }
   ],
   "source": [
    "meta_mae, np.mean(meta_mae)"
   ]
  },
  {
   "cell_type": "code",
   "execution_count": 35,
   "metadata": {},
   "outputs": [
    {
     "data": {
      "text/plain": [
       "<matplotlib.legend.Legend at 0x7ffa0cd39bd0>"
      ]
     },
     "execution_count": 35,
     "metadata": {},
     "output_type": "execute_result"
    },
    {
     "data": {
      "image/png": "[encoded data removed]",
      "text/plain": [
       "<Figure size 720x576 with 1 Axes>"
      ]
     },
     "metadata": {
      "needs_background": "light"
     },
     "output_type": "display_data"
    }
   ],
   "source": [
    "chunk_num=205\n",
    "plt.plot([test_chunks[chunk_num].get_y(i) for i in range(len(meta_models))], label='y')\n",
    "plt.plot(get_predictions(models, meta_models, test_chunks[chunk_num]), label='prediction')\n",
    "plt.legend()"
   ]
  },
  {
   "cell_type": "code",
   "execution_count": null,
   "metadata": {},
   "outputs": [],
   "source": []
  }
 ],
 "metadata": {
  "kernelspec": {
   "display_name": "Python 3",
   "language": "python",
   "name": "python3"
  },
  "language_info": {
   "codemirror_mode": {
    "name": "ipython",
    "version": 3
   },
   "file_extension": ".py",
   "mimetype": "text/x-python",
   "name": "python",
   "nbconvert_exporter": "python",
   "pygments_lexer": "ipython3",
   "version": "3.7.4"
  },
  "toc": {
   "base_numbering": 1,
   "nav_menu": {},
   "number_sections": true,
   "sideBar": true,
   "skip_h1_title": false,
   "title_cell": "Table of Contents",
   "title_sidebar": "Contents",
   "toc_cell": false,
   "toc_position": {},
   "toc_section_display": true,
   "toc_window_display": false
  },
  "varInspector": {
   "cols": {
    "lenName": 16,
    "lenType": 16,
    "lenVar": 40
   },
   "kernels_config": {
    "python": {
     "delete_cmd_postfix": "",
     "delete_cmd_prefix": "del ",
     "library": "var_list.py",
     "varRefreshCmd": "print(var_dic_list())"
    },
    "r": {
     "delete_cmd_postfix": ") ",
     "delete_cmd_prefix": "rm(",
     "library": "var_list.r",
     "varRefreshCmd": "cat(var_dic_list()) "
    }
   },
   "types_to_exclude": [
    "module",
    "function",
    "builtin_function_or_method",
    "instance",
    "_Feature"
   ],
   "window_display": false
  }
 },
 "nbformat": 4,
 "nbformat_minor": 2
}
