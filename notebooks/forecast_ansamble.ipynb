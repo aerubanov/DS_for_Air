{
 "cells": [
  {
   "cell_type": "code",
   "execution_count": 3,
   "metadata": {},
   "outputs": [
    {
     "name": "stdout",
     "output_type": "stream",
     "text": [
      "The autoreload extension is already loaded. To reload it, use:\n",
      "  %reload_ext autoreload\n"
     ]
    }
   ],
   "source": [
    "import pandas as pd\n",
    "import matplotlib.pyplot as plt\n",
    "import datetime\n",
    "import typing\n",
    "import numpy as np\n",
    "from sklearn.linear_model import LinearRegression, Ridge, Lasso\n",
    "from sklearn.ensemble import RandomForestRegressor\n",
    "from sklearn.metrics import mean_absolute_error\n",
    "from sklearn.preprocessing import StandardScaler, PolynomialFeatures\n",
    "from sklearn.model_selection import train_test_split\n",
    "from sklearn.base import clone\n",
    "import seaborn as sns\n",
    "\n",
    "%matplotlib inline\n",
    "plt.rcParams['figure.figsize'] = (10.0, 8.0) # set default size of plots\n",
    "\n",
    "%load_ext autoreload\n",
    "%autoreload 2\n",
    "\n"
   ]
  },
  {
   "cell_type": "markdown",
   "metadata": {},
   "source": [
    "# Data preprocessing"
   ]
  },
  {
   "cell_type": "code",
   "execution_count": 4,
   "metadata": {},
   "outputs": [],
   "source": [
    "class Chunk:\n",
    "    def __init__(self, train_part, test_part, feature_names):\n",
    "        self.train = train_part\n",
    "        self.test = test_part\n",
    "        self.features = feature_names\n",
    "        \n",
    "    def get_X(self, forvard_time):\n",
    "        X = list(self.train.P1.values)\n",
    "        X += list(self.train.P1_diff1.values)\n",
    "        X += list(self.train.P1_diff2.values)\n",
    "        X += list(self.train.P1_diff3.values)\n",
    "        \n",
    "        X += list(self.train.temperature.values)\n",
    "        X += list(self.train.t_diff.values)\n",
    "        X += list(self.train.t_diff1.values)\n",
    "        X += list(self.train.t_diff2.values)\n",
    "        \n",
    "        #X += list(self.train.pressure.values)\n",
    "        #X += list(self.train.p_diff.values)\n",
    "        #X += list(self.train.p_diff1.values)\n",
    "        #X += list(self.train.p_diff2.values)\n",
    "        \n",
    "        #X += list(self.train.humidity.values)\n",
    "        #X += list(self.train.t_diff.values)\n",
    "        #X += list(self.train.t_diff1.values)\n",
    "        #X += list(self.train.t_diff2.values)\n",
    "        \n",
    "        return X\n",
    "    \n",
    "    def get_y(self, forward_time):\n",
    "        y = self.test.P1.values[forward_time]\n",
    "        return y\n",
    "\n",
    "        \n",
    "    def get_meta_X(self, forward_time, models):\n",
    "        X = self.get_X(forward_time)\n",
    "        model = models[forward_time]\n",
    "        prediction = model.predict([X])[0]\n",
    "        X_meta = [prediction]\n",
    "        for feature in self.features:\n",
    "            X_meta.append(self.test[feature].values[forward_time])\n",
    "        return X_meta\n",
    "        \n",
    "        "
   ]
  },
  {
   "cell_type": "code",
   "execution_count": 5,
   "metadata": {},
   "outputs": [],
   "source": [
    "def prepare_data(data):\n",
    "    data['P1'] = data.P1.interpolate()\n",
    "    \n",
    "    data['pres_meteo'] = data.pres_meteo.fillna(method='bfill')\n",
    "    data['temp_meteo'] = data.temp_meteo.fillna(method='bfill')\n",
    "    data['hum_meteo'] = data.hum_meteo.fillna(method='bfill')\n",
    "    data['pres_meteo'] = data.pres_meteo.interpolate()\n",
    "    data['hum_meteo'] = data.hum_meteo.interpolate()\n",
    "    data['temp_meteo'] = data.temp_meteo.interpolate()\n",
    "    \n",
    "    data['pressure'] = data.pressure.interpolate()\n",
    "    data['humidity'] = data.humidity.interpolate()\n",
    "    data['temperature'] = data.temperature.interpolate()\n",
    "    \n",
    "    data['prec_amount'] = data.prec_amount.fillna(method='bfill')\n",
    "    data['prec_time'] = data.prec_time.fillna(method='bfill')\n",
    "    data.loc[data.prec_amount == 'Осадков нет', 'prec_amount'] = 0\n",
    "    data.loc[data.prec_amount == 'Следы осадков', 'prec_amount'] = 0\n",
    "    data['prec_amount'] = data.prec_amount.astype(float)\n",
    "    #data['prec_amount'] = data.prec_amount//data.prec_time\n",
    "    data['prec_time'] = data.prec_time.interpolate()\n",
    "    data['prec_amount'] = data.prec_amount.interpolate()\n",
    "    data['wind_direction'] = data.wind_direction.fillna(method='bfill')\n",
    "    return data"
   ]
  },
  {
   "cell_type": "code",
   "execution_count": 6,
   "metadata": {},
   "outputs": [],
   "source": [
    "wind_dir = {'Ветер, дующий с востока': 0,\n",
    "            'Ветер, дующий с востоко-северо-востока': 45/2,\n",
    "            'Ветер, дующий с северо-востока': 45,\n",
    "            'Ветер, дующий с северо-северо-востока': 45 + 45/2,\n",
    "            'Ветер, дующий с севера': 90,\n",
    "            'Ветер, дующий с северо-северо-запад': 90 + 45/2,\n",
    "            'Ветер, дующий с северо-запада': 135,\n",
    "            'Ветер, дующий с западо-северо-запада': 135 + 45/2,\n",
    "            'Ветер, дующий с запада': 180,\n",
    "            'Ветер, дующий с западо-юго-запада': 180+45/2,\n",
    "            'Ветер, дующий с юго-запада': 225,\n",
    "            'Ветер, дующий с юго-юго-запада': 225 + 45/2,\n",
    "            'Ветер, дующий с юга': 270,\n",
    "            'Ветер, дующий с юго-юго-востока': 270 + 45/2,\n",
    "            'Ветер, дующий с юго-востока': 315,\n",
    "            'Ветер, дующий с востоко-юго-востока': 315 + 45/2,\n",
    "            'Штиль, безветрие': None,\n",
    "            }\n",
    "\n",
    "def add_features(data):\n",
    "    data['day_of_week'] = data.index.dayofweek\n",
    "    data['hour'] = data.index.hour\n",
    "    data['sin_day'] = np.sin(2*np.pi*data.day_of_week/7)\n",
    "    data['cos_day'] = np.cos(2*np.pi*data.day_of_week/7)\n",
    "    data['sin_hour'] = np.sin(2*np.pi*data.hour/24)\n",
    "    data['cos_hour'] = np.cos(2*np.pi*data.hour/24)\n",
    "    \n",
    "    data['P1_diff1'] = data.P1.diff(periods=1)\n",
    "    data['P1_diff2'] = data.P1_diff1.diff(periods=1)\n",
    "    data['P1_diff3'] = data.P1_diff2.diff(periods=1)\n",
    "    data['t_diff'] = data.temperature.diff(periods=1)\n",
    "    data['t_diff1'] = data.t_diff.diff(periods=1)\n",
    "    data['t_diff2'] = data.t_diff1.diff(periods=1)\n",
    "    data['p_diff'] = data.pressure.diff(periods=1)\n",
    "    data['p_diff1'] = data.p_diff.diff(periods=1)\n",
    "    data['p_diff2'] = data.p_diff1.diff(periods=1)\n",
    "    data['h_diff'] = data.humidity.diff(periods=1)\n",
    "    data['h_diff1'] = data.h_diff.diff(periods=1)\n",
    "    data['h_diff2'] = data.h_diff1.diff(periods=1)\n",
    "    \n",
    "    data['wind_direction'] = data.wind_direction.map(wind_dir)\n",
    "    data[\"wind_sin\"] = np.sin(np.radians(data.wind_direction))\n",
    "    data[\"wind_cos\"] = np.cos(np.radians(data.wind_direction))\n",
    "    data['wind_sin'] = data.wind_sin.fillna(value=2)\n",
    "    data['wind_cos'] = data.wind_cos.fillna(value=2)\n",
    "    \n",
    "    data['temp_diff'] = data.temp_meteo.diff(periods=3)\n",
    "    data['humidity_diff'] = data.hum_meteo.diff(periods=3)\n",
    "    data['pressure_diff'] = data.pres_meteo.diff(periods=3)\n",
    "    data['wind_sin_diff'] = data.wind_sin.diff(periods=3)\n",
    "    data['wind_cos_diff'] = data.wind_cos.diff(periods=3)\n",
    "    data['temp_diff3'] = data.temp_meteo.diff(periods=9)\n",
    "    data['humidity_diff3'] = data.hum_meteo.diff(periods=9)\n",
    "    data['pressure_diff3'] = data.pres_meteo.diff(periods=9)\n",
    "    data['wind_sin_diff3'] = data.wind_sin.diff(periods=9)\n",
    "    data['wind_cos_diff3'] = data.wind_cos.diff(periods=9)\n",
    "    return data"
   ]
  },
  {
   "cell_type": "code",
   "execution_count": 7,
   "metadata": {},
   "outputs": [],
   "source": [
    "data = pd.read_csv('../DATA/processed/dataset.csv', parse_dates=['date'])\n",
    "data = data.set_index('date')"
   ]
  },
  {
   "cell_type": "code",
   "execution_count": 8,
   "metadata": {},
   "outputs": [
    {
     "data": {
      "text/plain": [
       "Index(['P1', 'P2', 'pressure', 'temperature', 'humidity', 'temp_meteo',\n",
       "       'pres_meteo', 'hum_meteo', 'wind_direction', 'wind_speed',\n",
       "       'precipitation', 'prec_amount', 'prec_time', 'visibility',\n",
       "       'dew_point_temp'],\n",
       "      dtype='object')"
      ]
     },
     "execution_count": 8,
     "metadata": {},
     "output_type": "execute_result"
    }
   ],
   "source": [
    "data.columns"
   ]
  },
  {
   "cell_type": "code",
   "execution_count": 9,
   "metadata": {},
   "outputs": [],
   "source": [
    "sel_columns = ['P1', 'pres_meteo', 'temp_meteo', 'hum_meteo', 'wind_direction',\n",
    "               'wind_speed', 'prec_amount', 'prec_time', 'pressure', 'temperature', 'humidity']\n",
    "data = data[sel_columns]"
   ]
  },
  {
   "cell_type": "code",
   "execution_count": 10,
   "metadata": {},
   "outputs": [],
   "source": [
    "data = prepare_data(data)\n",
    "data = add_features(data)\n",
    "data = data.resample('1H').mean()"
   ]
  },
  {
   "cell_type": "code",
   "execution_count": 11,
   "metadata": {},
   "outputs": [
    {
     "name": "stdout",
     "output_type": "stream",
     "text": [
      "<class 'pandas.core.frame.DataFrame'>\n",
      "DatetimeIndex: 9193 entries, 2019-04-01 00:00:00+00:00 to 2020-04-18 00:00:00+00:00\n",
      "Freq: H\n",
      "Data columns (total 41 columns):\n",
      "P1                9193 non-null float64\n",
      "pres_meteo        9193 non-null float64\n",
      "temp_meteo        9193 non-null float64\n",
      "hum_meteo         9193 non-null float64\n",
      "wind_direction    7562 non-null float64\n",
      "wind_speed        9193 non-null float64\n",
      "prec_amount       9193 non-null float64\n",
      "prec_time         9193 non-null float64\n",
      "pressure          9193 non-null float64\n",
      "temperature       9193 non-null float64\n",
      "humidity          9193 non-null float64\n",
      "day_of_week       9193 non-null float64\n",
      "hour              9193 non-null float64\n",
      "sin_day           9193 non-null float64\n",
      "cos_day           9193 non-null float64\n",
      "sin_hour          9193 non-null float64\n",
      "cos_hour          9193 non-null float64\n",
      "P1_diff1          9193 non-null float64\n",
      "P1_diff2          9193 non-null float64\n",
      "P1_diff3          9193 non-null float64\n",
      "t_diff            9193 non-null float64\n",
      "t_diff1           9193 non-null float64\n",
      "t_diff2           9193 non-null float64\n",
      "p_diff            9193 non-null float64\n",
      "p_diff1           9193 non-null float64\n",
      "p_diff2           9193 non-null float64\n",
      "h_diff            9193 non-null float64\n",
      "h_diff1           9193 non-null float64\n",
      "h_diff2           9193 non-null float64\n",
      "wind_sin          9193 non-null float64\n",
      "wind_cos          9193 non-null float64\n",
      "temp_diff         9193 non-null float64\n",
      "humidity_diff     9193 non-null float64\n",
      "pressure_diff     9193 non-null float64\n",
      "wind_sin_diff     9193 non-null float64\n",
      "wind_cos_diff     9193 non-null float64\n",
      "temp_diff3        9193 non-null float64\n",
      "humidity_diff3    9193 non-null float64\n",
      "pressure_diff3    9193 non-null float64\n",
      "wind_sin_diff3    9193 non-null float64\n",
      "wind_cos_diff3    9193 non-null float64\n",
      "dtypes: float64(41)\n",
      "memory usage: 2.9 MB\n"
     ]
    }
   ],
   "source": [
    "data.info()"
   ]
  },
  {
   "cell_type": "markdown",
   "metadata": {},
   "source": [
    "# Split data on chunks"
   ]
  },
  {
   "cell_type": "code",
   "execution_count": 12,
   "metadata": {},
   "outputs": [],
   "source": [
    "train_data = data['2019-04-02 00:00:00+00:00':str(data.index[-1] - datetime.timedelta(days=50))]\n",
    "test_data = data[str(data.index[-1] - datetime.timedelta(days=50)):]"
   ]
  },
  {
   "cell_type": "code",
   "execution_count": 13,
   "metadata": {},
   "outputs": [],
   "source": [
    "def pp(start, end, n):\n",
    "    \"\"\"generation of random datetime indexes\"\"\"\n",
    "    start_u = start.value//10**9\n",
    "    end_u = end.value//10**9\n",
    "\n",
    "    return pd.DatetimeIndex((10**9*np.random.randint(start_u, end_u, n)).view('M8[ns]'))"
   ]
  },
  {
   "cell_type": "code",
   "execution_count": 14,
   "metadata": {},
   "outputs": [],
   "source": [
    "def generate_chunks(series, n, start, end, chunk_len, test_len, features):\n",
    "    chunks = []\n",
    "    for idx in pp(start, end, n):\n",
    "        train_part = series[str(idx):str(idx+datetime.timedelta(hours=chunk_len-test_len))]\n",
    "        test_part = series[str(idx+datetime.timedelta(hours=chunk_len-test_len)):str(idx+datetime.timedelta(hours=chunk_len))]\n",
    "        chunk = Chunk(train_part, test_part, features)\n",
    "        chunks.append(chunk)\n",
    "    return chunks"
   ]
  },
  {
   "cell_type": "code",
   "execution_count": 15,
   "metadata": {},
   "outputs": [],
   "source": [
    "chunk_len = 48\n",
    "test_len = 24\n",
    "train_start_idx = train_data.index[0]\n",
    "train_end_idx = train_data.index[-1] - datetime.timedelta(hours=chunk_len)\n",
    "train_num_samples = round(len(train_data)/3.2)\n",
    "features = ['pres_meteo', 'temp_meteo', 'hum_meteo', 'wind_speed', 'prec_amount',\n",
    "           'sin_day', 'cos_day', 'sin_hour', 'cos_hour', 'wind_sin', 'wind_cos', 'temp_diff', 'humidity_diff',\n",
    "           'pressure_diff', 'temp_diff3', 'humidity_diff3',\n",
    "           'pressure_diff3']\n",
    "np.random.seed(42)\n",
    "\n",
    "train_chunks = generate_chunks(train_data, train_num_samples,\n",
    "                               train_start_idx, train_end_idx,\n",
    "                               chunk_len, test_len, features)\n",
    "\n",
    "test_start_idx = test_data.index[0]\n",
    "test_end_idx = test_data.index[-1] - datetime.timedelta(hours=chunk_len)\n",
    "test_num_samples = 300\n",
    "\n",
    "test_chunks = generate_chunks(test_data, test_num_samples,\n",
    "                              test_start_idx, test_end_idx,\n",
    "                              chunk_len, test_len,\n",
    "                              features)"
   ]
  },
  {
   "cell_type": "code",
   "execution_count": 16,
   "metadata": {},
   "outputs": [],
   "source": [
    "train, train_meta = train_test_split(train_chunks, test_size=0.5, random_state=42)"
   ]
  },
  {
   "cell_type": "markdown",
   "metadata": {},
   "source": [
    "# Train models"
   ]
  },
  {
   "cell_type": "code",
   "execution_count": 17,
   "metadata": {},
   "outputs": [],
   "source": [
    "def train_models(model, chunks, num_models):\n",
    "    models = []\n",
    "    for i in range(num_models):\n",
    "        X = [chunk.get_X(i) for chunk in chunks]\n",
    "        local_model = clone(model)\n",
    "        y = [chunk.get_y(i) for chunk in chunks]\n",
    "        local_model.fit(X, y)\n",
    "        models.append(local_model)\n",
    "    return models"
   ]
  },
  {
   "cell_type": "code",
   "execution_count": 18,
   "metadata": {},
   "outputs": [],
   "source": [
    "def get_mae(models, chunks):\n",
    "    scores = []\n",
    "    for i in range(len(models)):\n",
    "        X = [chunk.get_X(i) for chunk in chunks]\n",
    "        local_model = models[i]\n",
    "        prediction = local_model.predict(X)\n",
    "        y = [chunk.get_y(i) for chunk in chunks]\n",
    "        mae = mean_absolute_error(y, prediction)\n",
    "        scores.append(mae)\n",
    "    return scores"
   ]
  },
  {
   "cell_type": "code",
   "execution_count": 19,
   "metadata": {},
   "outputs": [
    {
     "name": "stdout",
     "output_type": "stream",
     "text": [
      "CPU times: user 12.5 s, sys: 2.43 s, total: 14.9 s\n",
      "Wall time: 11.1 s\n"
     ]
    }
   ],
   "source": [
    "%%time\n",
    "#mod = RandomForestRegressor(min_samples_leaf=3, random_state=42)\n",
    "mod = Lasso(alpha=0.9, random_state=42, max_iter=1500)\n",
    "models = train_models(mod, train, test_len)"
   ]
  },
  {
   "cell_type": "code",
   "execution_count": 20,
   "metadata": {},
   "outputs": [],
   "source": [
    "mae = get_mae(models, test_chunks)"
   ]
  },
  {
   "cell_type": "code",
   "execution_count": 21,
   "metadata": {},
   "outputs": [
    {
     "name": "stdout",
     "output_type": "stream",
     "text": [
      "0.7 6.84386090348362\n",
      "0.8 6.841161092780869\n",
      "0.9 6.840450066214462\n",
      "1.0 6.841005691937447\n",
      "1.1 6.841962594788825\n"
     ]
    }
   ],
   "source": [
    "alpha = [0.7, 0.8, 0.9, 1.0, 1.1]\n",
    "for i in range(len(alpha)):\n",
    "    mod = Lasso(alpha=alpha[i], random_state=42)\n",
    "    models = train_models(mod, train, test_len)\n",
    "    mae = get_mae(models, test_chunks)\n",
    "    print(alpha[i], np.mean(mae))"
   ]
  },
  {
   "cell_type": "code",
   "execution_count": 22,
   "metadata": {},
   "outputs": [
    {
     "data": {
      "text/plain": [
       "([1.4971818056842243,\n",
       "  2.6003898918161563,\n",
       "  3.463994346296623,\n",
       "  4.201294901542983,\n",
       "  5.065957381648778,\n",
       "  5.758724618600221,\n",
       "  6.282612899579244,\n",
       "  6.505998277294263,\n",
       "  6.448943089672652,\n",
       "  6.682944096664114,\n",
       "  6.943784354185913,\n",
       "  7.082958671368075,\n",
       "  7.2698731748681835,\n",
       "  7.606604398122527,\n",
       "  7.837765377799684,\n",
       "  8.062229253350187,\n",
       "  8.198311188273482,\n",
       "  8.312319371573572,\n",
       "  8.521292326559427,\n",
       "  8.807995520711502,\n",
       "  9.10105557307678,\n",
       "  9.183329857595318,\n",
       "  9.30582534266272,\n",
       "  9.465716555985155],\n",
       " 6.841962594788825)"
      ]
     },
     "execution_count": 22,
     "metadata": {},
     "output_type": "execute_result"
    }
   ],
   "source": [
    "mae, np.mean(mae)"
   ]
  },
  {
   "cell_type": "markdown",
   "metadata": {},
   "source": [
    "# Train meta models"
   ]
  },
  {
   "cell_type": "code",
   "execution_count": 23,
   "metadata": {},
   "outputs": [],
   "source": [
    "def train_meta_models(meta_model, models, chunks, num_models):\n",
    "    meta_models = []\n",
    "    for i in range(num_models):\n",
    "        X = [chunk.get_meta_X(i, models) for chunk in chunks]\n",
    "        local_model = clone(meta_model)\n",
    "        y = [chunk.get_y(i) for chunk in chunks]\n",
    "        local_model.fit(X, y)\n",
    "        meta_models.append(local_model)\n",
    "    return meta_models"
   ]
  },
  {
   "cell_type": "code",
   "execution_count": 24,
   "metadata": {},
   "outputs": [],
   "source": [
    "def get_meta_mae(models, meta_models, chunks):\n",
    "    scores = []\n",
    "    for i in range(len(models)):\n",
    "        X = [chunk.get_meta_X(i, models) for chunk in chunks]\n",
    "        local_model = meta_models[i]\n",
    "        prediction = local_model.predict(X)\n",
    "        y = [chunk.get_y(i) for chunk in chunks]\n",
    "        mae = mean_absolute_error(y, prediction)\n",
    "        scores.append(mae)\n",
    "    return scores"
   ]
  },
  {
   "cell_type": "code",
   "execution_count": 25,
   "metadata": {},
   "outputs": [],
   "source": [
    "def get_predictions(models, meta_models, chunk):\n",
    "    predictions = []\n",
    "    for i in range(len(models)):\n",
    "        X = [chunk.get_meta_X(i, models) ]\n",
    "        local_model = meta_models[i]\n",
    "        prediction = local_model.predict(X)[0]\n",
    "        predictions.append(prediction)\n",
    "    return predictions"
   ]
  },
  {
   "cell_type": "code",
   "execution_count": 26,
   "metadata": {},
   "outputs": [
    {
     "name": "stdout",
     "output_type": "stream",
     "text": [
      "CPU times: user 24.1 s, sys: 179 ms, total: 24.3 s\n",
      "Wall time: 25.9 s\n"
     ]
    }
   ],
   "source": [
    "%%time\n",
    "#meta_model = Lasso(alpha=0.2, random_state=42)\n",
    "#meta_model = Ridge(alpha=0.6, random_state=42)\n",
    "meta_model = RandomForestRegressor(min_samples_leaf=20, random_state=42)\n",
    "meta_models = train_meta_models(meta_model, models, train_meta, test_len)"
   ]
  },
  {
   "cell_type": "code",
   "execution_count": 27,
   "metadata": {},
   "outputs": [],
   "source": [
    "meta_mae = get_meta_mae(models, meta_models, test_chunks)"
   ]
  },
  {
   "cell_type": "code",
   "execution_count": 28,
   "metadata": {},
   "outputs": [],
   "source": [
    "def get_feature_impotances(models):\n",
    "    importance = models[0].feature_importances_\n",
    "    for mod in models[1:]:\n",
    "        local_importance = mod.feature_importances_\n",
    "        importance += local_importance\n",
    "    importance = importance / len(models)\n",
    "    return list(importance)"
   ]
  },
  {
   "cell_type": "code",
   "execution_count": 29,
   "metadata": {},
   "outputs": [
    {
     "data": {
      "text/plain": [
       "[0.6578643194181041,\n",
       " 0.01860193184259678,\n",
       " 0.015140862067876787,\n",
       " 0.16550290751333738,\n",
       " 0.046950785136093964,\n",
       " 0.03182510408516163,\n",
       " 0.003418414501296574,\n",
       " 0.0022489451438086404,\n",
       " 0.005768804668780423,\n",
       " 0.007961408934690094,\n",
       " 0.006649038980029516,\n",
       " 0.0366460660008402,\n",
       " 0.0003521716924091336,\n",
       " 0.00010955390785947317,\n",
       " 0.00020515971799081397,\n",
       " 0.00041741770397060187,\n",
       " 0.0001395593750374486,\n",
       " 0.00019754931011637547]"
      ]
     },
     "execution_count": 29,
     "metadata": {},
     "output_type": "execute_result"
    }
   ],
   "source": [
    "get_feature_impotances(meta_models)"
   ]
  },
  {
   "cell_type": "raw",
   "metadata": {},
   "source": [
    "alpha = [10, 15, 20, 25, 30]\n",
    "for i in range(len(alpha)):\n",
    "    meta_model = RandomForestRegressor(min_samples_leaf=alpha[i], random_state=42)\n",
    "    meta_models = train_meta_models(meta_model, models, train_meta, test_len)\n",
    "    meta_mae = get_meta_mae(models, meta_models, test_chunks)\n",
    "    print(alpha[i], np.mean(meta_mae))"
   ]
  },
  {
   "cell_type": "code",
   "execution_count": 30,
   "metadata": {},
   "outputs": [
    {
     "data": {
      "text/plain": [
       "5.325696246291632"
      ]
     },
     "execution_count": 30,
     "metadata": {},
     "output_type": "execute_result"
    }
   ],
   "source": [
    "np.mean(meta_mae)"
   ]
  },
  {
   "cell_type": "code",
   "execution_count": 31,
   "metadata": {},
   "outputs": [
    {
     "data": {
      "text/plain": [
       "5.325696246291632"
      ]
     },
     "execution_count": 31,
     "metadata": {},
     "output_type": "execute_result"
    }
   ],
   "source": [
    "np.mean(meta_mae)"
   ]
  },
  {
   "cell_type": "code",
   "execution_count": 32,
   "metadata": {},
   "outputs": [
    {
     "data": {
      "text/plain": [
       "<matplotlib.legend.Legend at 0x7f292f1eaa10>"
      ]
     },
     "execution_count": 32,
     "metadata": {},
     "output_type": "execute_result"
    },
    {
     "data": {
      "image/png": "[encoded data removed]",
      "text/plain": [
       "<Figure size 720x576 with 1 Axes>"
      ]
     },
     "metadata": {
      "needs_background": "light"
     },
     "output_type": "display_data"
    }
   ],
   "source": [
    "plt.plot(mae, label='model')\n",
    "plt.plot(meta_mae, label='meta_model')\n",
    "plt.legend()"
   ]
  },
  {
   "cell_type": "code",
   "execution_count": 33,
   "metadata": {},
   "outputs": [
    {
     "data": {
      "text/plain": [
       "([1.4971818056842243,\n",
       "  2.6003898918161563,\n",
       "  3.463994346296623,\n",
       "  4.201294901542983,\n",
       "  5.065957381648778,\n",
       "  5.758724618600221,\n",
       "  6.282612899579244,\n",
       "  6.505998277294263,\n",
       "  6.448943089672652,\n",
       "  6.682944096664114,\n",
       "  6.943784354185913,\n",
       "  7.082958671368075,\n",
       "  7.2698731748681835,\n",
       "  7.606604398122527,\n",
       "  7.837765377799684,\n",
       "  8.062229253350187,\n",
       "  8.198311188273482,\n",
       "  8.312319371573572,\n",
       "  8.521292326559427,\n",
       "  8.807995520711502,\n",
       "  9.10105557307678,\n",
       "  9.183329857595318,\n",
       "  9.30582534266272,\n",
       "  9.465716555985155],\n",
       " 6.841962594788825)"
      ]
     },
     "execution_count": 33,
     "metadata": {},
     "output_type": "execute_result"
    }
   ],
   "source": [
    "mae, np.mean(mae)"
   ]
  },
  {
   "cell_type": "code",
   "execution_count": 34,
   "metadata": {},
   "outputs": [
    {
     "data": {
      "text/plain": [
       "([1.640750653374844,\n",
       "  2.5736579663562877,\n",
       "  3.4048745922219865,\n",
       "  4.162320439194604,\n",
       "  4.7527243679558975,\n",
       "  5.279433431393583,\n",
       "  5.537443809968408,\n",
       "  5.624987981491052,\n",
       "  5.83209521445403,\n",
       "  5.9011776213509135,\n",
       "  5.82586592281622,\n",
       "  5.710320873626677,\n",
       "  5.613965602886446,\n",
       "  5.505227929566664,\n",
       "  6.0283402071506815,\n",
       "  6.056611365974583,\n",
       "  6.029793554920775,\n",
       "  5.895418488745502,\n",
       "  5.887616787233517,\n",
       "  5.841736087071625,\n",
       "  5.934688922750874,\n",
       "  5.974127226269061,\n",
       "  6.2170767661432995,\n",
       "  6.586454098081639],\n",
       " 5.325696246291632)"
      ]
     },
     "execution_count": 34,
     "metadata": {},
     "output_type": "execute_result"
    }
   ],
   "source": [
    "meta_mae, np.mean(meta_mae)"
   ]
  },
  {
   "cell_type": "code",
   "execution_count": 44,
   "metadata": {},
   "outputs": [
    {
     "data": {
      "image/png": "[encoded data removed]",
      "text/plain": [
       "<Figure size 432x216 with 1 Axes>"
      ]
     },
     "metadata": {
      "needs_background": "light"
     },
     "output_type": "display_data"
    },
    {
     "data": {
      "image/png": "[encoded data removed]",
      "text/plain": [
       "<Figure size 432x216 with 1 Axes>"
      ]
     },
     "metadata": {
      "needs_background": "light"
     },
     "output_type": "display_data"
    },
    {
     "data": {
      "image/png": "[encoded data removed]",
      "text/plain": [
       "<Figure size 432x216 with 1 Axes>"
      ]
     },
     "metadata": {
      "needs_background": "light"
     },
     "output_type": "display_data"
    },
    {
     "data": {
      "image/png": "[encoded data removed]",
      "text/plain": [
       "<Figure size 432x216 with 1 Axes>"
      ]
     },
     "metadata": {
      "needs_background": "light"
     },
     "output_type": "display_data"
    },
    {
     "data": {
      "image/png": "[encoded data removed]",
      "text/plain": [
       "<Figure size 432x216 with 1 Axes>"
      ]
     },
     "metadata": {
      "needs_background": "light"
     },
     "output_type": "display_data"
    },
    {
     "data": {
      "image/png": "[encoded data removed]",
      "text/plain": [
       "<Figure size 432x216 with 1 Axes>"
      ]
     },
     "metadata": {
      "needs_background": "light"
     },
     "output_type": "display_data"
    },
    {
     "data": {
      "image/png": "[encoded data removed]",
      "text/plain": [
       "<Figure size 432x216 with 1 Axes>"
      ]
     },
     "metadata": {
      "needs_background": "light"
     },
     "output_type": "display_data"
    }
   ],
   "source": [
    "for chunk_num in [1, 34 ,53, 75, 166, 203, 42]:\n",
    "    plt.figure(figsize=(6, 3))\n",
    "    plt.plot([test_chunks[chunk_num].get_y(i) for i in range(len(meta_models))], label='y')\n",
    "    plt.plot(get_predictions(models, meta_models, test_chunks[chunk_num]), label='prediction')\n",
    "    plt.legend()"
   ]
  },
  {
   "cell_type": "code",
   "execution_count": null,
   "metadata": {},
   "outputs": [],
   "source": []
  }
 ],
 "metadata": {
  "kernelspec": {
   "display_name": "Python 3",
   "language": "python",
   "name": "python3"
  },
  "language_info": {
   "codemirror_mode": {
    "name": "ipython",
    "version": 3
   },
   "file_extension": ".py",
   "mimetype": "text/x-python",
   "name": "python",
   "nbconvert_exporter": "python",
   "pygments_lexer": "ipython3",
   "version": "3.7.4"
  },
  "toc": {
   "base_numbering": 1,
   "nav_menu": {},
   "number_sections": true,
   "sideBar": true,
   "skip_h1_title": false,
   "title_cell": "Table of Contents",
   "title_sidebar": "Contents",
   "toc_cell": false,
   "toc_position": {},
   "toc_section_display": true,
   "toc_window_display": false
  },
  "varInspector": {
   "cols": {
    "lenName": 16,
    "lenType": 16,
    "lenVar": 40
   },
   "kernels_config": {
    "python": {
     "delete_cmd_postfix": "",
     "delete_cmd_prefix": "del ",
     "library": "var_list.py",
     "varRefreshCmd": "print(var_dic_list())"
    },
    "r": {
     "delete_cmd_postfix": ") ",
     "delete_cmd_prefix": "rm(",
     "library": "var_list.r",
     "varRefreshCmd": "cat(var_dic_list()) "
    }
   },
   "types_to_exclude": [
    "module",
    "function",
    "builtin_function_or_method",
    "instance",
    "_Feature"
   ],
   "window_display": false
  }
 },
 "nbformat": 4,
 "nbformat_minor": 2
}
