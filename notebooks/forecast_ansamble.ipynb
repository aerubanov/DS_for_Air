{
 "cells": [
  {
   "cell_type": "code",
   "execution_count": 3,
   "metadata": {},
   "outputs": [
    {
     "name": "stdout",
     "output_type": "stream",
     "text": [
      "The autoreload extension is already loaded. To reload it, use:\n",
      "  %reload_ext autoreload\n"
     ]
    }
   ],
   "source": [
    "import pandas as pd\n",
    "import matplotlib.pyplot as plt\n",
    "import datetime\n",
    "import typing\n",
    "import numpy as np\n",
    "from sklearn.linear_model import LinearRegression, Ridge, Lasso\n",
    "from sklearn.ensemble import RandomForestRegressor\n",
    "from sklearn.metrics import mean_absolute_error\n",
    "from sklearn.preprocessing import StandardScaler, PolynomialFeatures\n",
    "from sklearn.model_selection import train_test_split\n",
    "from sklearn.base import clone\n",
    "import seaborn as sns\n",
    "\n",
    "%matplotlib inline\n",
    "plt.rcParams['figure.figsize'] = (10.0, 8.0) # set default size of plots\n",
    "\n",
    "%load_ext autoreload\n",
    "%autoreload 2\n",
    "\n"
   ]
  },
  {
   "cell_type": "code",
   "execution_count": 4,
   "metadata": {},
   "outputs": [],
   "source": [
    "class Chunk:\n",
    "    def __init__(self, train_part, test_part, feature_names):\n",
    "        self.train = train_part\n",
    "        self.test = test_part\n",
    "        self.features = feature_names\n",
    "        \n",
    "    def get_X(self, forvard_time):\n",
    "        X = list(self.train.P1.values)\n",
    "        X += list(self.train.P1_diff1.values)\n",
    "        X += list(self.train.P1_diff2.values)\n",
    "        X += list(self.train.P1_diff4.values)\n",
    "        for feature in self.features:\n",
    "            X.append(self.test[feature].values[forvard_time])\n",
    "        return X\n",
    "    \n",
    "    def get_y(self, forward_time):\n",
    "        y = self.test.P1.values[forward_time]\n",
    "        return y\n",
    "\n",
    "        \n",
    "    def get_meta_X(self, forward_time, models):\n",
    "        X = self.get_X(forward_time)\n",
    "        model = models[forward_time]\n",
    "        prediction = model.predict([X])[0]\n",
    "        X_meta = [prediction]\n",
    "        for feature in self.features:\n",
    "            X_meta.append(self.test[feature].values[forward_time])\n",
    "        return X_meta\n",
    "        \n",
    "        "
   ]
  },
  {
   "cell_type": "code",
   "execution_count": 5,
   "metadata": {},
   "outputs": [],
   "source": [
    "def prepare_data(data):\n",
    "    data['P1'] = data.P1.interpolate()\n",
    "    data['pressure'] = data.pressure.interpolate()\n",
    "    data['humidity'] = data.humidity.interpolate()\n",
    "    data['temperature'] = data.temperature.interpolate()\n",
    "    data['prec_amount'] = data.prec_amount.fillna(method='bfill')\n",
    "    data['prec_time'] = data.prec_time.fillna(method='bfill')\n",
    "    data.loc[data.prec_amount == 'Осадков нет', 'prec_amount'] = 0\n",
    "    data.loc[data.prec_amount == 'Следы осадков', 'prec_amount'] = 0\n",
    "    data['prec_amount'] = data.prec_amount.astype(float)\n",
    "    #data['prec_amount'] = data.prec_amount//data.prec_time\n",
    "    data['prec_time'] = data.prec_time.interpolate()\n",
    "    data['prec_amount'] = data.prec_amount.interpolate()\n",
    "    data['wind_direction'] = data.wind_direction.fillna(method='bfill')\n",
    "    return data"
   ]
  },
  {
   "cell_type": "code",
   "execution_count": 6,
   "metadata": {},
   "outputs": [],
   "source": [
    "wind_dir = {'Ветер, дующий с востока': 0,\n",
    "            'Ветер, дующий с востоко-северо-востока': 45/2,\n",
    "            'Ветер, дующий с северо-востока': 45,\n",
    "            'Ветер, дующий с северо-северо-востока': 45 + 45/2,\n",
    "            'Ветер, дующий с севера': 90,\n",
    "            'Ветер, дующий с северо-северо-запад': 90 + 45/2,\n",
    "            'Ветер, дующий с северо-запада': 135,\n",
    "            'Ветер, дующий с западо-северо-запада': 135 + 45/2,\n",
    "            'Ветер, дующий с запада': 180,\n",
    "            'Ветер, дующий с западо-юго-запада': 180+45/2,\n",
    "            'Ветер, дующий с юго-запада': 225,\n",
    "            'Ветер, дующий с юго-юго-запада': 225 + 45/2,\n",
    "            'Ветер, дующий с юга': 270,\n",
    "            'Ветер, дующий с юго-юго-востока': 270 + 45/2,\n",
    "            'Ветер, дующий с юго-востока': 315,\n",
    "            'Ветер, дующий с востоко-юго-востока': 315 + 45/2,\n",
    "            'Штиль, безветрие': None,\n",
    "            }\n",
    "\n",
    "def add_features(data):\n",
    "    data['day_of_week'] = data.index.dayofweek\n",
    "    data['hour'] = data.index.hour\n",
    "    data['sin_day'] = np.sin(2*np.pi*data.day_of_week/7)\n",
    "    data['cos_day'] = np.cos(2*np.pi*data.day_of_week/7)\n",
    "    data['sin_hour'] = np.sin(2*np.pi*data.hour/24)\n",
    "    data['cos_hour'] = np.cos(2*np.pi*data.hour/24)\n",
    "    data['P1_diff1'] = data.P1.diff(periods=1)\n",
    "    data['P1_diff2'] = data.P1.diff(periods=2)\n",
    "    data['P1_diff4'] = data.P1.diff(periods=4)\n",
    "    data['wind_direction'] = data.wind_direction.map(wind_dir)\n",
    "    data[\"wind_sin\"] = np.sin(np.radians(data.wind_direction))\n",
    "    data[\"wind_cos\"] = np.cos(np.radians(data.wind_direction))\n",
    "    data['wind_sin'] = data.wind_sin.fillna(value=2)\n",
    "    data['wind_cos'] = data.wind_cos.fillna(value=2)\n",
    "    return data"
   ]
  },
  {
   "cell_type": "code",
   "execution_count": 7,
   "metadata": {},
   "outputs": [],
   "source": [
    "data = pd.read_csv('../DATA/processed/dataset.csv', parse_dates=['date'])\n",
    "data = data.set_index('date')"
   ]
  },
  {
   "cell_type": "code",
   "execution_count": 8,
   "metadata": {},
   "outputs": [],
   "source": [
    "sel_columns = ['P1', 'pressure', 'temperature', 'humidity', 'wind_direction',\n",
    "               'wind_speed', 'prec_amount', 'prec_time']\n",
    "data = data[sel_columns]"
   ]
  },
  {
   "cell_type": "code",
   "execution_count": 9,
   "metadata": {},
   "outputs": [],
   "source": [
    "data = prepare_data(data)\n",
    "data = add_features(data)\n",
    "data = data.resample('1H').mean()"
   ]
  },
  {
   "cell_type": "code",
   "execution_count": 10,
   "metadata": {},
   "outputs": [
    {
     "name": "stdout",
     "output_type": "stream",
     "text": [
      "<class 'pandas.core.frame.DataFrame'>\n",
      "DatetimeIndex: 9001 entries, 2019-04-01 00:00:00+00:00 to 2020-04-10 00:00:00+00:00\n",
      "Freq: H\n",
      "Data columns (total 19 columns):\n",
      "P1                9001 non-null float64\n",
      "pressure          9001 non-null float64\n",
      "temperature       9001 non-null float64\n",
      "humidity          9001 non-null float64\n",
      "wind_direction    7399 non-null float64\n",
      "wind_speed        9001 non-null float64\n",
      "prec_amount       9001 non-null float64\n",
      "prec_time         9001 non-null float64\n",
      "day_of_week       9001 non-null float64\n",
      "hour              9001 non-null float64\n",
      "sin_day           9001 non-null float64\n",
      "cos_day           9001 non-null float64\n",
      "sin_hour          9001 non-null float64\n",
      "cos_hour          9001 non-null float64\n",
      "P1_diff1          9001 non-null float64\n",
      "P1_diff2          9001 non-null float64\n",
      "P1_diff4          9001 non-null float64\n",
      "wind_sin          9001 non-null float64\n",
      "wind_cos          9001 non-null float64\n",
      "dtypes: float64(19)\n",
      "memory usage: 1.4 MB\n"
     ]
    }
   ],
   "source": [
    "data.info()"
   ]
  },
  {
   "cell_type": "code",
   "execution_count": 11,
   "metadata": {},
   "outputs": [],
   "source": [
    "train_data = data['2019-04-02 00:00:00+00:00':str(data.index[-1] - datetime.timedelta(days=50))]\n",
    "test_data = data[str(data.index[-1] - datetime.timedelta(days=50)):]"
   ]
  },
  {
   "cell_type": "code",
   "execution_count": 12,
   "metadata": {},
   "outputs": [],
   "source": [
    "def pp(start, end, n):\n",
    "    \"\"\"generation of random datetime indexes\"\"\"\n",
    "    start_u = start.value//10**9\n",
    "    end_u = end.value//10**9\n",
    "\n",
    "    return pd.DatetimeIndex((10**9*np.random.randint(start_u, end_u, n)).view('M8[ns]'))"
   ]
  },
  {
   "cell_type": "code",
   "execution_count": 13,
   "metadata": {},
   "outputs": [],
   "source": [
    "def generate_chunks(series, n, start, end, chunk_len, test_len, features):\n",
    "    chunks = []\n",
    "    for idx in pp(start, end, n):\n",
    "        train_part = series[str(idx):str(idx+datetime.timedelta(hours=chunk_len-test_len))]\n",
    "        test_part = series[str(idx+datetime.timedelta(hours=chunk_len-test_len)):str(idx+datetime.timedelta(hours=chunk_len))]\n",
    "        chunk = Chunk(train_part, test_part, features)\n",
    "        chunks.append(chunk)\n",
    "    return chunks"
   ]
  },
  {
   "cell_type": "code",
   "execution_count": 14,
   "metadata": {},
   "outputs": [],
   "source": [
    "chunk_len = 48\n",
    "test_len = 24\n",
    "train_start_idx = train_data.index[0]\n",
    "train_end_idx = train_data.index[-1] - datetime.timedelta(hours=chunk_len)\n",
    "train_num_samples = 2000\n",
    "features = ['pressure', 'temperature', 'humidity', 'wind_speed', 'prec_amount',\n",
    "           'sin_day', 'cos_day', 'sin_hour', 'cos_hour', 'wind_sin', 'wind_cos']\n",
    "np.random.seed(42)\n",
    "\n",
    "train_chunks = generate_chunks(train_data, train_num_samples,\n",
    "                               train_start_idx, train_end_idx,\n",
    "                               chunk_len, test_len, features)\n",
    "\n",
    "test_start_idx = test_data.index[0]\n",
    "test_end_idx = test_data.index[-1] - datetime.timedelta(hours=chunk_len)\n",
    "test_num_samples = 300\n",
    "\n",
    "test_chunks = generate_chunks(test_data, test_num_samples,\n",
    "                              test_start_idx, test_end_idx,\n",
    "                              chunk_len, test_len,\n",
    "                              features)"
   ]
  },
  {
   "cell_type": "code",
   "execution_count": 15,
   "metadata": {},
   "outputs": [],
   "source": [
    "train, train_meta = train_test_split(train_chunks, test_size=0.5, random_state=42)"
   ]
  },
  {
   "cell_type": "code",
   "execution_count": 16,
   "metadata": {},
   "outputs": [],
   "source": [
    "def train_models(model, chunks, num_models):\n",
    "    models = []\n",
    "    for i in range(num_models):\n",
    "        X = [chunk.get_X(i) for chunk in chunks]\n",
    "        local_model = clone(model)\n",
    "        y = [chunk.get_y(i) for chunk in chunks]\n",
    "        local_model.fit(X, y)\n",
    "        models.append(local_model)\n",
    "    return models"
   ]
  },
  {
   "cell_type": "code",
   "execution_count": 17,
   "metadata": {},
   "outputs": [],
   "source": [
    "def get_mae(models, chunks):\n",
    "    scores = []\n",
    "    for i in range(len(models)):\n",
    "        X = [chunk.get_X(i) for chunk in chunks]\n",
    "        local_model = models[i]\n",
    "        prediction = local_model.predict(X)\n",
    "        y = [chunk.get_y(i) for chunk in chunks]\n",
    "        mae = mean_absolute_error(y, prediction)\n",
    "        scores.append(mae)\n",
    "    return scores"
   ]
  },
  {
   "cell_type": "code",
   "execution_count": 18,
   "metadata": {},
   "outputs": [],
   "source": [
    "#mod = RandomForestRegressor(min_samples_leaf=3, random_state=42)\n",
    "mod = Lasso(alpha=1.05, random_state=42)\n",
    "models = train_models(mod, train, test_len)"
   ]
  },
  {
   "cell_type": "code",
   "execution_count": 19,
   "metadata": {},
   "outputs": [],
   "source": [
    "mae = get_mae(models, test_chunks)"
   ]
  },
  {
   "cell_type": "raw",
   "metadata": {},
   "source": [
    "alpha = [0.9, 0.95, 1.05, 1.1]\n",
    "for i in range(len(alpha)):\n",
    "    mod = Lasso(alpha=alpha[i], random_state=42)\n",
    "    models = train_models(mod, train, test_len)\n",
    "    mae = get_mae(models, test_chunks)\n",
    "    print(alpha[i], np.mean(mae))"
   ]
  },
  {
   "cell_type": "code",
   "execution_count": 20,
   "metadata": {},
   "outputs": [
    {
     "data": {
      "text/plain": [
       "([1.3818686332306016,\n",
       "  2.6767075418723976,\n",
       "  3.7553854464867142,\n",
       "  4.5314685777792345,\n",
       "  5.210327519721985,\n",
       "  5.627516226872461,\n",
       "  5.9598537407713446,\n",
       "  6.127353697892777,\n",
       "  6.260514144787482,\n",
       "  6.491897199008621,\n",
       "  6.844095066527886,\n",
       "  7.009613661408523,\n",
       "  7.1011727250836065,\n",
       "  7.0521771025069455,\n",
       "  6.923589941894011,\n",
       "  7.380104118142591,\n",
       "  7.704966266512092,\n",
       "  7.619836159141262,\n",
       "  7.727598085560696,\n",
       "  7.7109871350000105,\n",
       "  8.062983537325495,\n",
       "  8.088867058724714,\n",
       "  8.914555323318188,\n",
       "  9.22494414589755],\n",
       " 6.474515960644466)"
      ]
     },
     "execution_count": 20,
     "metadata": {},
     "output_type": "execute_result"
    }
   ],
   "source": [
    "mae, np.mean(mae)"
   ]
  },
  {
   "cell_type": "code",
   "execution_count": 21,
   "metadata": {},
   "outputs": [],
   "source": [
    "def train_meta_models(meta_model, models, chunks, num_models):\n",
    "    meta_models = []\n",
    "    for i in range(num_models):\n",
    "        X = [chunk.get_meta_X(i, models) for chunk in chunks]\n",
    "        local_model = clone(meta_model)\n",
    "        y = [chunk.get_y(i) for chunk in chunks]\n",
    "        local_model.fit(X, y)\n",
    "        meta_models.append(local_model)\n",
    "    return meta_models"
   ]
  },
  {
   "cell_type": "code",
   "execution_count": 22,
   "metadata": {},
   "outputs": [],
   "source": [
    "def get_meta_mae(models, meta_models, chunks):\n",
    "    scores = []\n",
    "    for i in range(len(models)):\n",
    "        X = [chunk.get_meta_X(i, models) for chunk in chunks]\n",
    "        local_model = meta_models[i]\n",
    "        prediction = local_model.predict(X)\n",
    "        y = [chunk.get_y(i) for chunk in chunks]\n",
    "        mae = mean_absolute_error(y, prediction)\n",
    "        scores.append(mae)\n",
    "    return scores"
   ]
  },
  {
   "cell_type": "code",
   "execution_count": 23,
   "metadata": {},
   "outputs": [
    {
     "name": "stdout",
     "output_type": "stream",
     "text": [
      "CPU times: user 16 s, sys: 87.6 ms, total: 16 s\n",
      "Wall time: 16.6 s\n"
     ]
    }
   ],
   "source": [
    "%%time\n",
    "#meta_model = Lasso(alpha=0.2, random_state=42)\n",
    "#meta_model = Ridge(alpha=0.6, random_state=42)\n",
    "meta_model = RandomForestRegressor(min_samples_leaf=55, random_state=42)\n",
    "meta_models = train_meta_models(meta_model, models, train_meta, test_len)"
   ]
  },
  {
   "cell_type": "code",
   "execution_count": 24,
   "metadata": {},
   "outputs": [],
   "source": [
    "meta_mae = get_meta_mae(models, meta_models, test_chunks)"
   ]
  },
  {
   "cell_type": "code",
   "execution_count": 25,
   "metadata": {},
   "outputs": [],
   "source": [
    "def get_feature_impotances(models):\n",
    "    importance = models[0].feature_importances_\n",
    "    for mod in models[1:]:\n",
    "        local_importance = mod.feature_importances_\n",
    "        importance += local_importance\n",
    "    importance = importance / len(models)\n",
    "    return list(importance)"
   ]
  },
  {
   "cell_type": "code",
   "execution_count": 26,
   "metadata": {},
   "outputs": [
    {
     "data": {
      "text/plain": [
       "[0.9247034417341339,\n",
       " 0.00783456934355325,\n",
       " 0.014932364697490865,\n",
       " 0.029626561741205596,\n",
       " 0.0073020995316430025,\n",
       " 7.65205622351443e-05,\n",
       " 0.0007887511009632822,\n",
       " 0.00015831545414380204,\n",
       " 0.000839522583071841,\n",
       " 0.0008800669824143228,\n",
       " 0.010195904283911346,\n",
       " 0.002661881985233615]"
      ]
     },
     "execution_count": 26,
     "metadata": {},
     "output_type": "execute_result"
    }
   ],
   "source": [
    "get_feature_impotances(meta_models)"
   ]
  },
  {
   "cell_type": "code",
   "execution_count": 27,
   "metadata": {},
   "outputs": [
    {
     "data": {
      "text/plain": [
       "6.28144626311527"
      ]
     },
     "execution_count": 27,
     "metadata": {},
     "output_type": "execute_result"
    }
   ],
   "source": [
    "np.mean(meta_mae)"
   ]
  },
  {
   "cell_type": "code",
   "execution_count": 28,
   "metadata": {},
   "outputs": [
    {
     "data": {
      "text/plain": [
       "6.28144626311527"
      ]
     },
     "execution_count": 28,
     "metadata": {},
     "output_type": "execute_result"
    }
   ],
   "source": [
    "np.mean(meta_mae)"
   ]
  },
  {
   "cell_type": "code",
   "execution_count": 29,
   "metadata": {},
   "outputs": [
    {
     "data": {
      "text/plain": [
       "<matplotlib.legend.Legend at 0x7f9d2547afd0>"
      ]
     },
     "execution_count": 29,
     "metadata": {},
     "output_type": "execute_result"
    },
    {
     "data": {
      "image/png": "[encoded data removed]",
      "text/plain": [
       "<Figure size 720x576 with 1 Axes>"
      ]
     },
     "metadata": {
      "needs_background": "light"
     },
     "output_type": "display_data"
    }
   ],
   "source": [
    "plt.plot(mae, label='model')\n",
    "plt.plot(meta_mae, label='meta_model')\n",
    "plt.legend()"
   ]
  },
  {
   "cell_type": "code",
   "execution_count": 30,
   "metadata": {},
   "outputs": [
    {
     "data": {
      "text/plain": [
       "([1.3818686332306016,\n",
       "  2.6767075418723976,\n",
       "  3.7553854464867142,\n",
       "  4.5314685777792345,\n",
       "  5.210327519721985,\n",
       "  5.627516226872461,\n",
       "  5.9598537407713446,\n",
       "  6.127353697892777,\n",
       "  6.260514144787482,\n",
       "  6.491897199008621,\n",
       "  6.844095066527886,\n",
       "  7.009613661408523,\n",
       "  7.1011727250836065,\n",
       "  7.0521771025069455,\n",
       "  6.923589941894011,\n",
       "  7.380104118142591,\n",
       "  7.704966266512092,\n",
       "  7.619836159141262,\n",
       "  7.727598085560696,\n",
       "  7.7109871350000105,\n",
       "  8.062983537325495,\n",
       "  8.088867058724714,\n",
       "  8.914555323318188,\n",
       "  9.22494414589755],\n",
       " 6.474515960644466)"
      ]
     },
     "execution_count": 30,
     "metadata": {},
     "output_type": "execute_result"
    }
   ],
   "source": [
    "mae, np.mean(mae)"
   ]
  },
  {
   "cell_type": "code",
   "execution_count": 31,
   "metadata": {},
   "outputs": [
    {
     "data": {
      "text/plain": [
       "([2.3733564382724026,\n",
       "  3.1208942016987327,\n",
       "  3.9222073885685784,\n",
       "  4.37611463001654,\n",
       "  5.119822346807143,\n",
       "  5.644422165835232,\n",
       "  5.76748984156587,\n",
       "  5.843060699943573,\n",
       "  5.984154804685341,\n",
       "  6.2186906147206935,\n",
       "  6.665550186096908,\n",
       "  6.699587810904041,\n",
       "  6.629527006143681,\n",
       "  6.858386192523823,\n",
       "  6.977595077949122,\n",
       "  7.351539725949503,\n",
       "  7.413703718693505,\n",
       "  7.28137031186906,\n",
       "  7.705714113180834,\n",
       "  7.481967750686781,\n",
       "  7.465079487057201,\n",
       "  7.3714087303420275,\n",
       "  8.070581004924962,\n",
       "  8.412486066330926],\n",
       " 6.28144626311527)"
      ]
     },
     "execution_count": 31,
     "metadata": {},
     "output_type": "execute_result"
    }
   ],
   "source": [
    "meta_mae, np.mean(meta_mae)"
   ]
  },
  {
   "cell_type": "code",
   "execution_count": null,
   "metadata": {},
   "outputs": [],
   "source": []
  }
 ],
 "metadata": {
  "kernelspec": {
   "display_name": "Python 3",
   "language": "python",
   "name": "python3"
  },
  "language_info": {
   "codemirror_mode": {
    "name": "ipython",
    "version": 3
   },
   "file_extension": ".py",
   "mimetype": "text/x-python",
   "name": "python",
   "nbconvert_exporter": "python",
   "pygments_lexer": "ipython3",
   "version": "3.7.4"
  },
  "toc": {
   "base_numbering": 1,
   "nav_menu": {},
   "number_sections": true,
   "sideBar": true,
   "skip_h1_title": false,
   "title_cell": "Table of Contents",
   "title_sidebar": "Contents",
   "toc_cell": false,
   "toc_position": {},
   "toc_section_display": true,
   "toc_window_display": false
  },
  "varInspector": {
   "cols": {
    "lenName": 16,
    "lenType": 16,
    "lenVar": 40
   },
   "kernels_config": {
    "python": {
     "delete_cmd_postfix": "",
     "delete_cmd_prefix": "del ",
     "library": "var_list.py",
     "varRefreshCmd": "print(var_dic_list())"
    },
    "r": {
     "delete_cmd_postfix": ") ",
     "delete_cmd_prefix": "rm(",
     "library": "var_list.r",
     "varRefreshCmd": "cat(var_dic_list()) "
    }
   },
   "types_to_exclude": [
    "module",
    "function",
    "builtin_function_or_method",
    "instance",
    "_Feature"
   ],
   "window_display": false
  }
 },
 "nbformat": 4,
 "nbformat_minor": 2
}
