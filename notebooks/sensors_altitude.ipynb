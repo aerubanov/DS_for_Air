{
 "cells": [
  {
   "cell_type": "code",
   "execution_count": 1,
   "metadata": {},
   "outputs": [],
   "source": [
    "import pandas as pd\n",
    "from datetime import timezone\n",
    "import matplotlib.pyplot as plt\n",
    "import requests\n",
    "import json"
   ]
  },
  {
   "cell_type": "code",
   "execution_count": 2,
   "metadata": {},
   "outputs": [],
   "source": [
    "sensors = pd.read_csv('../DATA/processed/sensors.csv', index_col=0)"
   ]
  },
  {
   "cell_type": "code",
   "execution_count": 3,
   "metadata": {},
   "outputs": [
    {
     "data": {
      "text/plain": [
       "SDS011    256\n",
       "BME280    181\n",
       "Name: sensor_type, dtype: int64"
      ]
     },
     "execution_count": 3,
     "metadata": {},
     "output_type": "execute_result"
    }
   ],
   "source": [
    "sensors.sensor_type.value_counts()"
   ]
  },
  {
   "cell_type": "code",
   "execution_count": 4,
   "metadata": {},
   "outputs": [
    {
     "data": {
      "text/html": [
       "<div>\n",
       "<style scoped>\n",
       "    .dataframe tbody tr th:only-of-type {\n",
       "        vertical-align: middle;\n",
       "    }\n",
       "\n",
       "    .dataframe tbody tr th {\n",
       "        vertical-align: top;\n",
       "    }\n",
       "\n",
       "    .dataframe thead th {\n",
       "        text-align: right;\n",
       "    }\n",
       "</style>\n",
       "<table border=\"1\" class=\"dataframe\">\n",
       "  <thead>\n",
       "    <tr style=\"text-align: right;\">\n",
       "      <th></th>\n",
       "      <th>sensor_id</th>\n",
       "      <th>sensor_type</th>\n",
       "      <th>lat</th>\n",
       "      <th>lon</th>\n",
       "    </tr>\n",
       "  </thead>\n",
       "  <tbody>\n",
       "    <tr>\n",
       "      <th>0</th>\n",
       "      <td>27418</td>\n",
       "      <td>SDS011</td>\n",
       "      <td>55.697960</td>\n",
       "      <td>37.535890</td>\n",
       "    </tr>\n",
       "    <tr>\n",
       "      <th>1</th>\n",
       "      <td>21332</td>\n",
       "      <td>SDS011</td>\n",
       "      <td>55.698000</td>\n",
       "      <td>37.498000</td>\n",
       "    </tr>\n",
       "    <tr>\n",
       "      <th>2</th>\n",
       "      <td>42870</td>\n",
       "      <td>SDS011</td>\n",
       "      <td>55.887121</td>\n",
       "      <td>37.265067</td>\n",
       "    </tr>\n",
       "    <tr>\n",
       "      <th>3</th>\n",
       "      <td>34535</td>\n",
       "      <td>SDS011</td>\n",
       "      <td>55.596000</td>\n",
       "      <td>37.538000</td>\n",
       "    </tr>\n",
       "    <tr>\n",
       "      <th>4</th>\n",
       "      <td>43811</td>\n",
       "      <td>SDS011</td>\n",
       "      <td>55.703017</td>\n",
       "      <td>37.459441</td>\n",
       "    </tr>\n",
       "  </tbody>\n",
       "</table>\n",
       "</div>"
      ],
      "text/plain": [
       "   sensor_id sensor_type        lat        lon\n",
       "0      27418      SDS011  55.697960  37.535890\n",
       "1      21332      SDS011  55.698000  37.498000\n",
       "2      42870      SDS011  55.887121  37.265067\n",
       "3      34535      SDS011  55.596000  37.538000\n",
       "4      43811      SDS011  55.703017  37.459441"
      ]
     },
     "execution_count": 4,
     "metadata": {},
     "output_type": "execute_result"
    }
   ],
   "source": [
    "sensors.head()"
   ]
  },
  {
   "cell_type": "code",
   "execution_count": 5,
   "metadata": {},
   "outputs": [],
   "source": [
    "sds_sensors = sensors[sensors.sensor_type=='SDS011']\n",
    "bme_sensors = sensors[sensors.sensor_type=='BME280']"
   ]
  },
  {
   "cell_type": "code",
   "execution_count": 6,
   "metadata": {},
   "outputs": [
    {
     "data": {
      "text/html": [
       "<div>\n",
       "<style scoped>\n",
       "    .dataframe tbody tr th:only-of-type {\n",
       "        vertical-align: middle;\n",
       "    }\n",
       "\n",
       "    .dataframe tbody tr th {\n",
       "        vertical-align: top;\n",
       "    }\n",
       "\n",
       "    .dataframe thead th {\n",
       "        text-align: right;\n",
       "    }\n",
       "</style>\n",
       "<table border=\"1\" class=\"dataframe\">\n",
       "  <thead>\n",
       "    <tr style=\"text-align: right;\">\n",
       "      <th></th>\n",
       "      <th>sds_sensor</th>\n",
       "      <th>bme_sensor</th>\n",
       "      <th>lat</th>\n",
       "      <th>lon</th>\n",
       "    </tr>\n",
       "  </thead>\n",
       "  <tbody>\n",
       "    <tr>\n",
       "      <th>882</th>\n",
       "      <td>43811</td>\n",
       "      <td>43812</td>\n",
       "      <td>55.703017</td>\n",
       "      <td>37.459441</td>\n",
       "    </tr>\n",
       "    <tr>\n",
       "      <th>1003</th>\n",
       "      <td>46280</td>\n",
       "      <td>46281</td>\n",
       "      <td>55.677867</td>\n",
       "      <td>37.456325</td>\n",
       "    </tr>\n",
       "    <tr>\n",
       "      <th>1186</th>\n",
       "      <td>33626</td>\n",
       "      <td>33627</td>\n",
       "      <td>55.874089</td>\n",
       "      <td>37.510001</td>\n",
       "    </tr>\n",
       "    <tr>\n",
       "      <th>1400</th>\n",
       "      <td>54815</td>\n",
       "      <td>54816</td>\n",
       "      <td>55.752000</td>\n",
       "      <td>37.884000</td>\n",
       "    </tr>\n",
       "    <tr>\n",
       "      <th>1561</th>\n",
       "      <td>45568</td>\n",
       "      <td>45569</td>\n",
       "      <td>55.625773</td>\n",
       "      <td>37.525268</td>\n",
       "    </tr>\n",
       "    <tr>\n",
       "      <th>...</th>\n",
       "      <td>...</td>\n",
       "      <td>...</td>\n",
       "      <td>...</td>\n",
       "      <td>...</td>\n",
       "    </tr>\n",
       "    <tr>\n",
       "      <th>45234</th>\n",
       "      <td>42920</td>\n",
       "      <td>42921</td>\n",
       "      <td>55.850951</td>\n",
       "      <td>37.348591</td>\n",
       "    </tr>\n",
       "    <tr>\n",
       "      <th>45261</th>\n",
       "      <td>41097</td>\n",
       "      <td>41098</td>\n",
       "      <td>55.563750</td>\n",
       "      <td>37.644380</td>\n",
       "    </tr>\n",
       "    <tr>\n",
       "      <th>45496</th>\n",
       "      <td>48427</td>\n",
       "      <td>48428</td>\n",
       "      <td>55.595953</td>\n",
       "      <td>37.598865</td>\n",
       "    </tr>\n",
       "    <tr>\n",
       "      <th>45647</th>\n",
       "      <td>35514</td>\n",
       "      <td>35515</td>\n",
       "      <td>55.650000</td>\n",
       "      <td>37.490000</td>\n",
       "    </tr>\n",
       "    <tr>\n",
       "      <th>46069</th>\n",
       "      <td>51384</td>\n",
       "      <td>51385</td>\n",
       "      <td>55.682000</td>\n",
       "      <td>37.462000</td>\n",
       "    </tr>\n",
       "  </tbody>\n",
       "</table>\n",
       "<p>179 rows × 4 columns</p>\n",
       "</div>"
      ],
      "text/plain": [
       "       sds_sensor  bme_sensor        lat        lon\n",
       "882         43811       43812  55.703017  37.459441\n",
       "1003        46280       46281  55.677867  37.456325\n",
       "1186        33626       33627  55.874089  37.510001\n",
       "1400        54815       54816  55.752000  37.884000\n",
       "1561        45568       45569  55.625773  37.525268\n",
       "...           ...         ...        ...        ...\n",
       "45234       42920       42921  55.850951  37.348591\n",
       "45261       41097       41098  55.563750  37.644380\n",
       "45496       48427       48428  55.595953  37.598865\n",
       "45647       35514       35515  55.650000  37.490000\n",
       "46069       51384       51385  55.682000  37.462000\n",
       "\n",
       "[179 rows x 4 columns]"
      ]
     },
     "execution_count": 6,
     "metadata": {},
     "output_type": "execute_result"
    }
   ],
   "source": [
    "sensors = (sds_sensors.assign(dummy=1)\n",
    "    .merge(bme_sensors.assign(dummy=1),on='dummy')\n",
    "    .query('lat_x==lat_y and lon_x==lon_y')\n",
    "    .drop('dummy', axis=1))[['sensor_id_x', 'sensor_id_y', 'lat_x', 'lon_x']]\n",
    "sensors = sensors.rename(columns={'sensor_id_x': 'sds_sensor',\n",
    "                                  'sensor_id_y': 'bme_sensor',\n",
    "                                  'lat_x': 'lat',\n",
    "                                  'lon_x': 'lon'})\n",
    "sensors"
   ]
  },
  {
   "cell_type": "code",
   "execution_count": 7,
   "metadata": {},
   "outputs": [],
   "source": [
    "press_meteo = pd.read_csv('../DATA/processed/dataset.csv', parse_dates=['date']).set_index('date').pres_meteo"
   ]
  },
  {
   "cell_type": "code",
   "execution_count": 8,
   "metadata": {},
   "outputs": [
    {
     "data": {
      "text/plain": [
       "date\n",
       "2019-04-01 00:00:00+00:00     99271.5612\n",
       "2019-04-01 00:05:00+00:00     99471.5442\n",
       "2019-04-01 00:10:00+00:00     99471.5442\n",
       "2019-04-01 00:15:00+00:00     99471.5442\n",
       "2019-04-01 00:20:00+00:00     99471.5442\n",
       "                                ...     \n",
       "2021-01-18 17:40:00+00:00    100231.4796\n",
       "2021-01-18 17:45:00+00:00    100231.4796\n",
       "2021-01-18 17:50:00+00:00    100231.4796\n",
       "2021-01-18 17:55:00+00:00    100231.4796\n",
       "2021-01-18 18:00:00+00:00    100231.4796\n",
       "Name: pres_meteo, Length: 189721, dtype: float64"
      ]
     },
     "execution_count": 8,
     "metadata": {},
     "output_type": "execute_result"
    }
   ],
   "source": [
    "press_meteo"
   ]
  },
  {
   "cell_type": "markdown",
   "metadata": {},
   "source": [
    "https://ru.wikipedia.org/wiki/%D0%91%D0%B0%D1%80%D0%BE%D0%BC%D0%B5%D1%82%D1%80%D0%B8%D1%87%D0%B5%D1%81%D0%BA%D0%B0%D1%8F_%D1%81%D1%82%D1%83%D0%BF%D0%B5%D0%BD%D1%8C"
   ]
  },
  {
   "cell_type": "code",
   "execution_count": 9,
   "metadata": {},
   "outputs": [],
   "source": [
    "def get_sealevel(bme_id):\n",
    "    # see details \n",
    "    file_name = f'{bme_id}_bme280_sensor_.csv'\n",
    "    bme_data = pd.read_csv('../DATA/raw/sensors/'+file_name, sep=';', parse_dates=['timestamp'])\n",
    "    bme_data = bme_data.set_index('timestamp').resample('5T').mean()\n",
    "    bme_data = bme_data.tz_localize(timezone.utc)\n",
    "    bme_data['press_diff'] = (bme_data['pressure'] - press_meteo) / 1000\n",
    "    bme_data['Q'] = 8000/(bme_data.pressure/1000) * (1 + 0.00366*bme_data.temperature)\n",
    "    bme_data['delta_h'] = - bme_data.Q * bme_data.press_diff\n",
    "    delta_h = bme_data.delta_h.median()\n",
    "    h = delta_h + 125 # высота метеостанции над уровнем моря\n",
    "    return h\n",
    "    "
   ]
  },
  {
   "cell_type": "code",
   "execution_count": 10,
   "metadata": {},
   "outputs": [
    {
     "name": "stderr",
     "output_type": "stream",
     "text": [
      "//home/anatoly/HDD/anaconda3/envs/mlforair/lib/python3.7/site-packages/numpy/lib/nanfunctions.py:1111: RuntimeWarning: Mean of empty slice\n",
      "  return np.nanmean(a, axis, out=out, keepdims=keepdims)\n"
     ]
    }
   ],
   "source": [
    "sealevels = []\n",
    "for index, row in sensors.iterrows():\n",
    "    sealevels.append(get_sealevel(int(row['bme_sensor'])))"
   ]
  },
  {
   "cell_type": "code",
   "execution_count": 11,
   "metadata": {},
   "outputs": [],
   "source": [
    "sensors['sealevel'] = sealevels"
   ]
  },
  {
   "cell_type": "code",
   "execution_count": 12,
   "metadata": {},
   "outputs": [],
   "source": [
    "import time\n",
    "\n",
    "surface_levels = []\n",
    "for index, row in sensors.iterrows():\n",
    "    lat, lon = row.lat, row.lon\n",
    "    resp = requests.get(f'https://api.opentopodata.org/v1/srtm30m?locations={lat},{lon}')\n",
    "    data = json.loads(resp.text)\n",
    "    surface_levels.append(data['results'][0]['elevation'])\n",
    "    time.sleep(1)\n"
   ]
  },
  {
   "cell_type": "code",
   "execution_count": 13,
   "metadata": {},
   "outputs": [],
   "source": [
    "sensors['surface_alt'] = surface_levels"
   ]
  },
  {
   "cell_type": "code",
   "execution_count": 14,
   "metadata": {},
   "outputs": [],
   "source": [
    "sensors['surface_level'] = sensors.sealevel - sensors.surface_alt"
   ]
  },
  {
   "cell_type": "code",
   "execution_count": 15,
   "metadata": {},
   "outputs": [
    {
     "data": {
      "text/html": [
       "<div>\n",
       "<style scoped>\n",
       "    .dataframe tbody tr th:only-of-type {\n",
       "        vertical-align: middle;\n",
       "    }\n",
       "\n",
       "    .dataframe tbody tr th {\n",
       "        vertical-align: top;\n",
       "    }\n",
       "\n",
       "    .dataframe thead th {\n",
       "        text-align: right;\n",
       "    }\n",
       "</style>\n",
       "<table border=\"1\" class=\"dataframe\">\n",
       "  <thead>\n",
       "    <tr style=\"text-align: right;\">\n",
       "      <th></th>\n",
       "      <th>sds_sensor</th>\n",
       "      <th>bme_sensor</th>\n",
       "      <th>lat</th>\n",
       "      <th>lon</th>\n",
       "      <th>sealevel</th>\n",
       "      <th>surface_alt</th>\n",
       "      <th>surface_level</th>\n",
       "    </tr>\n",
       "  </thead>\n",
       "  <tbody>\n",
       "    <tr>\n",
       "      <th>882</th>\n",
       "      <td>43811</td>\n",
       "      <td>43812</td>\n",
       "      <td>55.703017</td>\n",
       "      <td>37.459441</td>\n",
       "      <td>198.271350</td>\n",
       "      <td>163.0</td>\n",
       "      <td>35.271350</td>\n",
       "    </tr>\n",
       "    <tr>\n",
       "      <th>1003</th>\n",
       "      <td>46280</td>\n",
       "      <td>46281</td>\n",
       "      <td>55.677867</td>\n",
       "      <td>37.456325</td>\n",
       "      <td>179.684930</td>\n",
       "      <td>176.0</td>\n",
       "      <td>3.684930</td>\n",
       "    </tr>\n",
       "    <tr>\n",
       "      <th>1186</th>\n",
       "      <td>33626</td>\n",
       "      <td>33627</td>\n",
       "      <td>55.874089</td>\n",
       "      <td>37.510001</td>\n",
       "      <td>167.960469</td>\n",
       "      <td>176.0</td>\n",
       "      <td>-8.039531</td>\n",
       "    </tr>\n",
       "    <tr>\n",
       "      <th>1400</th>\n",
       "      <td>54815</td>\n",
       "      <td>54816</td>\n",
       "      <td>55.752000</td>\n",
       "      <td>37.884000</td>\n",
       "      <td>236.385167</td>\n",
       "      <td>153.0</td>\n",
       "      <td>83.385167</td>\n",
       "    </tr>\n",
       "    <tr>\n",
       "      <th>1561</th>\n",
       "      <td>45568</td>\n",
       "      <td>45569</td>\n",
       "      <td>55.625773</td>\n",
       "      <td>37.525268</td>\n",
       "      <td>263.580603</td>\n",
       "      <td>230.0</td>\n",
       "      <td>33.580603</td>\n",
       "    </tr>\n",
       "    <tr>\n",
       "      <th>...</th>\n",
       "      <td>...</td>\n",
       "      <td>...</td>\n",
       "      <td>...</td>\n",
       "      <td>...</td>\n",
       "      <td>...</td>\n",
       "      <td>...</td>\n",
       "      <td>...</td>\n",
       "    </tr>\n",
       "    <tr>\n",
       "      <th>45234</th>\n",
       "      <td>42920</td>\n",
       "      <td>42921</td>\n",
       "      <td>55.850951</td>\n",
       "      <td>37.348591</td>\n",
       "      <td>193.647666</td>\n",
       "      <td>176.0</td>\n",
       "      <td>17.647666</td>\n",
       "    </tr>\n",
       "    <tr>\n",
       "      <th>45261</th>\n",
       "      <td>41097</td>\n",
       "      <td>41098</td>\n",
       "      <td>55.563750</td>\n",
       "      <td>37.644380</td>\n",
       "      <td>169.748722</td>\n",
       "      <td>175.0</td>\n",
       "      <td>-5.251278</td>\n",
       "    </tr>\n",
       "    <tr>\n",
       "      <th>45496</th>\n",
       "      <td>48427</td>\n",
       "      <td>48428</td>\n",
       "      <td>55.595953</td>\n",
       "      <td>37.598865</td>\n",
       "      <td>194.379092</td>\n",
       "      <td>172.0</td>\n",
       "      <td>22.379092</td>\n",
       "    </tr>\n",
       "    <tr>\n",
       "      <th>45647</th>\n",
       "      <td>35514</td>\n",
       "      <td>35515</td>\n",
       "      <td>55.650000</td>\n",
       "      <td>37.490000</td>\n",
       "      <td>222.588161</td>\n",
       "      <td>200.0</td>\n",
       "      <td>22.588161</td>\n",
       "    </tr>\n",
       "    <tr>\n",
       "      <th>46069</th>\n",
       "      <td>51384</td>\n",
       "      <td>51385</td>\n",
       "      <td>55.682000</td>\n",
       "      <td>37.462000</td>\n",
       "      <td>242.700864</td>\n",
       "      <td>155.0</td>\n",
       "      <td>87.700864</td>\n",
       "    </tr>\n",
       "  </tbody>\n",
       "</table>\n",
       "<p>179 rows × 7 columns</p>\n",
       "</div>"
      ],
      "text/plain": [
       "       sds_sensor  bme_sensor        lat        lon    sealevel  surface_alt  \\\n",
       "882         43811       43812  55.703017  37.459441  198.271350        163.0   \n",
       "1003        46280       46281  55.677867  37.456325  179.684930        176.0   \n",
       "1186        33626       33627  55.874089  37.510001  167.960469        176.0   \n",
       "1400        54815       54816  55.752000  37.884000  236.385167        153.0   \n",
       "1561        45568       45569  55.625773  37.525268  263.580603        230.0   \n",
       "...           ...         ...        ...        ...         ...          ...   \n",
       "45234       42920       42921  55.850951  37.348591  193.647666        176.0   \n",
       "45261       41097       41098  55.563750  37.644380  169.748722        175.0   \n",
       "45496       48427       48428  55.595953  37.598865  194.379092        172.0   \n",
       "45647       35514       35515  55.650000  37.490000  222.588161        200.0   \n",
       "46069       51384       51385  55.682000  37.462000  242.700864        155.0   \n",
       "\n",
       "       surface_level  \n",
       "882        35.271350  \n",
       "1003        3.684930  \n",
       "1186       -8.039531  \n",
       "1400       83.385167  \n",
       "1561       33.580603  \n",
       "...              ...  \n",
       "45234      17.647666  \n",
       "45261      -5.251278  \n",
       "45496      22.379092  \n",
       "45647      22.588161  \n",
       "46069      87.700864  \n",
       "\n",
       "[179 rows x 7 columns]"
      ]
     },
     "execution_count": 15,
     "metadata": {},
     "output_type": "execute_result"
    }
   ],
   "source": [
    "sensors"
   ]
  },
  {
   "cell_type": "code",
   "execution_count": 16,
   "metadata": {},
   "outputs": [],
   "source": [
    "sensors.to_csv('sensors.csv', index=False)"
   ]
  },
  {
   "cell_type": "code",
   "execution_count": null,
   "metadata": {},
   "outputs": [],
   "source": []
  }
 ],
 "metadata": {
  "kernelspec": {
   "display_name": "Python 3",
   "language": "python",
   "name": "python3"
  },
  "language_info": {
   "codemirror_mode": {
    "name": "ipython",
    "version": 3
   },
   "file_extension": ".py",
   "mimetype": "text/x-python",
   "name": "python",
   "nbconvert_exporter": "python",
   "pygments_lexer": "ipython3",
   "version": "3.7.4"
  },
  "toc": {
   "base_numbering": 1,
   "nav_menu": {},
   "number_sections": true,
   "sideBar": true,
   "skip_h1_title": false,
   "title_cell": "Table of Contents",
   "title_sidebar": "Contents",
   "toc_cell": false,
   "toc_position": {},
   "toc_section_display": true,
   "toc_window_display": false
  },
  "varInspector": {
   "cols": {
    "lenName": 16,
    "lenType": 16,
    "lenVar": 40
   },
   "kernels_config": {
    "python": {
     "delete_cmd_postfix": "",
     "delete_cmd_prefix": "del ",
     "library": "var_list.py",
     "varRefreshCmd": "print(var_dic_list())"
    },
    "r": {
     "delete_cmd_postfix": ") ",
     "delete_cmd_prefix": "rm(",
     "library": "var_list.r",
     "varRefreshCmd": "cat(var_dic_list()) "
    }
   },
   "types_to_exclude": [
    "module",
    "function",
    "builtin_function_or_method",
    "instance",
    "_Feature"
   ],
   "window_display": false
  }
 },
 "nbformat": 4,
 "nbformat_minor": 2
}
