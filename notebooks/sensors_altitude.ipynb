{
 "cells": [
  {
   "cell_type": "code",
   "execution_count": 15,
   "metadata": {},
   "outputs": [],
   "source": [
    "import pandas as pd\n",
    "from datetime import timezone\n",
    "import matplotlib.pyplot as plt\n",
    "import requests\n",
    "import json"
   ]
  },
  {
   "cell_type": "code",
   "execution_count": 2,
   "metadata": {},
   "outputs": [],
   "source": [
    "sensors = pd.read_csv('../DATA/processed/sensors.csv', index_col=0)"
   ]
  },
  {
   "cell_type": "code",
   "execution_count": 3,
   "metadata": {},
   "outputs": [
    {
     "data": {
      "text/plain": [
       "SDS011    246\n",
       "BME280    171\n",
       "Name: sensor_type, dtype: int64"
      ]
     },
     "execution_count": 3,
     "metadata": {},
     "output_type": "execute_result"
    }
   ],
   "source": [
    "sensors.sensor_type.value_counts()"
   ]
  },
  {
   "cell_type": "code",
   "execution_count": 4,
   "metadata": {},
   "outputs": [
    {
     "data": {
      "text/html": [
       "<div>\n",
       "<style scoped>\n",
       "    .dataframe tbody tr th:only-of-type {\n",
       "        vertical-align: middle;\n",
       "    }\n",
       "\n",
       "    .dataframe tbody tr th {\n",
       "        vertical-align: top;\n",
       "    }\n",
       "\n",
       "    .dataframe thead th {\n",
       "        text-align: right;\n",
       "    }\n",
       "</style>\n",
       "<table border=\"1\" class=\"dataframe\">\n",
       "  <thead>\n",
       "    <tr style=\"text-align: right;\">\n",
       "      <th></th>\n",
       "      <th>sensor_id</th>\n",
       "      <th>sensor_type</th>\n",
       "      <th>lat</th>\n",
       "      <th>lon</th>\n",
       "    </tr>\n",
       "  </thead>\n",
       "  <tbody>\n",
       "    <tr>\n",
       "      <th>0</th>\n",
       "      <td>27418</td>\n",
       "      <td>SDS011</td>\n",
       "      <td>55.697960</td>\n",
       "      <td>37.535890</td>\n",
       "    </tr>\n",
       "    <tr>\n",
       "      <th>1</th>\n",
       "      <td>21332</td>\n",
       "      <td>SDS011</td>\n",
       "      <td>55.698000</td>\n",
       "      <td>37.498000</td>\n",
       "    </tr>\n",
       "    <tr>\n",
       "      <th>2</th>\n",
       "      <td>42870</td>\n",
       "      <td>SDS011</td>\n",
       "      <td>55.887121</td>\n",
       "      <td>37.265067</td>\n",
       "    </tr>\n",
       "    <tr>\n",
       "      <th>3</th>\n",
       "      <td>34535</td>\n",
       "      <td>SDS011</td>\n",
       "      <td>55.596000</td>\n",
       "      <td>37.538000</td>\n",
       "    </tr>\n",
       "    <tr>\n",
       "      <th>4</th>\n",
       "      <td>43811</td>\n",
       "      <td>SDS011</td>\n",
       "      <td>55.703017</td>\n",
       "      <td>37.459441</td>\n",
       "    </tr>\n",
       "  </tbody>\n",
       "</table>\n",
       "</div>"
      ],
      "text/plain": [
       "   sensor_id sensor_type        lat        lon\n",
       "0      27418      SDS011  55.697960  37.535890\n",
       "1      21332      SDS011  55.698000  37.498000\n",
       "2      42870      SDS011  55.887121  37.265067\n",
       "3      34535      SDS011  55.596000  37.538000\n",
       "4      43811      SDS011  55.703017  37.459441"
      ]
     },
     "execution_count": 4,
     "metadata": {},
     "output_type": "execute_result"
    }
   ],
   "source": [
    "sensors.head()"
   ]
  },
  {
   "cell_type": "code",
   "execution_count": 5,
   "metadata": {},
   "outputs": [],
   "source": [
    "sds_sensors = sensors[sensors.sensor_type=='SDS011']\n",
    "bme_sensors = sensors[sensors.sensor_type=='BME280']"
   ]
  },
  {
   "cell_type": "code",
   "execution_count": 6,
   "metadata": {},
   "outputs": [
    {
     "data": {
      "text/html": [
       "<div>\n",
       "<style scoped>\n",
       "    .dataframe tbody tr th:only-of-type {\n",
       "        vertical-align: middle;\n",
       "    }\n",
       "\n",
       "    .dataframe tbody tr th {\n",
       "        vertical-align: top;\n",
       "    }\n",
       "\n",
       "    .dataframe thead th {\n",
       "        text-align: right;\n",
       "    }\n",
       "</style>\n",
       "<table border=\"1\" class=\"dataframe\">\n",
       "  <thead>\n",
       "    <tr style=\"text-align: right;\">\n",
       "      <th></th>\n",
       "      <th>sds_sensor</th>\n",
       "      <th>bme_sensor</th>\n",
       "      <th>lat</th>\n",
       "      <th>lon</th>\n",
       "    </tr>\n",
       "  </thead>\n",
       "  <tbody>\n",
       "    <tr>\n",
       "      <th>833</th>\n",
       "      <td>43811</td>\n",
       "      <td>43812</td>\n",
       "      <td>55.703017</td>\n",
       "      <td>37.459441</td>\n",
       "    </tr>\n",
       "    <tr>\n",
       "      <th>947</th>\n",
       "      <td>46280</td>\n",
       "      <td>46281</td>\n",
       "      <td>55.677867</td>\n",
       "      <td>37.456325</td>\n",
       "    </tr>\n",
       "    <tr>\n",
       "      <th>1120</th>\n",
       "      <td>33626</td>\n",
       "      <td>33627</td>\n",
       "      <td>55.874089</td>\n",
       "      <td>37.510001</td>\n",
       "    </tr>\n",
       "    <tr>\n",
       "      <th>1304</th>\n",
       "      <td>45568</td>\n",
       "      <td>45569</td>\n",
       "      <td>55.625773</td>\n",
       "      <td>37.525268</td>\n",
       "    </tr>\n",
       "    <tr>\n",
       "      <th>1508</th>\n",
       "      <td>27213</td>\n",
       "      <td>27214</td>\n",
       "      <td>55.814000</td>\n",
       "      <td>37.460000</td>\n",
       "    </tr>\n",
       "    <tr>\n",
       "      <th>...</th>\n",
       "      <td>...</td>\n",
       "      <td>...</td>\n",
       "      <td>...</td>\n",
       "      <td>...</td>\n",
       "    </tr>\n",
       "    <tr>\n",
       "      <th>41025</th>\n",
       "      <td>42920</td>\n",
       "      <td>42921</td>\n",
       "      <td>55.850951</td>\n",
       "      <td>37.348591</td>\n",
       "    </tr>\n",
       "    <tr>\n",
       "      <th>41050</th>\n",
       "      <td>41097</td>\n",
       "      <td>41098</td>\n",
       "      <td>55.563750</td>\n",
       "      <td>37.644380</td>\n",
       "    </tr>\n",
       "    <tr>\n",
       "      <th>41271</th>\n",
       "      <td>48427</td>\n",
       "      <td>48428</td>\n",
       "      <td>55.595953</td>\n",
       "      <td>37.598865</td>\n",
       "    </tr>\n",
       "    <tr>\n",
       "      <th>41416</th>\n",
       "      <td>35514</td>\n",
       "      <td>35515</td>\n",
       "      <td>55.650000</td>\n",
       "      <td>37.490000</td>\n",
       "    </tr>\n",
       "    <tr>\n",
       "      <th>41813</th>\n",
       "      <td>51384</td>\n",
       "      <td>51385</td>\n",
       "      <td>55.682000</td>\n",
       "      <td>37.462000</td>\n",
       "    </tr>\n",
       "  </tbody>\n",
       "</table>\n",
       "<p>168 rows × 4 columns</p>\n",
       "</div>"
      ],
      "text/plain": [
       "       sds_sensor  bme_sensor        lat        lon\n",
       "833         43811       43812  55.703017  37.459441\n",
       "947         46280       46281  55.677867  37.456325\n",
       "1120        33626       33627  55.874089  37.510001\n",
       "1304        45568       45569  55.625773  37.525268\n",
       "1508        27213       27214  55.814000  37.460000\n",
       "...           ...         ...        ...        ...\n",
       "41025       42920       42921  55.850951  37.348591\n",
       "41050       41097       41098  55.563750  37.644380\n",
       "41271       48427       48428  55.595953  37.598865\n",
       "41416       35514       35515  55.650000  37.490000\n",
       "41813       51384       51385  55.682000  37.462000\n",
       "\n",
       "[168 rows x 4 columns]"
      ]
     },
     "execution_count": 6,
     "metadata": {},
     "output_type": "execute_result"
    }
   ],
   "source": [
    "sensors = (sds_sensors.assign(dummy=1)\n",
    "    .merge(bme_sensors.assign(dummy=1),on='dummy')\n",
    "    .query('lat_x==lat_y and lon_x==lon_y')\n",
    "    .drop('dummy', axis=1))[['sensor_id_x', 'sensor_id_y', 'lat_x', 'lon_x']]\n",
    "sensors = sensors.rename(columns={'sensor_id_x': 'sds_sensor',\n",
    "                                  'sensor_id_y': 'bme_sensor',\n",
    "                                  'lat_x': 'lat',\n",
    "                                  'lon_x': 'lon'})\n",
    "sensors"
   ]
  },
  {
   "cell_type": "code",
   "execution_count": 7,
   "metadata": {},
   "outputs": [],
   "source": [
    "press_meteo = pd.read_csv('../DATA/processed/dataset.csv', parse_dates=['date']).set_index('date').pres_meteo"
   ]
  },
  {
   "cell_type": "code",
   "execution_count": 8,
   "metadata": {},
   "outputs": [
    {
     "data": {
      "text/plain": [
       "date\n",
       "2019-04-01 00:00:00+00:00     99271.5612\n",
       "2019-04-01 00:05:00+00:00     99471.5442\n",
       "2019-04-01 00:10:00+00:00     99471.5442\n",
       "2019-04-01 00:15:00+00:00     99471.5442\n",
       "2019-04-01 00:20:00+00:00     99471.5442\n",
       "                                ...     \n",
       "2021-01-03 17:40:00+00:00    101324.7200\n",
       "2021-01-03 17:45:00+00:00    101324.7200\n",
       "2021-01-03 17:50:00+00:00    101324.7200\n",
       "2021-01-03 17:55:00+00:00    101324.7200\n",
       "2021-01-03 18:00:00+00:00    101324.7200\n",
       "Name: pres_meteo, Length: 185401, dtype: float64"
      ]
     },
     "execution_count": 8,
     "metadata": {},
     "output_type": "execute_result"
    }
   ],
   "source": [
    "press_meteo"
   ]
  },
  {
   "cell_type": "markdown",
   "metadata": {},
   "source": [
    "https://ru.wikipedia.org/wiki/%D0%91%D0%B0%D1%80%D0%BE%D0%BC%D0%B5%D1%82%D1%80%D0%B8%D1%87%D0%B5%D1%81%D0%BA%D0%B0%D1%8F_%D1%81%D1%82%D1%83%D0%BF%D0%B5%D0%BD%D1%8C"
   ]
  },
  {
   "cell_type": "code",
   "execution_count": 9,
   "metadata": {},
   "outputs": [],
   "source": [
    "def get_sealevel(bme_id):\n",
    "    # see details \n",
    "    file_name = f'{bme_id}_bme280_sensor_.csv'\n",
    "    bme_data = pd.read_csv('../DATA/raw/sensors/'+file_name, sep=';', parse_dates=['timestamp'])\n",
    "    bme_data = bme_data.set_index('timestamp').resample('5T').mean()\n",
    "    bme_data = bme_data.tz_localize(timezone.utc)\n",
    "    bme_data['press_diff'] = (bme_data['pressure'] - press_meteo) / 1000\n",
    "    bme_data['Q'] = 8000/(bme_data.pressure/1000) * (1 + 0.00366*bme_data.temperature)\n",
    "    bme_data['delta_h'] = - bme_data.Q * bme_data.press_diff\n",
    "    delta_h = bme_data.delta_h.median()\n",
    "    h = delta_h + 125 # высота метеостанции над уровнем моря\n",
    "    return h\n",
    "    "
   ]
  },
  {
   "cell_type": "code",
   "execution_count": 11,
   "metadata": {},
   "outputs": [
    {
     "name": "stdout",
     "output_type": "stream",
     "text": [
      "[198.44101235495413, 179.95334714151517, 168.125265823983, 263.5806029972, 157.7982775441712, 132.15232774736884, 155.21682591188318, 141.72816514065343, 193.68767526449574, 207.780272906518, 192.20963918461854, 158.70088863474416, 143.38027154604163, 204.7668662336162, 129.06069694991677, 215.13521878573144, 171.9126303863845, 190.70157118511435, 149.27612392744885, 240.99217253818222, 184.05120487634275, 131.59623441553234, 212.16472267174706, 182.4335847300856, 190.8739173208605, 229.29046520374587, 174.53817773335396, 185.18700615210543, 183.75989543112934, 178.85453034540595, 147.49586405929367, 138.7231614759093, 184.06162668111293, 153.34601995200603, 202.64578254774793, 182.02333258831345, 185.42887257107816, 186.52936307235728, 183.9956479398247, 221.69435931320675, 180.30923013601367, 139.9804191053286, 226.32939870450858, 195.13638062557084, 199.17104352690308, 211.86873506805938, 189.80798470979255, 263.3172643572521, 177.60457306008362, 176.47610164373233, 128.37341358700442, 174.04910937849831, 166.88834862417897, 151.77495991955897, 177.83858160746956, 169.61075006130872, 193.8873033040978, 147.49586405929367, 185.64766123917576, 185.0017924574675, 156.6838129124232, 253.26831737894764, 242.49563971864768, 157.01668923611436, 192.93576101646633, 146.32449840725388, 168.34969302999554, 196.30790550230964, 249.4871583647978, 159.15629669967592, 204.88561679874056, 216.69221884089103, 219.05506737693304, 210.8839881331255, 182.96537792319373, 280.3214112099814, 85.79070785600601, 136.4552349430927, 164.75259449015658, 238.22091197569395, 216.41464401729206, 178.41008895512348, 140.7188083556601, 176.0267212517606, 220.8840126382799, 177.6743359041172, 128.73355322727588, 128.7851387166475, 138.41515101561208, 183.366381557743, 178.14380284778903, 156.37870235464422, 171.7596946794155, 163.79347936558634, 136.68253574604958, 157.48004999048163, 175.58126328685017, 154.33327890299444, 200.80958193348522, 205.96973135715746, 168.8998923108101, 162.76362011907958, 199.6694572264313, 179.36599288192235, 193.48854484133363, 175.6583561964652, 176.2204439136484, 186.3714371074035, 189.01273535690228, 153.64823484140237, 131.82617437757625, 253.26831737894764, 242.49563971864768, 191.06160071733837, 207.24961605840542, 223.9807762942243, 216.1332387025888, 221.68015186746388, 151.18337262277188, 181.5139503651436, 206.2229302974941, 186.3714371074035, 189.01273535690228, 213.95707779956413, 153.3614610877391, 150.49920528538468, 257.86288188609916, 173.07587027314008, 135.94216638473142, 176.7881901240395, 234.68424788677981, 244.1856823217525, 195.0531877895396, 193.82652453011787, 141.50551060967462, 220.8411217555631, 196.36791718271695, 160.60273747047574, 189.0951335047755, 150.2850029558266, 219.99776054583447, 153.89293154080357, 151.1443344310555, 221.99029730729484, 141.04976634492417, 155.26601417834343, 156.66169739245447, 193.19176318271948, 185.6693705388056, 163.39857194847065, 156.5523181088938, 206.41757050725403, 212.90505081643263, 174.84592395702703, 241.84606851009315, 178.50165999962078, 112.90965740633541, 250.08513796326292, 171.94486054331423, 177.56747238366495, 183.085879563891, 127.28519761450033, 175.46176135679036, 193.78826728587285, 170.00625316404665, 195.13989010917925, 222.87152191803716, 242.72274541229547]\n"
     ]
    }
   ],
   "source": [
    "sealevels = []\n",
    "for index, row in sensors.iterrows():\n",
    "    sealevels.append(get_sealevel(int(row['bme_sensor'])))"
   ]
  },
  {
   "cell_type": "code",
   "execution_count": 12,
   "metadata": {},
   "outputs": [],
   "source": [
    "sensors['sealevel'] = sealevels"
   ]
  },
  {
   "cell_type": "code",
   "execution_count": 43,
   "metadata": {},
   "outputs": [],
   "source": [
    "import time\n",
    "\n",
    "surface_levels = []\n",
    "for index, row in sensors.iterrows():\n",
    "    lat, lon = row.lat, row.lon\n",
    "    resp = requests.get(f'https://api.opentopodata.org/v1/srtm30m?locations={lat},{lon}')\n",
    "    data = json.loads(resp.text)\n",
    "    surface_levels.append(data['results'][0]['elevation'])\n",
    "    time.sleep(1)\n"
   ]
  },
  {
   "cell_type": "code",
   "execution_count": 44,
   "metadata": {},
   "outputs": [],
   "source": [
    "sensors['surface_alt'] = surface_levels"
   ]
  },
  {
   "cell_type": "code",
   "execution_count": 46,
   "metadata": {},
   "outputs": [],
   "source": [
    "sensors['surface_level'] = sensors.sealevel - sensors.surface_alt"
   ]
  },
  {
   "cell_type": "code",
   "execution_count": 47,
   "metadata": {},
   "outputs": [
    {
     "data": {
      "text/html": [
       "<div>\n",
       "<style scoped>\n",
       "    .dataframe tbody tr th:only-of-type {\n",
       "        vertical-align: middle;\n",
       "    }\n",
       "\n",
       "    .dataframe tbody tr th {\n",
       "        vertical-align: top;\n",
       "    }\n",
       "\n",
       "    .dataframe thead th {\n",
       "        text-align: right;\n",
       "    }\n",
       "</style>\n",
       "<table border=\"1\" class=\"dataframe\">\n",
       "  <thead>\n",
       "    <tr style=\"text-align: right;\">\n",
       "      <th></th>\n",
       "      <th>sds_sensor</th>\n",
       "      <th>bme_sensor</th>\n",
       "      <th>lat</th>\n",
       "      <th>lon</th>\n",
       "      <th>sealevel</th>\n",
       "      <th>surface_alt</th>\n",
       "      <th>surface_level</th>\n",
       "    </tr>\n",
       "  </thead>\n",
       "  <tbody>\n",
       "    <tr>\n",
       "      <th>833</th>\n",
       "      <td>43811</td>\n",
       "      <td>43812</td>\n",
       "      <td>55.703017</td>\n",
       "      <td>37.459441</td>\n",
       "      <td>198.441012</td>\n",
       "      <td>163.0</td>\n",
       "      <td>35.441012</td>\n",
       "    </tr>\n",
       "    <tr>\n",
       "      <th>947</th>\n",
       "      <td>46280</td>\n",
       "      <td>46281</td>\n",
       "      <td>55.677867</td>\n",
       "      <td>37.456325</td>\n",
       "      <td>179.953347</td>\n",
       "      <td>176.0</td>\n",
       "      <td>3.953347</td>\n",
       "    </tr>\n",
       "    <tr>\n",
       "      <th>1120</th>\n",
       "      <td>33626</td>\n",
       "      <td>33627</td>\n",
       "      <td>55.874089</td>\n",
       "      <td>37.510001</td>\n",
       "      <td>168.125266</td>\n",
       "      <td>176.0</td>\n",
       "      <td>-7.874734</td>\n",
       "    </tr>\n",
       "    <tr>\n",
       "      <th>1304</th>\n",
       "      <td>45568</td>\n",
       "      <td>45569</td>\n",
       "      <td>55.625773</td>\n",
       "      <td>37.525268</td>\n",
       "      <td>263.580603</td>\n",
       "      <td>230.0</td>\n",
       "      <td>33.580603</td>\n",
       "    </tr>\n",
       "    <tr>\n",
       "      <th>1508</th>\n",
       "      <td>27213</td>\n",
       "      <td>27214</td>\n",
       "      <td>55.814000</td>\n",
       "      <td>37.460000</td>\n",
       "      <td>157.798278</td>\n",
       "      <td>152.0</td>\n",
       "      <td>5.798278</td>\n",
       "    </tr>\n",
       "    <tr>\n",
       "      <th>...</th>\n",
       "      <td>...</td>\n",
       "      <td>...</td>\n",
       "      <td>...</td>\n",
       "      <td>...</td>\n",
       "      <td>...</td>\n",
       "      <td>...</td>\n",
       "      <td>...</td>\n",
       "    </tr>\n",
       "    <tr>\n",
       "      <th>41025</th>\n",
       "      <td>42920</td>\n",
       "      <td>42921</td>\n",
       "      <td>55.850951</td>\n",
       "      <td>37.348591</td>\n",
       "      <td>193.788267</td>\n",
       "      <td>176.0</td>\n",
       "      <td>17.788267</td>\n",
       "    </tr>\n",
       "    <tr>\n",
       "      <th>41050</th>\n",
       "      <td>41097</td>\n",
       "      <td>41098</td>\n",
       "      <td>55.563750</td>\n",
       "      <td>37.644380</td>\n",
       "      <td>170.006253</td>\n",
       "      <td>175.0</td>\n",
       "      <td>-4.993747</td>\n",
       "    </tr>\n",
       "    <tr>\n",
       "      <th>41271</th>\n",
       "      <td>48427</td>\n",
       "      <td>48428</td>\n",
       "      <td>55.595953</td>\n",
       "      <td>37.598865</td>\n",
       "      <td>195.139890</td>\n",
       "      <td>172.0</td>\n",
       "      <td>23.139890</td>\n",
       "    </tr>\n",
       "    <tr>\n",
       "      <th>41416</th>\n",
       "      <td>35514</td>\n",
       "      <td>35515</td>\n",
       "      <td>55.650000</td>\n",
       "      <td>37.490000</td>\n",
       "      <td>222.871522</td>\n",
       "      <td>200.0</td>\n",
       "      <td>22.871522</td>\n",
       "    </tr>\n",
       "    <tr>\n",
       "      <th>41813</th>\n",
       "      <td>51384</td>\n",
       "      <td>51385</td>\n",
       "      <td>55.682000</td>\n",
       "      <td>37.462000</td>\n",
       "      <td>242.722745</td>\n",
       "      <td>155.0</td>\n",
       "      <td>87.722745</td>\n",
       "    </tr>\n",
       "  </tbody>\n",
       "</table>\n",
       "<p>168 rows × 7 columns</p>\n",
       "</div>"
      ],
      "text/plain": [
       "       sds_sensor  bme_sensor        lat        lon    sealevel  surface_alt  \\\n",
       "833         43811       43812  55.703017  37.459441  198.441012        163.0   \n",
       "947         46280       46281  55.677867  37.456325  179.953347        176.0   \n",
       "1120        33626       33627  55.874089  37.510001  168.125266        176.0   \n",
       "1304        45568       45569  55.625773  37.525268  263.580603        230.0   \n",
       "1508        27213       27214  55.814000  37.460000  157.798278        152.0   \n",
       "...           ...         ...        ...        ...         ...          ...   \n",
       "41025       42920       42921  55.850951  37.348591  193.788267        176.0   \n",
       "41050       41097       41098  55.563750  37.644380  170.006253        175.0   \n",
       "41271       48427       48428  55.595953  37.598865  195.139890        172.0   \n",
       "41416       35514       35515  55.650000  37.490000  222.871522        200.0   \n",
       "41813       51384       51385  55.682000  37.462000  242.722745        155.0   \n",
       "\n",
       "       surface_level  \n",
       "833        35.441012  \n",
       "947         3.953347  \n",
       "1120       -7.874734  \n",
       "1304       33.580603  \n",
       "1508        5.798278  \n",
       "...              ...  \n",
       "41025      17.788267  \n",
       "41050      -4.993747  \n",
       "41271      23.139890  \n",
       "41416      22.871522  \n",
       "41813      87.722745  \n",
       "\n",
       "[168 rows x 7 columns]"
      ]
     },
     "execution_count": 47,
     "metadata": {},
     "output_type": "execute_result"
    }
   ],
   "source": [
    "sensors"
   ]
  },
  {
   "cell_type": "code",
   "execution_count": 48,
   "metadata": {},
   "outputs": [],
   "source": [
    "sensors.to_csv('sensors.csv', index=False)"
   ]
  },
  {
   "cell_type": "code",
   "execution_count": null,
   "metadata": {},
   "outputs": [],
   "source": []
  }
 ],
 "metadata": {
  "kernelspec": {
   "display_name": "Python 3",
   "language": "python",
   "name": "python3"
  },
  "language_info": {
   "codemirror_mode": {
    "name": "ipython",
    "version": 3
   },
   "file_extension": ".py",
   "mimetype": "text/x-python",
   "name": "python",
   "nbconvert_exporter": "python",
   "pygments_lexer": "ipython3",
   "version": "3.7.4"
  },
  "toc": {
   "base_numbering": 1,
   "nav_menu": {},
   "number_sections": true,
   "sideBar": true,
   "skip_h1_title": false,
   "title_cell": "Table of Contents",
   "title_sidebar": "Contents",
   "toc_cell": false,
   "toc_position": {},
   "toc_section_display": true,
   "toc_window_display": false
  },
  "varInspector": {
   "cols": {
    "lenName": 16,
    "lenType": 16,
    "lenVar": 40
   },
   "kernels_config": {
    "python": {
     "delete_cmd_postfix": "",
     "delete_cmd_prefix": "del ",
     "library": "var_list.py",
     "varRefreshCmd": "print(var_dic_list())"
    },
    "r": {
     "delete_cmd_postfix": ") ",
     "delete_cmd_prefix": "rm(",
     "library": "var_list.r",
     "varRefreshCmd": "cat(var_dic_list()) "
    }
   },
   "types_to_exclude": [
    "module",
    "function",
    "builtin_function_or_method",
    "instance",
    "_Feature"
   ],
   "window_display": false
  }
 },
 "nbformat": 4,
 "nbformat_minor": 2
}
