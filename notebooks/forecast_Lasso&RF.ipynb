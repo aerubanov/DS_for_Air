{
 "cells": [
  {
   "cell_type": "code",
   "execution_count": 2,
   "metadata": {},
   "outputs": [
    {
     "name": "stdout",
     "output_type": "stream",
     "text": [
      "The autoreload extension is already loaded. To reload it, use:\n",
      "  %reload_ext autoreload\n"
     ]
    }
   ],
   "source": [
    "import pandas as pd\n",
    "import matplotlib.pyplot as plt\n",
    "import datetime\n",
    "import typing\n",
    "import numpy as np\n",
    "from sklearn.linear_model import LinearRegression, Ridge, Lasso\n",
    "from sklearn.ensemble import RandomForestRegressor\n",
    "from sklearn.metrics import mean_absolute_error\n",
    "from sklearn.preprocessing import StandardScaler, PolynomialFeatures\n",
    "from sklearn.model_selection import train_test_split\n",
    "from sklearn.base import clone\n",
    "import seaborn as sns\n",
    "\n",
    "%matplotlib inline\n",
    "plt.rcParams['figure.figsize'] = (10.0, 8.0) # set default size of plots\n",
    "\n",
    "%load_ext autoreload\n",
    "%autoreload 2\n",
    "\n",
    "np.random.seed(42)"
   ]
  },
  {
   "cell_type": "code",
   "execution_count": 3,
   "metadata": {},
   "outputs": [],
   "source": [
    "class Chunk:\n",
    "    def __init__(self, train_part, test_part, feature_names):\n",
    "        self.train = train_part\n",
    "        self.test = test_part\n",
    "        self.features = feature_names\n",
    "        \n",
    "    def get_X(self, forvard_time):\n",
    "        X = list(self.train.P1.values)\n",
    "        for feature in self.features:\n",
    "            X.append(self.test[feature].values[forvard_time])\n",
    "        return X\n",
    "    \n",
    "    def get_y(self, forward_time):\n",
    "        y = self.test.P1.values[forward_time]\n",
    "        return y\n",
    "    \n",
    "    def add_feature(self, feature_name):\n",
    "        self.train.append(feature_value)\n",
    "        \n",
    "        "
   ]
  },
  {
   "cell_type": "code",
   "execution_count": 4,
   "metadata": {},
   "outputs": [],
   "source": [
    "def prepare_data(data):\n",
    "    data['P1'] = data.P1.interpolate()\n",
    "    data['pressure'] = data.pressure.interpolate()\n",
    "    data['humidity'] = data.humidity.interpolate()\n",
    "    data['temperature'] = data.temperature.interpolate()\n",
    "    return data"
   ]
  },
  {
   "cell_type": "code",
   "execution_count": 5,
   "metadata": {},
   "outputs": [],
   "source": [
    "data = pd.read_csv('../DATA/processed/dataset.csv', parse_dates=['date'])\n",
    "data = data.set_index('date')"
   ]
  },
  {
   "cell_type": "code",
   "execution_count": 6,
   "metadata": {},
   "outputs": [],
   "source": [
    "sel_columns = ['P1', 'pressure', 'temperature', 'humidity', 'wind_direction',\n",
    "               'wind_speed', 'prec_amount', 'prec_time']\n",
    "data = data[sel_columns]"
   ]
  },
  {
   "cell_type": "code",
   "execution_count": 7,
   "metadata": {},
   "outputs": [],
   "source": [
    "data = prepare_data(data)"
   ]
  },
  {
   "cell_type": "code",
   "execution_count": 8,
   "metadata": {},
   "outputs": [
    {
     "name": "stdout",
     "output_type": "stream",
     "text": [
      "<class 'pandas.core.frame.DataFrame'>\n",
      "DatetimeIndex: 119161 entries, 2019-04-01 00:00:00+00:00 to 2020-05-18 18:00:00+00:00\n",
      "Data columns (total 8 columns):\n",
      " #   Column          Non-Null Count   Dtype  \n",
      "---  ------          --------------   -----  \n",
      " 0   P1              119161 non-null  float64\n",
      " 1   pressure        119161 non-null  float64\n",
      " 2   temperature     119161 non-null  float64\n",
      " 3   humidity        119161 non-null  float64\n",
      " 4   wind_direction  119161 non-null  object \n",
      " 5   wind_speed      119161 non-null  int64  \n",
      " 6   prec_amount     58572 non-null   object \n",
      " 7   prec_time       58572 non-null   float64\n",
      "dtypes: float64(5), int64(1), object(2)\n",
      "memory usage: 8.2+ MB\n"
     ]
    }
   ],
   "source": [
    "data.info()"
   ]
  },
  {
   "cell_type": "code",
   "execution_count": 9,
   "metadata": {},
   "outputs": [],
   "source": [
    "def pp(start, end, n):\n",
    "    \"\"\"generation of random datetime indexes\"\"\"\n",
    "    start_u = start.value//10**9\n",
    "    end_u = end.value//10**9\n",
    "\n",
    "    return pd.DatetimeIndex((10**9*np.random.randint(start_u, end_u, n)).view('M8[ns]'))"
   ]
  },
  {
   "cell_type": "code",
   "execution_count": 10,
   "metadata": {},
   "outputs": [],
   "source": [
    "def generate_chunks(series, n, start, end, chunk_len, test_len, features):\n",
    "    chunks = []\n",
    "    for idx in pp(start, end, n):\n",
    "        train_part = series[str(idx):str(idx+datetime.timedelta(hours=chunk_len-test_len))]\n",
    "        test_part = series[str(idx+datetime.timedelta(hours=chunk_len-test_len)):str(idx+datetime.timedelta(hours=chunk_len))]\n",
    "        chunk = Chunk(train_part, test_part, features)\n",
    "        chunks.append(chunk)\n",
    "    return chunks"
   ]
  },
  {
   "cell_type": "code",
   "execution_count": 11,
   "metadata": {},
   "outputs": [],
   "source": [
    "chunk_len = 48\n",
    "test_len = 24\n",
    "start_idx = data.index[0]\n",
    "end_idx = data.index[-1] - datetime.timedelta(hours=chunk_len)\n",
    "num_samples = 1700\n",
    "\n",
    "chunks = generate_chunks(data.resample('1H').mean(), num_samples,\n",
    "                         start_idx, end_idx,\n",
    "                         chunk_len, test_len,\n",
    "                         []\n",
    "                        )"
   ]
  },
  {
   "cell_type": "code",
   "execution_count": 12,
   "metadata": {},
   "outputs": [],
   "source": [
    "train, test = train_test_split(chunks, test_size=0.3, random_state=42)"
   ]
  },
  {
   "cell_type": "code",
   "execution_count": 13,
   "metadata": {},
   "outputs": [],
   "source": [
    "def train_models(model, chunks, num_models):\n",
    "    models = []\n",
    "    for i in range(num_models):\n",
    "        X = [chunk.get_X(i) for chunk in chunks]\n",
    "        local_model = clone(model)\n",
    "        y = [chunk.get_y(i) for chunk in chunks]\n",
    "        local_model.fit(X, y)\n",
    "        models.append(local_model)\n",
    "    return models"
   ]
  },
  {
   "cell_type": "code",
   "execution_count": 14,
   "metadata": {},
   "outputs": [],
   "source": [
    "def get_mae(models, chunks):\n",
    "    scores = []\n",
    "    for i in range(len(models)):\n",
    "        X = [chunk.get_X(i) for chunk in chunks]\n",
    "        local_model = models[i]\n",
    "        prediction = local_model.predict(X)\n",
    "        y = [chunk.get_y(i) for chunk in chunks]\n",
    "        mae = mean_absolute_error(y, prediction)\n",
    "        scores.append(mae)\n",
    "    return scores"
   ]
  },
  {
   "cell_type": "code",
   "execution_count": 15,
   "metadata": {},
   "outputs": [],
   "source": [
    "mod = Lasso(alpha=0.2)\n",
    "models = train_models(mod, train, test_len)"
   ]
  },
  {
   "cell_type": "code",
   "execution_count": 16,
   "metadata": {},
   "outputs": [],
   "source": [
    "mae = get_mae(models, test)"
   ]
  },
  {
   "cell_type": "code",
   "execution_count": 17,
   "metadata": {},
   "outputs": [],
   "source": [
    "mod1 = RandomForestRegressor(min_samples_leaf=3, random_state=42)\n",
    "models1 = train_models(mod1, train, test_len)"
   ]
  },
  {
   "cell_type": "code",
   "execution_count": 18,
   "metadata": {},
   "outputs": [],
   "source": [
    "mae1= get_mae(models1, test)"
   ]
  },
  {
   "cell_type": "code",
   "execution_count": 19,
   "metadata": {},
   "outputs": [
    {
     "data": {
      "text/plain": [
       "<matplotlib.legend.Legend at 0x7f6c5d4f5510>"
      ]
     },
     "execution_count": 19,
     "metadata": {},
     "output_type": "execute_result"
    },
    {
     "data": {
      "image/png": "[encoded data removed]",
      "text/plain": [
       "<Figure size 720x576 with 1 Axes>"
      ]
     },
     "metadata": {
      "needs_background": "light"
     },
     "output_type": "display_data"
    }
   ],
   "source": [
    "plt.plot(mae, label='Lasso')\n",
    "plt.plot(mae1, label='RF')\n",
    "plt.legend()"
   ]
  },
  {
   "cell_type": "code",
   "execution_count": null,
   "metadata": {},
   "outputs": [],
   "source": []
  }
 ],
 "metadata": {
  "kernelspec": {
   "display_name": "Python 3",
   "language": "python",
   "name": "python3"
  },
  "language_info": {
   "codemirror_mode": {
    "name": "ipython",
    "version": 3
   },
   "file_extension": ".py",
   "mimetype": "text/x-python",
   "name": "python",
   "nbconvert_exporter": "python",
   "pygments_lexer": "ipython3",
   "version": "3.7.4"
  },
  "toc": {
   "base_numbering": 1,
   "nav_menu": {},
   "number_sections": true,
   "sideBar": true,
   "skip_h1_title": false,
   "title_cell": "Table of Contents",
   "title_sidebar": "Contents",
   "toc_cell": false,
   "toc_position": {},
   "toc_section_display": true,
   "toc_window_display": false
  },
  "varInspector": {
   "cols": {
    "lenName": 16,
    "lenType": 16,
    "lenVar": 40
   },
   "kernels_config": {
    "python": {
     "delete_cmd_postfix": "",
     "delete_cmd_prefix": "del ",
     "library": "var_list.py",
     "varRefreshCmd": "print(var_dic_list())"
    },
    "r": {
     "delete_cmd_postfix": ") ",
     "delete_cmd_prefix": "rm(",
     "library": "var_list.r",
     "varRefreshCmd": "cat(var_dic_list()) "
    }
   },
   "types_to_exclude": [
    "module",
    "function",
    "builtin_function_or_method",
    "instance",
    "_Feature"
   ],
   "window_display": false
  }
 },
 "nbformat": 4,
 "nbformat_minor": 2
}
