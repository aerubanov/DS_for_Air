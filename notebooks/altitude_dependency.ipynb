{
 "cells": [
  {
   "cell_type": "code",
   "execution_count": 1,
   "metadata": {},
   "outputs": [],
   "source": [
    "import pandas as pd\n",
    "from datetime import timezone"
   ]
  },
  {
   "cell_type": "code",
   "execution_count": 2,
   "metadata": {},
   "outputs": [],
   "source": [
    "sensors = pd.read_csv('sensors.csv')"
   ]
  },
  {
   "cell_type": "code",
   "execution_count": 3,
   "metadata": {},
   "outputs": [
    {
     "data": {
      "text/html": [
       "<div>\n",
       "<style scoped>\n",
       "    .dataframe tbody tr th:only-of-type {\n",
       "        vertical-align: middle;\n",
       "    }\n",
       "\n",
       "    .dataframe tbody tr th {\n",
       "        vertical-align: top;\n",
       "    }\n",
       "\n",
       "    .dataframe thead th {\n",
       "        text-align: right;\n",
       "    }\n",
       "</style>\n",
       "<table border=\"1\" class=\"dataframe\">\n",
       "  <thead>\n",
       "    <tr style=\"text-align: right;\">\n",
       "      <th></th>\n",
       "      <th>sds_sensor</th>\n",
       "      <th>bme_sensor</th>\n",
       "      <th>lat</th>\n",
       "      <th>lon</th>\n",
       "      <th>sealevel</th>\n",
       "      <th>surface_alt</th>\n",
       "      <th>surface_level</th>\n",
       "    </tr>\n",
       "  </thead>\n",
       "  <tbody>\n",
       "    <tr>\n",
       "      <th>0</th>\n",
       "      <td>43811</td>\n",
       "      <td>43812</td>\n",
       "      <td>55.703017</td>\n",
       "      <td>37.459441</td>\n",
       "      <td>198.271350</td>\n",
       "      <td>163.0</td>\n",
       "      <td>35.271350</td>\n",
       "    </tr>\n",
       "    <tr>\n",
       "      <th>1</th>\n",
       "      <td>46280</td>\n",
       "      <td>46281</td>\n",
       "      <td>55.677867</td>\n",
       "      <td>37.456325</td>\n",
       "      <td>179.684930</td>\n",
       "      <td>176.0</td>\n",
       "      <td>3.684930</td>\n",
       "    </tr>\n",
       "    <tr>\n",
       "      <th>2</th>\n",
       "      <td>33626</td>\n",
       "      <td>33627</td>\n",
       "      <td>55.874089</td>\n",
       "      <td>37.510001</td>\n",
       "      <td>167.960469</td>\n",
       "      <td>176.0</td>\n",
       "      <td>-8.039531</td>\n",
       "    </tr>\n",
       "    <tr>\n",
       "      <th>3</th>\n",
       "      <td>54815</td>\n",
       "      <td>54816</td>\n",
       "      <td>55.752000</td>\n",
       "      <td>37.884000</td>\n",
       "      <td>236.385167</td>\n",
       "      <td>153.0</td>\n",
       "      <td>83.385167</td>\n",
       "    </tr>\n",
       "    <tr>\n",
       "      <th>4</th>\n",
       "      <td>45568</td>\n",
       "      <td>45569</td>\n",
       "      <td>55.625773</td>\n",
       "      <td>37.525268</td>\n",
       "      <td>263.580603</td>\n",
       "      <td>230.0</td>\n",
       "      <td>33.580603</td>\n",
       "    </tr>\n",
       "    <tr>\n",
       "      <th>...</th>\n",
       "      <td>...</td>\n",
       "      <td>...</td>\n",
       "      <td>...</td>\n",
       "      <td>...</td>\n",
       "      <td>...</td>\n",
       "      <td>...</td>\n",
       "      <td>...</td>\n",
       "    </tr>\n",
       "    <tr>\n",
       "      <th>174</th>\n",
       "      <td>42920</td>\n",
       "      <td>42921</td>\n",
       "      <td>55.850951</td>\n",
       "      <td>37.348591</td>\n",
       "      <td>193.647666</td>\n",
       "      <td>176.0</td>\n",
       "      <td>17.647666</td>\n",
       "    </tr>\n",
       "    <tr>\n",
       "      <th>175</th>\n",
       "      <td>41097</td>\n",
       "      <td>41098</td>\n",
       "      <td>55.563750</td>\n",
       "      <td>37.644380</td>\n",
       "      <td>169.748722</td>\n",
       "      <td>175.0</td>\n",
       "      <td>-5.251278</td>\n",
       "    </tr>\n",
       "    <tr>\n",
       "      <th>176</th>\n",
       "      <td>48427</td>\n",
       "      <td>48428</td>\n",
       "      <td>55.595953</td>\n",
       "      <td>37.598865</td>\n",
       "      <td>194.379092</td>\n",
       "      <td>172.0</td>\n",
       "      <td>22.379092</td>\n",
       "    </tr>\n",
       "    <tr>\n",
       "      <th>177</th>\n",
       "      <td>35514</td>\n",
       "      <td>35515</td>\n",
       "      <td>55.650000</td>\n",
       "      <td>37.490000</td>\n",
       "      <td>222.588161</td>\n",
       "      <td>200.0</td>\n",
       "      <td>22.588161</td>\n",
       "    </tr>\n",
       "    <tr>\n",
       "      <th>178</th>\n",
       "      <td>51384</td>\n",
       "      <td>51385</td>\n",
       "      <td>55.682000</td>\n",
       "      <td>37.462000</td>\n",
       "      <td>242.700864</td>\n",
       "      <td>155.0</td>\n",
       "      <td>87.700864</td>\n",
       "    </tr>\n",
       "  </tbody>\n",
       "</table>\n",
       "<p>179 rows × 7 columns</p>\n",
       "</div>"
      ],
      "text/plain": [
       "     sds_sensor  bme_sensor        lat        lon    sealevel  surface_alt  \\\n",
       "0         43811       43812  55.703017  37.459441  198.271350        163.0   \n",
       "1         46280       46281  55.677867  37.456325  179.684930        176.0   \n",
       "2         33626       33627  55.874089  37.510001  167.960469        176.0   \n",
       "3         54815       54816  55.752000  37.884000  236.385167        153.0   \n",
       "4         45568       45569  55.625773  37.525268  263.580603        230.0   \n",
       "..          ...         ...        ...        ...         ...          ...   \n",
       "174       42920       42921  55.850951  37.348591  193.647666        176.0   \n",
       "175       41097       41098  55.563750  37.644380  169.748722        175.0   \n",
       "176       48427       48428  55.595953  37.598865  194.379092        172.0   \n",
       "177       35514       35515  55.650000  37.490000  222.588161        200.0   \n",
       "178       51384       51385  55.682000  37.462000  242.700864        155.0   \n",
       "\n",
       "     surface_level  \n",
       "0        35.271350  \n",
       "1         3.684930  \n",
       "2        -8.039531  \n",
       "3        83.385167  \n",
       "4        33.580603  \n",
       "..             ...  \n",
       "174      17.647666  \n",
       "175      -5.251278  \n",
       "176      22.379092  \n",
       "177      22.588161  \n",
       "178      87.700864  \n",
       "\n",
       "[179 rows x 7 columns]"
      ]
     },
     "execution_count": 3,
     "metadata": {},
     "output_type": "execute_result"
    }
   ],
   "source": [
    "sensors"
   ]
  },
  {
   "cell_type": "code",
   "execution_count": 4,
   "metadata": {},
   "outputs": [],
   "source": [
    "p1_med = pd.read_csv('../DATA/processed/dataset.csv', parse_dates=['date']).set_index('date').P1_p50\n",
    "p2_med = pd.read_csv('../DATA/processed/dataset.csv', parse_dates=['date']).set_index('date').P2_p50"
   ]
  },
  {
   "cell_type": "code",
   "execution_count": 5,
   "metadata": {},
   "outputs": [
    {
     "data": {
      "text/plain": [
       "date\n",
       "2019-04-01 00:00:00+00:00    2.9575\n",
       "2019-04-01 00:05:00+00:00    2.6900\n",
       "2019-04-01 00:10:00+00:00    2.7600\n",
       "2019-04-01 00:15:00+00:00    2.8400\n",
       "2019-04-01 00:20:00+00:00    2.6175\n",
       "                              ...  \n",
       "2021-01-18 17:40:00+00:00       NaN\n",
       "2021-01-18 17:45:00+00:00       NaN\n",
       "2021-01-18 17:50:00+00:00       NaN\n",
       "2021-01-18 17:55:00+00:00       NaN\n",
       "2021-01-18 18:00:00+00:00       NaN\n",
       "Name: P2_p50, Length: 189721, dtype: float64"
      ]
     },
     "execution_count": 5,
     "metadata": {},
     "output_type": "execute_result"
    }
   ],
   "source": [
    "p2_med"
   ]
  },
  {
   "cell_type": "code",
   "execution_count": 6,
   "metadata": {},
   "outputs": [],
   "source": [
    "def get_diff(sds_id):\n",
    "    try:\n",
    "        file_name = f'{sds_id}_sds011_sensor_.csv'\n",
    "        sds_data = pd.read_csv('../DATA/raw/sensors/'+file_name, sep=';', parse_dates=['timestamp'])\n",
    "        sds_data = sds_data.set_index('timestamp').resample('5T').mean()\n",
    "        sds_data = sds_data.tz_localize(timezone.utc)\n",
    "        return (sds_data.P1 - p1_med).median(), (sds_data.P2 - p2_med).median()\n",
    "    except:\n",
    "        return None, None"
   ]
  },
  {
   "cell_type": "code",
   "execution_count": 7,
   "metadata": {},
   "outputs": [
    {
     "name": "stderr",
     "output_type": "stream",
     "text": [
      "//home/anatoly/HDD/anaconda3/envs/mlforair/lib/python3.7/site-packages/IPython/core/interactiveshell.py:3249: DtypeWarning: Columns (6,9) have mixed types.Specify dtype option on import or set low_memory=False.\n",
      "  if (await self.run_code(code, result,  async_=asy)):\n",
      "//home/anatoly/HDD/anaconda3/envs/mlforair/lib/python3.7/site-packages/numpy/lib/nanfunctions.py:1111: RuntimeWarning: Mean of empty slice\n",
      "  return np.nanmean(a, axis, out=out, keepdims=keepdims)\n"
     ]
    }
   ],
   "source": [
    "p1_diff = []\n",
    "p2_diff = []\n",
    "for index, row in sensors.iterrows():\n",
    "    p1, p2 = get_diff(int(row['sds_sensor']))\n",
    "    p1_diff.append(p1)\n",
    "    p2_diff.append(p2)\n",
    "    \n",
    "sensors['p1_diff'] = p1_diff\n",
    "sensors['p2_diff'] = p2_diff"
   ]
  },
  {
   "cell_type": "code",
   "execution_count": 8,
   "metadata": {},
   "outputs": [
    {
     "data": {
      "text/html": [
       "<div>\n",
       "<style scoped>\n",
       "    .dataframe tbody tr th:only-of-type {\n",
       "        vertical-align: middle;\n",
       "    }\n",
       "\n",
       "    .dataframe tbody tr th {\n",
       "        vertical-align: top;\n",
       "    }\n",
       "\n",
       "    .dataframe thead th {\n",
       "        text-align: right;\n",
       "    }\n",
       "</style>\n",
       "<table border=\"1\" class=\"dataframe\">\n",
       "  <thead>\n",
       "    <tr style=\"text-align: right;\">\n",
       "      <th></th>\n",
       "      <th>sds_sensor</th>\n",
       "      <th>bme_sensor</th>\n",
       "      <th>lat</th>\n",
       "      <th>lon</th>\n",
       "      <th>sealevel</th>\n",
       "      <th>surface_alt</th>\n",
       "      <th>surface_level</th>\n",
       "      <th>p1_diff</th>\n",
       "      <th>p2_diff</th>\n",
       "    </tr>\n",
       "  </thead>\n",
       "  <tbody>\n",
       "    <tr>\n",
       "      <th>0</th>\n",
       "      <td>43811</td>\n",
       "      <td>43812</td>\n",
       "      <td>55.703017</td>\n",
       "      <td>37.459441</td>\n",
       "      <td>198.271350</td>\n",
       "      <td>163.0</td>\n",
       "      <td>35.271350</td>\n",
       "      <td>-3.082500</td>\n",
       "      <td>-2.253333</td>\n",
       "    </tr>\n",
       "    <tr>\n",
       "      <th>1</th>\n",
       "      <td>46280</td>\n",
       "      <td>46281</td>\n",
       "      <td>55.677867</td>\n",
       "      <td>37.456325</td>\n",
       "      <td>179.684930</td>\n",
       "      <td>176.0</td>\n",
       "      <td>3.684930</td>\n",
       "      <td>-1.212500</td>\n",
       "      <td>-0.165000</td>\n",
       "    </tr>\n",
       "    <tr>\n",
       "      <th>2</th>\n",
       "      <td>33626</td>\n",
       "      <td>33627</td>\n",
       "      <td>55.874089</td>\n",
       "      <td>37.510001</td>\n",
       "      <td>167.960469</td>\n",
       "      <td>176.0</td>\n",
       "      <td>-8.039531</td>\n",
       "      <td>5.105000</td>\n",
       "      <td>0.800000</td>\n",
       "    </tr>\n",
       "    <tr>\n",
       "      <th>3</th>\n",
       "      <td>54815</td>\n",
       "      <td>54816</td>\n",
       "      <td>55.752000</td>\n",
       "      <td>37.884000</td>\n",
       "      <td>236.385167</td>\n",
       "      <td>153.0</td>\n",
       "      <td>83.385167</td>\n",
       "      <td>-5.058750</td>\n",
       "      <td>-2.211250</td>\n",
       "    </tr>\n",
       "    <tr>\n",
       "      <th>4</th>\n",
       "      <td>45568</td>\n",
       "      <td>45569</td>\n",
       "      <td>55.625773</td>\n",
       "      <td>37.525268</td>\n",
       "      <td>263.580603</td>\n",
       "      <td>230.0</td>\n",
       "      <td>33.580603</td>\n",
       "      <td>-0.601250</td>\n",
       "      <td>-0.277500</td>\n",
       "    </tr>\n",
       "    <tr>\n",
       "      <th>...</th>\n",
       "      <td>...</td>\n",
       "      <td>...</td>\n",
       "      <td>...</td>\n",
       "      <td>...</td>\n",
       "      <td>...</td>\n",
       "      <td>...</td>\n",
       "      <td>...</td>\n",
       "      <td>...</td>\n",
       "      <td>...</td>\n",
       "    </tr>\n",
       "    <tr>\n",
       "      <th>174</th>\n",
       "      <td>42920</td>\n",
       "      <td>42921</td>\n",
       "      <td>55.850951</td>\n",
       "      <td>37.348591</td>\n",
       "      <td>193.647666</td>\n",
       "      <td>176.0</td>\n",
       "      <td>17.647666</td>\n",
       "      <td>1.058333</td>\n",
       "      <td>-1.585000</td>\n",
       "    </tr>\n",
       "    <tr>\n",
       "      <th>175</th>\n",
       "      <td>41097</td>\n",
       "      <td>41098</td>\n",
       "      <td>55.563750</td>\n",
       "      <td>37.644380</td>\n",
       "      <td>169.748722</td>\n",
       "      <td>175.0</td>\n",
       "      <td>-5.251278</td>\n",
       "      <td>1.491161</td>\n",
       "      <td>1.223274</td>\n",
       "    </tr>\n",
       "    <tr>\n",
       "      <th>176</th>\n",
       "      <td>48427</td>\n",
       "      <td>48428</td>\n",
       "      <td>55.595953</td>\n",
       "      <td>37.598865</td>\n",
       "      <td>194.379092</td>\n",
       "      <td>172.0</td>\n",
       "      <td>22.379092</td>\n",
       "      <td>0.975000</td>\n",
       "      <td>-0.442500</td>\n",
       "    </tr>\n",
       "    <tr>\n",
       "      <th>177</th>\n",
       "      <td>35514</td>\n",
       "      <td>35515</td>\n",
       "      <td>55.650000</td>\n",
       "      <td>37.490000</td>\n",
       "      <td>222.588161</td>\n",
       "      <td>200.0</td>\n",
       "      <td>22.588161</td>\n",
       "      <td>-1.535000</td>\n",
       "      <td>-0.550000</td>\n",
       "    </tr>\n",
       "    <tr>\n",
       "      <th>178</th>\n",
       "      <td>51384</td>\n",
       "      <td>51385</td>\n",
       "      <td>55.682000</td>\n",
       "      <td>37.462000</td>\n",
       "      <td>242.700864</td>\n",
       "      <td>155.0</td>\n",
       "      <td>87.700864</td>\n",
       "      <td>2.265000</td>\n",
       "      <td>0.868333</td>\n",
       "    </tr>\n",
       "  </tbody>\n",
       "</table>\n",
       "<p>179 rows × 9 columns</p>\n",
       "</div>"
      ],
      "text/plain": [
       "     sds_sensor  bme_sensor        lat        lon    sealevel  surface_alt  \\\n",
       "0         43811       43812  55.703017  37.459441  198.271350        163.0   \n",
       "1         46280       46281  55.677867  37.456325  179.684930        176.0   \n",
       "2         33626       33627  55.874089  37.510001  167.960469        176.0   \n",
       "3         54815       54816  55.752000  37.884000  236.385167        153.0   \n",
       "4         45568       45569  55.625773  37.525268  263.580603        230.0   \n",
       "..          ...         ...        ...        ...         ...          ...   \n",
       "174       42920       42921  55.850951  37.348591  193.647666        176.0   \n",
       "175       41097       41098  55.563750  37.644380  169.748722        175.0   \n",
       "176       48427       48428  55.595953  37.598865  194.379092        172.0   \n",
       "177       35514       35515  55.650000  37.490000  222.588161        200.0   \n",
       "178       51384       51385  55.682000  37.462000  242.700864        155.0   \n",
       "\n",
       "     surface_level   p1_diff   p2_diff  \n",
       "0        35.271350 -3.082500 -2.253333  \n",
       "1         3.684930 -1.212500 -0.165000  \n",
       "2        -8.039531  5.105000  0.800000  \n",
       "3        83.385167 -5.058750 -2.211250  \n",
       "4        33.580603 -0.601250 -0.277500  \n",
       "..             ...       ...       ...  \n",
       "174      17.647666  1.058333 -1.585000  \n",
       "175      -5.251278  1.491161  1.223274  \n",
       "176      22.379092  0.975000 -0.442500  \n",
       "177      22.588161 -1.535000 -0.550000  \n",
       "178      87.700864  2.265000  0.868333  \n",
       "\n",
       "[179 rows x 9 columns]"
      ]
     },
     "execution_count": 8,
     "metadata": {},
     "output_type": "execute_result"
    }
   ],
   "source": [
    "sensors"
   ]
  },
  {
   "cell_type": "code",
   "execution_count": 9,
   "metadata": {},
   "outputs": [
    {
     "data": {
      "text/plain": [
       "(<AxesSubplot:xlabel='sealevel', ylabel='p1_diff'>,\n",
       " <AxesSubplot:xlabel='surface_level', ylabel='p1_diff'>)"
      ]
     },
     "execution_count": 9,
     "metadata": {},
     "output_type": "execute_result"
    }
   ],
   "source": [
    "sensors.plot.scatter('sealevel', 'p1_diff'), sensors.plot.scatter('surface_level', 'p1_diff')"
   ]
  },
  {
   "cell_type": "code",
   "execution_count": 10,
   "metadata": {},
   "outputs": [
    {
     "data": {
      "text/plain": [
       "(<AxesSubplot:xlabel='sealevel', ylabel='p2_diff'>,\n",
       " <AxesSubplot:xlabel='surface_level', ylabel='p2_diff'>)"
      ]
     },
     "execution_count": 10,
     "metadata": {},
     "output_type": "execute_result"
    },
    {
     "data": {
      "image/png": "[encoded data removed]",
      "text/plain": [
       "<Figure size 432x288 with 1 Axes>"
      ]
     },
     "metadata": {
      "needs_background": "light"
     },
     "output_type": "display_data"
    },
    {
     "data": {
      "image/png": "[encoded data removed]",
      "text/plain": [
       "<Figure size 432x288 with 1 Axes>"
      ]
     },
     "metadata": {
      "needs_background": "light"
     },
     "output_type": "display_data"
    }
   ],
   "source": [
    "sensors.plot.scatter('sealevel', 'p2_diff'), sensors.plot.scatter('surface_level', 'p2_diff')"
   ]
  },
  {
   "cell_type": "code",
   "execution_count": 11,
   "metadata": {},
   "outputs": [
    {
     "data": {
      "text/html": [
       "<div>\n",
       "<style scoped>\n",
       "    .dataframe tbody tr th:only-of-type {\n",
       "        vertical-align: middle;\n",
       "    }\n",
       "\n",
       "    .dataframe tbody tr th {\n",
       "        vertical-align: top;\n",
       "    }\n",
       "\n",
       "    .dataframe thead th {\n",
       "        text-align: right;\n",
       "    }\n",
       "</style>\n",
       "<table border=\"1\" class=\"dataframe\">\n",
       "  <thead>\n",
       "    <tr style=\"text-align: right;\">\n",
       "      <th></th>\n",
       "      <th>sealevel</th>\n",
       "      <th>surface_level</th>\n",
       "      <th>surface_alt</th>\n",
       "      <th>p1_diff</th>\n",
       "      <th>p2_diff</th>\n",
       "    </tr>\n",
       "  </thead>\n",
       "  <tbody>\n",
       "    <tr>\n",
       "      <th>sealevel</th>\n",
       "      <td>1.000000</td>\n",
       "      <td>0.700772</td>\n",
       "      <td>0.768004</td>\n",
       "      <td>0.027505</td>\n",
       "      <td>0.055652</td>\n",
       "    </tr>\n",
       "    <tr>\n",
       "      <th>surface_level</th>\n",
       "      <td>0.700772</td>\n",
       "      <td>1.000000</td>\n",
       "      <td>0.081312</td>\n",
       "      <td>-0.047103</td>\n",
       "      <td>-0.001086</td>\n",
       "    </tr>\n",
       "    <tr>\n",
       "      <th>surface_alt</th>\n",
       "      <td>0.768004</td>\n",
       "      <td>0.081312</td>\n",
       "      <td>1.000000</td>\n",
       "      <td>0.081032</td>\n",
       "      <td>0.078720</td>\n",
       "    </tr>\n",
       "    <tr>\n",
       "      <th>p1_diff</th>\n",
       "      <td>0.027505</td>\n",
       "      <td>-0.047103</td>\n",
       "      <td>0.081032</td>\n",
       "      <td>1.000000</td>\n",
       "      <td>0.869988</td>\n",
       "    </tr>\n",
       "    <tr>\n",
       "      <th>p2_diff</th>\n",
       "      <td>0.055652</td>\n",
       "      <td>-0.001086</td>\n",
       "      <td>0.078720</td>\n",
       "      <td>0.869988</td>\n",
       "      <td>1.000000</td>\n",
       "    </tr>\n",
       "  </tbody>\n",
       "</table>\n",
       "</div>"
      ],
      "text/plain": [
       "               sealevel  surface_level  surface_alt   p1_diff   p2_diff\n",
       "sealevel       1.000000       0.700772     0.768004  0.027505  0.055652\n",
       "surface_level  0.700772       1.000000     0.081312 -0.047103 -0.001086\n",
       "surface_alt    0.768004       0.081312     1.000000  0.081032  0.078720\n",
       "p1_diff        0.027505      -0.047103     0.081032  1.000000  0.869988\n",
       "p2_diff        0.055652      -0.001086     0.078720  0.869988  1.000000"
      ]
     },
     "execution_count": 11,
     "metadata": {},
     "output_type": "execute_result"
    }
   ],
   "source": [
    "sensors[['sealevel','surface_level', 'surface_alt', 'p1_diff', 'p2_diff']].corr()"
   ]
  },
  {
   "cell_type": "code",
   "execution_count": 12,
   "metadata": {},
   "outputs": [
    {
     "data": {
      "text/plain": [
       "179"
      ]
     },
     "execution_count": 12,
     "metadata": {},
     "output_type": "execute_result"
    }
   ],
   "source": [
    "len(sensors)"
   ]
  },
  {
   "cell_type": "code",
   "execution_count": null,
   "metadata": {},
   "outputs": [],
   "source": []
  }
 ],
 "metadata": {
  "kernelspec": {
   "display_name": "Python 3",
   "language": "python",
   "name": "python3"
  },
  "language_info": {
   "codemirror_mode": {
    "name": "ipython",
    "version": 3
   },
   "file_extension": ".py",
   "mimetype": "text/x-python",
   "name": "python",
   "nbconvert_exporter": "python",
   "pygments_lexer": "ipython3",
   "version": "3.7.4"
  },
  "toc": {
   "base_numbering": 1,
   "nav_menu": {},
   "number_sections": true,
   "sideBar": true,
   "skip_h1_title": false,
   "title_cell": "Table of Contents",
   "title_sidebar": "Contents",
   "toc_cell": false,
   "toc_position": {},
   "toc_section_display": true,
   "toc_window_display": false
  },
  "varInspector": {
   "cols": {
    "lenName": 16,
    "lenType": 16,
    "lenVar": 40
   },
   "kernels_config": {
    "python": {
     "delete_cmd_postfix": "",
     "delete_cmd_prefix": "del ",
     "library": "var_list.py",
     "varRefreshCmd": "print(var_dic_list())"
    },
    "r": {
     "delete_cmd_postfix": ") ",
     "delete_cmd_prefix": "rm(",
     "library": "var_list.r",
     "varRefreshCmd": "cat(var_dic_list()) "
    }
   },
   "types_to_exclude": [
    "module",
    "function",
    "builtin_function_or_method",
    "instance",
    "_Feature"
   ],
   "window_display": false
  }
 },
 "nbformat": 4,
 "nbformat_minor": 2
}
