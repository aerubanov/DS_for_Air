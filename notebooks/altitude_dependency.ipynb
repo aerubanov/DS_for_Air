{
 "cells": [
  {
   "cell_type": "code",
   "execution_count": 1,
   "metadata": {},
   "outputs": [],
   "source": [
    "import pandas as pd\n",
    "from datetime import timezone"
   ]
  },
  {
   "cell_type": "code",
   "execution_count": 2,
   "metadata": {},
   "outputs": [],
   "source": [
    "sensors = pd.read_csv('sensors.csv')"
   ]
  },
  {
   "cell_type": "code",
   "execution_count": 3,
   "metadata": {},
   "outputs": [
    {
     "data": {
      "text/html": [
       "<div>\n",
       "<style scoped>\n",
       "    .dataframe tbody tr th:only-of-type {\n",
       "        vertical-align: middle;\n",
       "    }\n",
       "\n",
       "    .dataframe tbody tr th {\n",
       "        vertical-align: top;\n",
       "    }\n",
       "\n",
       "    .dataframe thead th {\n",
       "        text-align: right;\n",
       "    }\n",
       "</style>\n",
       "<table border=\"1\" class=\"dataframe\">\n",
       "  <thead>\n",
       "    <tr style=\"text-align: right;\">\n",
       "      <th></th>\n",
       "      <th>sds_sensor</th>\n",
       "      <th>bme_sensor</th>\n",
       "      <th>lat</th>\n",
       "      <th>lon</th>\n",
       "      <th>sealevel</th>\n",
       "      <th>surface_alt</th>\n",
       "      <th>surface_level</th>\n",
       "      <th>geometry</th>\n",
       "      <th>nearest_park</th>\n",
       "      <th>nearest_road</th>\n",
       "      <th>nearest_indust</th>\n",
       "    </tr>\n",
       "  </thead>\n",
       "  <tbody>\n",
       "    <tr>\n",
       "      <th>0</th>\n",
       "      <td>43811</td>\n",
       "      <td>43812</td>\n",
       "      <td>55.703017</td>\n",
       "      <td>37.459441</td>\n",
       "      <td>198.129123</td>\n",
       "      <td>163.0</td>\n",
       "      <td>35.129123</td>\n",
       "      <td>POINT (37.45944073 55.70301725)</td>\n",
       "      <td>708.707392</td>\n",
       "      <td>112.194727</td>\n",
       "      <td>1342.638505</td>\n",
       "    </tr>\n",
       "    <tr>\n",
       "      <th>1</th>\n",
       "      <td>46280</td>\n",
       "      <td>46281</td>\n",
       "      <td>55.677867</td>\n",
       "      <td>37.456325</td>\n",
       "      <td>179.383064</td>\n",
       "      <td>176.0</td>\n",
       "      <td>3.383064</td>\n",
       "      <td>POINT (37.4563253 55.677867)</td>\n",
       "      <td>1658.169550</td>\n",
       "      <td>864.642229</td>\n",
       "      <td>1458.923855</td>\n",
       "    </tr>\n",
       "    <tr>\n",
       "      <th>2</th>\n",
       "      <td>33626</td>\n",
       "      <td>33627</td>\n",
       "      <td>55.874089</td>\n",
       "      <td>37.510001</td>\n",
       "      <td>167.849245</td>\n",
       "      <td>176.0</td>\n",
       "      <td>-8.150755</td>\n",
       "      <td>POINT (37.51000106 55.87408899)</td>\n",
       "      <td>1425.563323</td>\n",
       "      <td>1014.471402</td>\n",
       "      <td>492.095085</td>\n",
       "    </tr>\n",
       "    <tr>\n",
       "      <th>3</th>\n",
       "      <td>54815</td>\n",
       "      <td>54816</td>\n",
       "      <td>55.752000</td>\n",
       "      <td>37.884000</td>\n",
       "      <td>229.558872</td>\n",
       "      <td>153.0</td>\n",
       "      <td>76.558872</td>\n",
       "      <td>POINT (37.884 55.752)</td>\n",
       "      <td>1948.474417</td>\n",
       "      <td>478.007954</td>\n",
       "      <td>702.114877</td>\n",
       "    </tr>\n",
       "    <tr>\n",
       "      <th>4</th>\n",
       "      <td>45568</td>\n",
       "      <td>45569</td>\n",
       "      <td>55.625773</td>\n",
       "      <td>37.525268</td>\n",
       "      <td>263.580603</td>\n",
       "      <td>230.0</td>\n",
       "      <td>33.580603</td>\n",
       "      <td>POINT (37.5252682 55.62577293)</td>\n",
       "      <td>1132.250738</td>\n",
       "      <td>1411.553491</td>\n",
       "      <td>2967.174366</td>\n",
       "    </tr>\n",
       "    <tr>\n",
       "      <th>...</th>\n",
       "      <td>...</td>\n",
       "      <td>...</td>\n",
       "      <td>...</td>\n",
       "      <td>...</td>\n",
       "      <td>...</td>\n",
       "      <td>...</td>\n",
       "      <td>...</td>\n",
       "      <td>...</td>\n",
       "      <td>...</td>\n",
       "      <td>...</td>\n",
       "      <td>...</td>\n",
       "    </tr>\n",
       "    <tr>\n",
       "      <th>169</th>\n",
       "      <td>41097</td>\n",
       "      <td>41098</td>\n",
       "      <td>55.563750</td>\n",
       "      <td>37.644380</td>\n",
       "      <td>169.422238</td>\n",
       "      <td>175.0</td>\n",
       "      <td>-5.577762</td>\n",
       "      <td>POINT (37.64437973 55.56375009)</td>\n",
       "      <td>714.996265</td>\n",
       "      <td>1725.107884</td>\n",
       "      <td>563.984700</td>\n",
       "    </tr>\n",
       "    <tr>\n",
       "      <th>170</th>\n",
       "      <td>48427</td>\n",
       "      <td>48428</td>\n",
       "      <td>55.595953</td>\n",
       "      <td>37.598865</td>\n",
       "      <td>193.595497</td>\n",
       "      <td>172.0</td>\n",
       "      <td>21.595497</td>\n",
       "      <td>POINT (37.59886533 55.59595285)</td>\n",
       "      <td>1970.871952</td>\n",
       "      <td>62.637976</td>\n",
       "      <td>1658.152326</td>\n",
       "    </tr>\n",
       "    <tr>\n",
       "      <th>171</th>\n",
       "      <td>35514</td>\n",
       "      <td>35515</td>\n",
       "      <td>55.650000</td>\n",
       "      <td>37.490000</td>\n",
       "      <td>222.317862</td>\n",
       "      <td>200.0</td>\n",
       "      <td>22.317862</td>\n",
       "      <td>POINT (37.49 55.65)</td>\n",
       "      <td>316.934998</td>\n",
       "      <td>482.767891</td>\n",
       "      <td>3524.423023</td>\n",
       "    </tr>\n",
       "    <tr>\n",
       "      <th>172</th>\n",
       "      <td>51384</td>\n",
       "      <td>51385</td>\n",
       "      <td>55.682000</td>\n",
       "      <td>37.462000</td>\n",
       "      <td>242.403944</td>\n",
       "      <td>155.0</td>\n",
       "      <td>87.403944</td>\n",
       "      <td>POINT (37.462 55.682)</td>\n",
       "      <td>1686.962530</td>\n",
       "      <td>860.689500</td>\n",
       "      <td>1176.061709</td>\n",
       "    </tr>\n",
       "    <tr>\n",
       "      <th>173</th>\n",
       "      <td>55774</td>\n",
       "      <td>55775</td>\n",
       "      <td>55.779533</td>\n",
       "      <td>37.902135</td>\n",
       "      <td>178.428274</td>\n",
       "      <td>162.0</td>\n",
       "      <td>16.428274</td>\n",
       "      <td>POINT (37.90213545 55.77953267)</td>\n",
       "      <td>1504.021283</td>\n",
       "      <td>2290.337041</td>\n",
       "      <td>691.511183</td>\n",
       "    </tr>\n",
       "  </tbody>\n",
       "</table>\n",
       "<p>174 rows × 11 columns</p>\n",
       "</div>"
      ],
      "text/plain": [
       "     sds_sensor  bme_sensor        lat        lon    sealevel  surface_alt  \\\n",
       "0         43811       43812  55.703017  37.459441  198.129123        163.0   \n",
       "1         46280       46281  55.677867  37.456325  179.383064        176.0   \n",
       "2         33626       33627  55.874089  37.510001  167.849245        176.0   \n",
       "3         54815       54816  55.752000  37.884000  229.558872        153.0   \n",
       "4         45568       45569  55.625773  37.525268  263.580603        230.0   \n",
       "..          ...         ...        ...        ...         ...          ...   \n",
       "169       41097       41098  55.563750  37.644380  169.422238        175.0   \n",
       "170       48427       48428  55.595953  37.598865  193.595497        172.0   \n",
       "171       35514       35515  55.650000  37.490000  222.317862        200.0   \n",
       "172       51384       51385  55.682000  37.462000  242.403944        155.0   \n",
       "173       55774       55775  55.779533  37.902135  178.428274        162.0   \n",
       "\n",
       "     surface_level                         geometry  nearest_park  \\\n",
       "0        35.129123  POINT (37.45944073 55.70301725)    708.707392   \n",
       "1         3.383064     POINT (37.4563253 55.677867)   1658.169550   \n",
       "2        -8.150755  POINT (37.51000106 55.87408899)   1425.563323   \n",
       "3        76.558872            POINT (37.884 55.752)   1948.474417   \n",
       "4        33.580603   POINT (37.5252682 55.62577293)   1132.250738   \n",
       "..             ...                              ...           ...   \n",
       "169      -5.577762  POINT (37.64437973 55.56375009)    714.996265   \n",
       "170      21.595497  POINT (37.59886533 55.59595285)   1970.871952   \n",
       "171      22.317862              POINT (37.49 55.65)    316.934998   \n",
       "172      87.403944            POINT (37.462 55.682)   1686.962530   \n",
       "173      16.428274  POINT (37.90213545 55.77953267)   1504.021283   \n",
       "\n",
       "     nearest_road  nearest_indust  \n",
       "0      112.194727     1342.638505  \n",
       "1      864.642229     1458.923855  \n",
       "2     1014.471402      492.095085  \n",
       "3      478.007954      702.114877  \n",
       "4     1411.553491     2967.174366  \n",
       "..            ...             ...  \n",
       "169   1725.107884      563.984700  \n",
       "170     62.637976     1658.152326  \n",
       "171    482.767891     3524.423023  \n",
       "172    860.689500     1176.061709  \n",
       "173   2290.337041      691.511183  \n",
       "\n",
       "[174 rows x 11 columns]"
      ]
     },
     "execution_count": 3,
     "metadata": {},
     "output_type": "execute_result"
    }
   ],
   "source": [
    "sensors"
   ]
  },
  {
   "cell_type": "code",
   "execution_count": 4,
   "metadata": {},
   "outputs": [],
   "source": [
    "p1_med = pd.read_csv('../DATA/processed/dataset.csv', parse_dates=['date']).set_index('date').P1_p50\n",
    "p2_med = pd.read_csv('../DATA/processed/dataset.csv', parse_dates=['date']).set_index('date').P2_p50"
   ]
  },
  {
   "cell_type": "code",
   "execution_count": 5,
   "metadata": {},
   "outputs": [
    {
     "data": {
      "text/plain": [
       "date\n",
       "2019-04-01 00:00:00+00:00    2.9575\n",
       "2019-04-01 00:05:00+00:00    2.6900\n",
       "2019-04-01 00:10:00+00:00    2.7600\n",
       "2019-04-01 00:15:00+00:00    2.8400\n",
       "2019-04-01 00:20:00+00:00    2.6175\n",
       "                              ...  \n",
       "2021-02-07 17:40:00+00:00       NaN\n",
       "2021-02-07 17:45:00+00:00       NaN\n",
       "2021-02-07 17:50:00+00:00       NaN\n",
       "2021-02-07 17:55:00+00:00       NaN\n",
       "2021-02-07 18:00:00+00:00       NaN\n",
       "Name: P2_p50, Length: 195481, dtype: float64"
      ]
     },
     "execution_count": 5,
     "metadata": {},
     "output_type": "execute_result"
    }
   ],
   "source": [
    "p2_med"
   ]
  },
  {
   "cell_type": "code",
   "execution_count": 6,
   "metadata": {},
   "outputs": [],
   "source": [
    "def get_diff(sds_id):\n",
    "    try:\n",
    "        file_name = f'{sds_id}_sds011_sensor_.csv'\n",
    "        sds_data = pd.read_csv('../DATA/raw/sensors/'+file_name, sep=';', parse_dates=['timestamp'])\n",
    "        sds_data = sds_data.set_index('timestamp').resample('5T').mean()\n",
    "        sds_data = sds_data.tz_localize(timezone.utc)\n",
    "        return (sds_data.P1 - p1_med).median(), (sds_data.P2 - p2_med).median()\n",
    "    except:\n",
    "        return None, None"
   ]
  },
  {
   "cell_type": "code",
   "execution_count": 7,
   "metadata": {},
   "outputs": [
    {
     "name": "stderr",
     "output_type": "stream",
     "text": [
      "//home/anatoly/HDD/anaconda3/envs/mlforair/lib/python3.7/site-packages/IPython/core/interactiveshell.py:3249: DtypeWarning: Columns (6,9) have mixed types.Specify dtype option on import or set low_memory=False.\n",
      "  if (await self.run_code(code, result,  async_=asy)):\n"
     ]
    }
   ],
   "source": [
    "p1_diff = []\n",
    "p2_diff = []\n",
    "for index, row in sensors.iterrows():\n",
    "    p1, p2 = get_diff(int(row['sds_sensor']))\n",
    "    p1_diff.append(p1)\n",
    "    p2_diff.append(p2)\n",
    "    \n",
    "sensors['p1_diff'] = p1_diff\n",
    "sensors['p2_diff'] = p2_diff"
   ]
  },
  {
   "cell_type": "code",
   "execution_count": 8,
   "metadata": {},
   "outputs": [
    {
     "data": {
      "text/html": [
       "<div>\n",
       "<style scoped>\n",
       "    .dataframe tbody tr th:only-of-type {\n",
       "        vertical-align: middle;\n",
       "    }\n",
       "\n",
       "    .dataframe tbody tr th {\n",
       "        vertical-align: top;\n",
       "    }\n",
       "\n",
       "    .dataframe thead th {\n",
       "        text-align: right;\n",
       "    }\n",
       "</style>\n",
       "<table border=\"1\" class=\"dataframe\">\n",
       "  <thead>\n",
       "    <tr style=\"text-align: right;\">\n",
       "      <th></th>\n",
       "      <th>sds_sensor</th>\n",
       "      <th>bme_sensor</th>\n",
       "      <th>lat</th>\n",
       "      <th>lon</th>\n",
       "      <th>sealevel</th>\n",
       "      <th>surface_alt</th>\n",
       "      <th>surface_level</th>\n",
       "      <th>geometry</th>\n",
       "      <th>nearest_park</th>\n",
       "      <th>nearest_road</th>\n",
       "      <th>nearest_indust</th>\n",
       "      <th>p1_diff</th>\n",
       "      <th>p2_diff</th>\n",
       "    </tr>\n",
       "  </thead>\n",
       "  <tbody>\n",
       "    <tr>\n",
       "      <th>0</th>\n",
       "      <td>43811</td>\n",
       "      <td>43812</td>\n",
       "      <td>55.703017</td>\n",
       "      <td>37.459441</td>\n",
       "      <td>198.129123</td>\n",
       "      <td>163.0</td>\n",
       "      <td>35.129123</td>\n",
       "      <td>POINT (37.45944073 55.70301725)</td>\n",
       "      <td>708.707392</td>\n",
       "      <td>112.194727</td>\n",
       "      <td>1342.638505</td>\n",
       "      <td>-3.2100</td>\n",
       "      <td>-2.316875</td>\n",
       "    </tr>\n",
       "    <tr>\n",
       "      <th>1</th>\n",
       "      <td>46280</td>\n",
       "      <td>46281</td>\n",
       "      <td>55.677867</td>\n",
       "      <td>37.456325</td>\n",
       "      <td>179.383064</td>\n",
       "      <td>176.0</td>\n",
       "      <td>3.383064</td>\n",
       "      <td>POINT (37.4563253 55.677867)</td>\n",
       "      <td>1658.169550</td>\n",
       "      <td>864.642229</td>\n",
       "      <td>1458.923855</td>\n",
       "      <td>-1.3000</td>\n",
       "      <td>-0.250000</td>\n",
       "    </tr>\n",
       "    <tr>\n",
       "      <th>2</th>\n",
       "      <td>33626</td>\n",
       "      <td>33627</td>\n",
       "      <td>55.874089</td>\n",
       "      <td>37.510001</td>\n",
       "      <td>167.849245</td>\n",
       "      <td>176.0</td>\n",
       "      <td>-8.150755</td>\n",
       "      <td>POINT (37.51000106 55.87408899)</td>\n",
       "      <td>1425.563323</td>\n",
       "      <td>1014.471402</td>\n",
       "      <td>492.095085</td>\n",
       "      <td>5.1850</td>\n",
       "      <td>0.833333</td>\n",
       "    </tr>\n",
       "    <tr>\n",
       "      <th>3</th>\n",
       "      <td>54815</td>\n",
       "      <td>54816</td>\n",
       "      <td>55.752000</td>\n",
       "      <td>37.884000</td>\n",
       "      <td>229.558872</td>\n",
       "      <td>153.0</td>\n",
       "      <td>76.558872</td>\n",
       "      <td>POINT (37.884 55.752)</td>\n",
       "      <td>1948.474417</td>\n",
       "      <td>478.007954</td>\n",
       "      <td>702.114877</td>\n",
       "      <td>1.4100</td>\n",
       "      <td>-1.250000</td>\n",
       "    </tr>\n",
       "    <tr>\n",
       "      <th>4</th>\n",
       "      <td>45568</td>\n",
       "      <td>45569</td>\n",
       "      <td>55.625773</td>\n",
       "      <td>37.525268</td>\n",
       "      <td>263.580603</td>\n",
       "      <td>230.0</td>\n",
       "      <td>33.580603</td>\n",
       "      <td>POINT (37.5252682 55.62577293)</td>\n",
       "      <td>1132.250738</td>\n",
       "      <td>1411.553491</td>\n",
       "      <td>2967.174366</td>\n",
       "      <td>-0.6050</td>\n",
       "      <td>-0.275000</td>\n",
       "    </tr>\n",
       "    <tr>\n",
       "      <th>...</th>\n",
       "      <td>...</td>\n",
       "      <td>...</td>\n",
       "      <td>...</td>\n",
       "      <td>...</td>\n",
       "      <td>...</td>\n",
       "      <td>...</td>\n",
       "      <td>...</td>\n",
       "      <td>...</td>\n",
       "      <td>...</td>\n",
       "      <td>...</td>\n",
       "      <td>...</td>\n",
       "      <td>...</td>\n",
       "      <td>...</td>\n",
       "    </tr>\n",
       "    <tr>\n",
       "      <th>169</th>\n",
       "      <td>41097</td>\n",
       "      <td>41098</td>\n",
       "      <td>55.563750</td>\n",
       "      <td>37.644380</td>\n",
       "      <td>169.422238</td>\n",
       "      <td>175.0</td>\n",
       "      <td>-5.577762</td>\n",
       "      <td>POINT (37.64437973 55.56375009)</td>\n",
       "      <td>714.996265</td>\n",
       "      <td>1725.107884</td>\n",
       "      <td>563.984700</td>\n",
       "      <td>1.6525</td>\n",
       "      <td>1.317143</td>\n",
       "    </tr>\n",
       "    <tr>\n",
       "      <th>170</th>\n",
       "      <td>48427</td>\n",
       "      <td>48428</td>\n",
       "      <td>55.595953</td>\n",
       "      <td>37.598865</td>\n",
       "      <td>193.595497</td>\n",
       "      <td>172.0</td>\n",
       "      <td>21.595497</td>\n",
       "      <td>POINT (37.59886533 55.59595285)</td>\n",
       "      <td>1970.871952</td>\n",
       "      <td>62.637976</td>\n",
       "      <td>1658.152326</td>\n",
       "      <td>0.9325</td>\n",
       "      <td>-0.525000</td>\n",
       "    </tr>\n",
       "    <tr>\n",
       "      <th>171</th>\n",
       "      <td>35514</td>\n",
       "      <td>35515</td>\n",
       "      <td>55.650000</td>\n",
       "      <td>37.490000</td>\n",
       "      <td>222.317862</td>\n",
       "      <td>200.0</td>\n",
       "      <td>22.317862</td>\n",
       "      <td>POINT (37.49 55.65)</td>\n",
       "      <td>316.934998</td>\n",
       "      <td>482.767891</td>\n",
       "      <td>3524.423023</td>\n",
       "      <td>-1.5375</td>\n",
       "      <td>-0.535000</td>\n",
       "    </tr>\n",
       "    <tr>\n",
       "      <th>172</th>\n",
       "      <td>51384</td>\n",
       "      <td>51385</td>\n",
       "      <td>55.682000</td>\n",
       "      <td>37.462000</td>\n",
       "      <td>242.403944</td>\n",
       "      <td>155.0</td>\n",
       "      <td>87.403944</td>\n",
       "      <td>POINT (37.462 55.682)</td>\n",
       "      <td>1686.962530</td>\n",
       "      <td>860.689500</td>\n",
       "      <td>1176.061709</td>\n",
       "      <td>2.1800</td>\n",
       "      <td>0.837000</td>\n",
       "    </tr>\n",
       "    <tr>\n",
       "      <th>173</th>\n",
       "      <td>55774</td>\n",
       "      <td>55775</td>\n",
       "      <td>55.779533</td>\n",
       "      <td>37.902135</td>\n",
       "      <td>178.428274</td>\n",
       "      <td>162.0</td>\n",
       "      <td>16.428274</td>\n",
       "      <td>POINT (37.90213545 55.77953267)</td>\n",
       "      <td>1504.021283</td>\n",
       "      <td>2290.337041</td>\n",
       "      <td>691.511183</td>\n",
       "      <td>1.8400</td>\n",
       "      <td>1.222500</td>\n",
       "    </tr>\n",
       "  </tbody>\n",
       "</table>\n",
       "<p>174 rows × 13 columns</p>\n",
       "</div>"
      ],
      "text/plain": [
       "     sds_sensor  bme_sensor        lat        lon    sealevel  surface_alt  \\\n",
       "0         43811       43812  55.703017  37.459441  198.129123        163.0   \n",
       "1         46280       46281  55.677867  37.456325  179.383064        176.0   \n",
       "2         33626       33627  55.874089  37.510001  167.849245        176.0   \n",
       "3         54815       54816  55.752000  37.884000  229.558872        153.0   \n",
       "4         45568       45569  55.625773  37.525268  263.580603        230.0   \n",
       "..          ...         ...        ...        ...         ...          ...   \n",
       "169       41097       41098  55.563750  37.644380  169.422238        175.0   \n",
       "170       48427       48428  55.595953  37.598865  193.595497        172.0   \n",
       "171       35514       35515  55.650000  37.490000  222.317862        200.0   \n",
       "172       51384       51385  55.682000  37.462000  242.403944        155.0   \n",
       "173       55774       55775  55.779533  37.902135  178.428274        162.0   \n",
       "\n",
       "     surface_level                         geometry  nearest_park  \\\n",
       "0        35.129123  POINT (37.45944073 55.70301725)    708.707392   \n",
       "1         3.383064     POINT (37.4563253 55.677867)   1658.169550   \n",
       "2        -8.150755  POINT (37.51000106 55.87408899)   1425.563323   \n",
       "3        76.558872            POINT (37.884 55.752)   1948.474417   \n",
       "4        33.580603   POINT (37.5252682 55.62577293)   1132.250738   \n",
       "..             ...                              ...           ...   \n",
       "169      -5.577762  POINT (37.64437973 55.56375009)    714.996265   \n",
       "170      21.595497  POINT (37.59886533 55.59595285)   1970.871952   \n",
       "171      22.317862              POINT (37.49 55.65)    316.934998   \n",
       "172      87.403944            POINT (37.462 55.682)   1686.962530   \n",
       "173      16.428274  POINT (37.90213545 55.77953267)   1504.021283   \n",
       "\n",
       "     nearest_road  nearest_indust  p1_diff   p2_diff  \n",
       "0      112.194727     1342.638505  -3.2100 -2.316875  \n",
       "1      864.642229     1458.923855  -1.3000 -0.250000  \n",
       "2     1014.471402      492.095085   5.1850  0.833333  \n",
       "3      478.007954      702.114877   1.4100 -1.250000  \n",
       "4     1411.553491     2967.174366  -0.6050 -0.275000  \n",
       "..            ...             ...      ...       ...  \n",
       "169   1725.107884      563.984700   1.6525  1.317143  \n",
       "170     62.637976     1658.152326   0.9325 -0.525000  \n",
       "171    482.767891     3524.423023  -1.5375 -0.535000  \n",
       "172    860.689500     1176.061709   2.1800  0.837000  \n",
       "173   2290.337041      691.511183   1.8400  1.222500  \n",
       "\n",
       "[174 rows x 13 columns]"
      ]
     },
     "execution_count": 8,
     "metadata": {},
     "output_type": "execute_result"
    }
   ],
   "source": [
    "sensors"
   ]
  },
  {
   "cell_type": "code",
   "execution_count": 9,
   "metadata": {},
   "outputs": [
    {
     "data": {
      "text/plain": [
       "(<AxesSubplot:xlabel='sealevel', ylabel='p1_diff'>,\n",
       " <AxesSubplot:xlabel='surface_level', ylabel='p1_diff'>)"
      ]
     },
     "execution_count": 9,
     "metadata": {},
     "output_type": "execute_result"
    }
   ],
   "source": [
    "sensors.plot.scatter('sealevel', 'p1_diff'), sensors.plot.scatter('surface_level', 'p1_diff')"
   ]
  },
  {
   "cell_type": "code",
   "execution_count": 10,
   "metadata": {},
   "outputs": [
    {
     "data": {
      "text/plain": [
       "(<AxesSubplot:xlabel='sealevel', ylabel='p2_diff'>,\n",
       " <AxesSubplot:xlabel='surface_level', ylabel='p2_diff'>)"
      ]
     },
     "execution_count": 10,
     "metadata": {},
     "output_type": "execute_result"
    },
    {
     "data": {
      "image/png": "[encoded data removed]",
      "text/plain": [
       "<Figure size 432x288 with 1 Axes>"
      ]
     },
     "metadata": {
      "needs_background": "light"
     },
     "output_type": "display_data"
    },
    {
     "data": {
      "image/png": "[encoded data removed]",
      "text/plain": [
       "<Figure size 432x288 with 1 Axes>"
      ]
     },
     "metadata": {
      "needs_background": "light"
     },
     "output_type": "display_data"
    }
   ],
   "source": [
    "sensors.plot.scatter('sealevel', 'p2_diff'), sensors.plot.scatter('surface_level', 'p2_diff')"
   ]
  },
  {
   "cell_type": "code",
   "execution_count": 11,
   "metadata": {},
   "outputs": [
    {
     "data": {
      "text/html": [
       "<div>\n",
       "<style scoped>\n",
       "    .dataframe tbody tr th:only-of-type {\n",
       "        vertical-align: middle;\n",
       "    }\n",
       "\n",
       "    .dataframe tbody tr th {\n",
       "        vertical-align: top;\n",
       "    }\n",
       "\n",
       "    .dataframe thead th {\n",
       "        text-align: right;\n",
       "    }\n",
       "</style>\n",
       "<table border=\"1\" class=\"dataframe\">\n",
       "  <thead>\n",
       "    <tr style=\"text-align: right;\">\n",
       "      <th></th>\n",
       "      <th>sealevel</th>\n",
       "      <th>surface_level</th>\n",
       "      <th>surface_alt</th>\n",
       "      <th>p1_diff</th>\n",
       "      <th>p2_diff</th>\n",
       "    </tr>\n",
       "  </thead>\n",
       "  <tbody>\n",
       "    <tr>\n",
       "      <th>sealevel</th>\n",
       "      <td>1.000000</td>\n",
       "      <td>0.953761</td>\n",
       "      <td>0.339041</td>\n",
       "      <td>-0.058718</td>\n",
       "      <td>-0.048547</td>\n",
       "    </tr>\n",
       "    <tr>\n",
       "      <th>surface_level</th>\n",
       "      <td>0.953761</td>\n",
       "      <td>1.000000</td>\n",
       "      <td>0.040600</td>\n",
       "      <td>-0.062590</td>\n",
       "      <td>-0.052629</td>\n",
       "    </tr>\n",
       "    <tr>\n",
       "      <th>surface_alt</th>\n",
       "      <td>0.339041</td>\n",
       "      <td>0.040600</td>\n",
       "      <td>1.000000</td>\n",
       "      <td>0.000953</td>\n",
       "      <td>0.003566</td>\n",
       "    </tr>\n",
       "    <tr>\n",
       "      <th>p1_diff</th>\n",
       "      <td>-0.058718</td>\n",
       "      <td>-0.062590</td>\n",
       "      <td>0.000953</td>\n",
       "      <td>1.000000</td>\n",
       "      <td>0.813942</td>\n",
       "    </tr>\n",
       "    <tr>\n",
       "      <th>p2_diff</th>\n",
       "      <td>-0.048547</td>\n",
       "      <td>-0.052629</td>\n",
       "      <td>0.003566</td>\n",
       "      <td>0.813942</td>\n",
       "      <td>1.000000</td>\n",
       "    </tr>\n",
       "  </tbody>\n",
       "</table>\n",
       "</div>"
      ],
      "text/plain": [
       "               sealevel  surface_level  surface_alt   p1_diff   p2_diff\n",
       "sealevel       1.000000       0.953761     0.339041 -0.058718 -0.048547\n",
       "surface_level  0.953761       1.000000     0.040600 -0.062590 -0.052629\n",
       "surface_alt    0.339041       0.040600     1.000000  0.000953  0.003566\n",
       "p1_diff       -0.058718      -0.062590     0.000953  1.000000  0.813942\n",
       "p2_diff       -0.048547      -0.052629     0.003566  0.813942  1.000000"
      ]
     },
     "execution_count": 11,
     "metadata": {},
     "output_type": "execute_result"
    }
   ],
   "source": [
    "sensors[['sealevel','surface_level', 'surface_alt', 'p1_diff', 'p2_diff']].corr()"
   ]
  },
  {
   "cell_type": "code",
   "execution_count": 12,
   "metadata": {},
   "outputs": [
    {
     "data": {
      "text/plain": [
       "174"
      ]
     },
     "execution_count": 12,
     "metadata": {},
     "output_type": "execute_result"
    }
   ],
   "source": [
    "len(sensors)"
   ]
  },
  {
   "cell_type": "code",
   "execution_count": 14,
   "metadata": {},
   "outputs": [
    {
     "data": {
      "text/plain": [
       "(<AxesSubplot:xlabel='nearest_park', ylabel='p1_diff'>,\n",
       " <AxesSubplot:xlabel='nearest_road', ylabel='p1_diff'>,\n",
       " <AxesSubplot:xlabel='nearest_indust', ylabel='p1_diff'>)"
      ]
     },
     "execution_count": 14,
     "metadata": {},
     "output_type": "execute_result"
    },
    {
     "data": {
      "image/png": "[encoded data removed]",
      "text/plain": [
       "<Figure size 432x288 with 1 Axes>"
      ]
     },
     "metadata": {
      "needs_background": "light"
     },
     "output_type": "display_data"
    },
    {
     "data": {
      "image/png": "[encoded data removed]",
      "text/plain": [
       "<Figure size 432x288 with 1 Axes>"
      ]
     },
     "metadata": {
      "needs_background": "light"
     },
     "output_type": "display_data"
    },
    {
     "data": {
      "image/png": "[encoded data removed]",
      "text/plain": [
       "<Figure size 432x288 with 1 Axes>"
      ]
     },
     "metadata": {
      "needs_background": "light"
     },
     "output_type": "display_data"
    }
   ],
   "source": [
    "sensors.plot.scatter('nearest_park', 'p1_diff'), sensors.plot.scatter('nearest_road', 'p1_diff'), sensors.plot.scatter('nearest_indust', 'p1_diff')"
   ]
  },
  {
   "cell_type": "code",
   "execution_count": 15,
   "metadata": {},
   "outputs": [
    {
     "data": {
      "text/plain": [
       "(<AxesSubplot:xlabel='nearest_park', ylabel='p2_diff'>,\n",
       " <AxesSubplot:xlabel='nearest_road', ylabel='p2_diff'>,\n",
       " <AxesSubplot:xlabel='nearest_indust', ylabel='p2_diff'>)"
      ]
     },
     "execution_count": 15,
     "metadata": {},
     "output_type": "execute_result"
    },
    {
     "data": {
      "image/png": "[encoded data removed]",
      "text/plain": [
       "<Figure size 432x288 with 1 Axes>"
      ]
     },
     "metadata": {
      "needs_background": "light"
     },
     "output_type": "display_data"
    },
    {
     "data": {
      "image/png": "[encoded data removed]",
      "text/plain": [
       "<Figure size 432x288 with 1 Axes>"
      ]
     },
     "metadata": {
      "needs_background": "light"
     },
     "output_type": "display_data"
    },
    {
     "data": {
      "image/png": "[encoded data removed]",
      "text/plain": [
       "<Figure size 432x288 with 1 Axes>"
      ]
     },
     "metadata": {
      "needs_background": "light"
     },
     "output_type": "display_data"
    }
   ],
   "source": [
    "sensors.plot.scatter('nearest_park', 'p2_diff'), sensors.plot.scatter('nearest_road', 'p2_diff'), sensors.plot.scatter('nearest_indust', 'p2_diff')"
   ]
  },
  {
   "cell_type": "code",
   "execution_count": null,
   "metadata": {},
   "outputs": [],
   "source": []
  }
 ],
 "metadata": {
  "kernelspec": {
   "display_name": "Python 3",
   "language": "python",
   "name": "python3"
  },
  "language_info": {
   "codemirror_mode": {
    "name": "ipython",
    "version": 3
   },
   "file_extension": ".py",
   "mimetype": "text/x-python",
   "name": "python",
   "nbconvert_exporter": "python",
   "pygments_lexer": "ipython3",
   "version": "3.7.4"
  },
  "toc": {
   "base_numbering": 1,
   "nav_menu": {},
   "number_sections": true,
   "sideBar": true,
   "skip_h1_title": false,
   "title_cell": "Table of Contents",
   "title_sidebar": "Contents",
   "toc_cell": false,
   "toc_position": {},
   "toc_section_display": true,
   "toc_window_display": false
  },
  "varInspector": {
   "cols": {
    "lenName": 16,
    "lenType": 16,
    "lenVar": 40
   },
   "kernels_config": {
    "python": {
     "delete_cmd_postfix": "",
     "delete_cmd_prefix": "del ",
     "library": "var_list.py",
     "varRefreshCmd": "print(var_dic_list())"
    },
    "r": {
     "delete_cmd_postfix": ") ",
     "delete_cmd_prefix": "rm(",
     "library": "var_list.r",
     "varRefreshCmd": "cat(var_dic_list()) "
    }
   },
   "types_to_exclude": [
    "module",
    "function",
    "builtin_function_or_method",
    "instance",
    "_Feature"
   ],
   "window_display": false
  }
 },
 "nbformat": 4,
 "nbformat_minor": 2
}
