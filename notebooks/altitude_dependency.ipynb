{
 "cells": [
  {
   "cell_type": "code",
   "execution_count": 1,
   "metadata": {},
   "outputs": [],
   "source": [
    "import pandas as pd\n",
    "from datetime import timezone"
   ]
  },
  {
   "cell_type": "code",
   "execution_count": 2,
   "metadata": {},
   "outputs": [],
   "source": [
    "sensors = pd.read_csv('sensors.csv')"
   ]
  },
  {
   "cell_type": "code",
   "execution_count": 3,
   "metadata": {},
   "outputs": [
    {
     "data": {
      "text/html": [
       "<div>\n",
       "<style scoped>\n",
       "    .dataframe tbody tr th:only-of-type {\n",
       "        vertical-align: middle;\n",
       "    }\n",
       "\n",
       "    .dataframe tbody tr th {\n",
       "        vertical-align: top;\n",
       "    }\n",
       "\n",
       "    .dataframe thead th {\n",
       "        text-align: right;\n",
       "    }\n",
       "</style>\n",
       "<table border=\"1\" class=\"dataframe\">\n",
       "  <thead>\n",
       "    <tr style=\"text-align: right;\">\n",
       "      <th></th>\n",
       "      <th>sds_sensor</th>\n",
       "      <th>bme_sensor</th>\n",
       "      <th>lat</th>\n",
       "      <th>lon</th>\n",
       "      <th>sealevel</th>\n",
       "      <th>surface_alt</th>\n",
       "      <th>surface_level</th>\n",
       "    </tr>\n",
       "  </thead>\n",
       "  <tbody>\n",
       "    <tr>\n",
       "      <th>0</th>\n",
       "      <td>43811</td>\n",
       "      <td>43812</td>\n",
       "      <td>55.703017</td>\n",
       "      <td>37.459441</td>\n",
       "      <td>198.441012</td>\n",
       "      <td>163.0</td>\n",
       "      <td>35.441012</td>\n",
       "    </tr>\n",
       "    <tr>\n",
       "      <th>1</th>\n",
       "      <td>46280</td>\n",
       "      <td>46281</td>\n",
       "      <td>55.677867</td>\n",
       "      <td>37.456325</td>\n",
       "      <td>179.953347</td>\n",
       "      <td>176.0</td>\n",
       "      <td>3.953347</td>\n",
       "    </tr>\n",
       "    <tr>\n",
       "      <th>2</th>\n",
       "      <td>33626</td>\n",
       "      <td>33627</td>\n",
       "      <td>55.874089</td>\n",
       "      <td>37.510001</td>\n",
       "      <td>168.125266</td>\n",
       "      <td>176.0</td>\n",
       "      <td>-7.874734</td>\n",
       "    </tr>\n",
       "    <tr>\n",
       "      <th>3</th>\n",
       "      <td>45568</td>\n",
       "      <td>45569</td>\n",
       "      <td>55.625773</td>\n",
       "      <td>37.525268</td>\n",
       "      <td>263.580603</td>\n",
       "      <td>230.0</td>\n",
       "      <td>33.580603</td>\n",
       "    </tr>\n",
       "    <tr>\n",
       "      <th>4</th>\n",
       "      <td>27213</td>\n",
       "      <td>27214</td>\n",
       "      <td>55.814000</td>\n",
       "      <td>37.460000</td>\n",
       "      <td>157.798278</td>\n",
       "      <td>152.0</td>\n",
       "      <td>5.798278</td>\n",
       "    </tr>\n",
       "    <tr>\n",
       "      <th>...</th>\n",
       "      <td>...</td>\n",
       "      <td>...</td>\n",
       "      <td>...</td>\n",
       "      <td>...</td>\n",
       "      <td>...</td>\n",
       "      <td>...</td>\n",
       "      <td>...</td>\n",
       "    </tr>\n",
       "    <tr>\n",
       "      <th>163</th>\n",
       "      <td>42920</td>\n",
       "      <td>42921</td>\n",
       "      <td>55.850951</td>\n",
       "      <td>37.348591</td>\n",
       "      <td>193.788267</td>\n",
       "      <td>176.0</td>\n",
       "      <td>17.788267</td>\n",
       "    </tr>\n",
       "    <tr>\n",
       "      <th>164</th>\n",
       "      <td>41097</td>\n",
       "      <td>41098</td>\n",
       "      <td>55.563750</td>\n",
       "      <td>37.644380</td>\n",
       "      <td>170.006253</td>\n",
       "      <td>175.0</td>\n",
       "      <td>-4.993747</td>\n",
       "    </tr>\n",
       "    <tr>\n",
       "      <th>165</th>\n",
       "      <td>48427</td>\n",
       "      <td>48428</td>\n",
       "      <td>55.595953</td>\n",
       "      <td>37.598865</td>\n",
       "      <td>195.139890</td>\n",
       "      <td>172.0</td>\n",
       "      <td>23.139890</td>\n",
       "    </tr>\n",
       "    <tr>\n",
       "      <th>166</th>\n",
       "      <td>35514</td>\n",
       "      <td>35515</td>\n",
       "      <td>55.650000</td>\n",
       "      <td>37.490000</td>\n",
       "      <td>222.871522</td>\n",
       "      <td>200.0</td>\n",
       "      <td>22.871522</td>\n",
       "    </tr>\n",
       "    <tr>\n",
       "      <th>167</th>\n",
       "      <td>51384</td>\n",
       "      <td>51385</td>\n",
       "      <td>55.682000</td>\n",
       "      <td>37.462000</td>\n",
       "      <td>242.722745</td>\n",
       "      <td>155.0</td>\n",
       "      <td>87.722745</td>\n",
       "    </tr>\n",
       "  </tbody>\n",
       "</table>\n",
       "<p>168 rows × 7 columns</p>\n",
       "</div>"
      ],
      "text/plain": [
       "     sds_sensor  bme_sensor        lat        lon    sealevel  surface_alt  \\\n",
       "0         43811       43812  55.703017  37.459441  198.441012        163.0   \n",
       "1         46280       46281  55.677867  37.456325  179.953347        176.0   \n",
       "2         33626       33627  55.874089  37.510001  168.125266        176.0   \n",
       "3         45568       45569  55.625773  37.525268  263.580603        230.0   \n",
       "4         27213       27214  55.814000  37.460000  157.798278        152.0   \n",
       "..          ...         ...        ...        ...         ...          ...   \n",
       "163       42920       42921  55.850951  37.348591  193.788267        176.0   \n",
       "164       41097       41098  55.563750  37.644380  170.006253        175.0   \n",
       "165       48427       48428  55.595953  37.598865  195.139890        172.0   \n",
       "166       35514       35515  55.650000  37.490000  222.871522        200.0   \n",
       "167       51384       51385  55.682000  37.462000  242.722745        155.0   \n",
       "\n",
       "     surface_level  \n",
       "0        35.441012  \n",
       "1         3.953347  \n",
       "2        -7.874734  \n",
       "3        33.580603  \n",
       "4         5.798278  \n",
       "..             ...  \n",
       "163      17.788267  \n",
       "164      -4.993747  \n",
       "165      23.139890  \n",
       "166      22.871522  \n",
       "167      87.722745  \n",
       "\n",
       "[168 rows x 7 columns]"
      ]
     },
     "execution_count": 3,
     "metadata": {},
     "output_type": "execute_result"
    }
   ],
   "source": [
    "sensors"
   ]
  },
  {
   "cell_type": "code",
   "execution_count": 4,
   "metadata": {},
   "outputs": [],
   "source": [
    "p1_med = pd.read_csv('../DATA/processed/dataset.csv', parse_dates=['date']).set_index('date').P1_p50\n",
    "p2_med = pd.read_csv('../DATA/processed/dataset.csv', parse_dates=['date']).set_index('date').P2_p50"
   ]
  },
  {
   "cell_type": "code",
   "execution_count": 5,
   "metadata": {},
   "outputs": [
    {
     "data": {
      "text/plain": [
       "date\n",
       "2019-04-01 00:00:00+00:00    2.9575\n",
       "2019-04-01 00:05:00+00:00    2.6900\n",
       "2019-04-01 00:10:00+00:00    2.7600\n",
       "2019-04-01 00:15:00+00:00    2.8400\n",
       "2019-04-01 00:20:00+00:00    2.6175\n",
       "                              ...  \n",
       "2021-01-03 17:40:00+00:00       NaN\n",
       "2021-01-03 17:45:00+00:00       NaN\n",
       "2021-01-03 17:50:00+00:00       NaN\n",
       "2021-01-03 17:55:00+00:00       NaN\n",
       "2021-01-03 18:00:00+00:00       NaN\n",
       "Name: P2_p50, Length: 185401, dtype: float64"
      ]
     },
     "execution_count": 5,
     "metadata": {},
     "output_type": "execute_result"
    }
   ],
   "source": [
    "p2_med"
   ]
  },
  {
   "cell_type": "code",
   "execution_count": 18,
   "metadata": {},
   "outputs": [],
   "source": [
    "def get_diff(sds_id):\n",
    "    try:\n",
    "        file_name = f'{sds_id}_sds011_sensor_.csv'\n",
    "        sds_data = pd.read_csv('../DATA/raw/sensors/'+file_name, sep=';', parse_dates=['timestamp'])\n",
    "        sds_data = sds_data.set_index('timestamp').resample('5T').mean()\n",
    "        sds_data = sds_data.tz_localize(timezone.utc)\n",
    "        return (sds_data.P1 - p1_med).median(), (sds_data.P2 - p2_med).median()\n",
    "    except:\n",
    "        return None, None"
   ]
  },
  {
   "cell_type": "code",
   "execution_count": 19,
   "metadata": {},
   "outputs": [
    {
     "name": "stderr",
     "output_type": "stream",
     "text": [
      "//home/anatoly/HDD/anaconda3/envs/mlforair/lib/python3.7/site-packages/numpy/lib/nanfunctions.py:1111: RuntimeWarning: Mean of empty slice\n",
      "  return np.nanmean(a, axis, out=out, keepdims=keepdims)\n",
      "//home/anatoly/HDD/anaconda3/envs/mlforair/lib/python3.7/site-packages/IPython/core/interactiveshell.py:3249: DtypeWarning: Columns (6,9) have mixed types.Specify dtype option on import or set low_memory=False.\n",
      "  if (await self.run_code(code, result,  async_=asy)):\n"
     ]
    }
   ],
   "source": [
    "p1_diff = []\n",
    "p2_diff = []\n",
    "for index, row in sensors.iterrows():\n",
    "    p1, p2 = get_diff(int(row['sds_sensor']))\n",
    "    p1_diff.append(p1)\n",
    "    p2_diff.append(p2)\n",
    "    \n",
    "sensors['p1_diff'] = p1_diff\n",
    "sensors['p2_diff'] = p2_diff"
   ]
  },
  {
   "cell_type": "code",
   "execution_count": 20,
   "metadata": {},
   "outputs": [
    {
     "data": {
      "text/html": [
       "<div>\n",
       "<style scoped>\n",
       "    .dataframe tbody tr th:only-of-type {\n",
       "        vertical-align: middle;\n",
       "    }\n",
       "\n",
       "    .dataframe tbody tr th {\n",
       "        vertical-align: top;\n",
       "    }\n",
       "\n",
       "    .dataframe thead th {\n",
       "        text-align: right;\n",
       "    }\n",
       "</style>\n",
       "<table border=\"1\" class=\"dataframe\">\n",
       "  <thead>\n",
       "    <tr style=\"text-align: right;\">\n",
       "      <th></th>\n",
       "      <th>sds_sensor</th>\n",
       "      <th>bme_sensor</th>\n",
       "      <th>lat</th>\n",
       "      <th>lon</th>\n",
       "      <th>sealevel</th>\n",
       "      <th>surface_alt</th>\n",
       "      <th>surface_level</th>\n",
       "      <th>p1_diff</th>\n",
       "      <th>p2_diff</th>\n",
       "    </tr>\n",
       "  </thead>\n",
       "  <tbody>\n",
       "    <tr>\n",
       "      <th>0</th>\n",
       "      <td>43811</td>\n",
       "      <td>43812</td>\n",
       "      <td>55.703017</td>\n",
       "      <td>37.459441</td>\n",
       "      <td>198.441012</td>\n",
       "      <td>163.0</td>\n",
       "      <td>35.441012</td>\n",
       "      <td>-2.920000</td>\n",
       "      <td>-2.172500</td>\n",
       "    </tr>\n",
       "    <tr>\n",
       "      <th>1</th>\n",
       "      <td>46280</td>\n",
       "      <td>46281</td>\n",
       "      <td>55.677867</td>\n",
       "      <td>37.456325</td>\n",
       "      <td>179.953347</td>\n",
       "      <td>176.0</td>\n",
       "      <td>3.953347</td>\n",
       "      <td>-1.095000</td>\n",
       "      <td>-0.065000</td>\n",
       "    </tr>\n",
       "    <tr>\n",
       "      <th>2</th>\n",
       "      <td>33626</td>\n",
       "      <td>33627</td>\n",
       "      <td>55.874089</td>\n",
       "      <td>37.510001</td>\n",
       "      <td>168.125266</td>\n",
       "      <td>176.0</td>\n",
       "      <td>-7.874734</td>\n",
       "      <td>4.960000</td>\n",
       "      <td>0.755000</td>\n",
       "    </tr>\n",
       "    <tr>\n",
       "      <th>3</th>\n",
       "      <td>45568</td>\n",
       "      <td>45569</td>\n",
       "      <td>55.625773</td>\n",
       "      <td>37.525268</td>\n",
       "      <td>263.580603</td>\n",
       "      <td>230.0</td>\n",
       "      <td>33.580603</td>\n",
       "      <td>-0.601250</td>\n",
       "      <td>-0.277500</td>\n",
       "    </tr>\n",
       "    <tr>\n",
       "      <th>4</th>\n",
       "      <td>27213</td>\n",
       "      <td>27214</td>\n",
       "      <td>55.814000</td>\n",
       "      <td>37.460000</td>\n",
       "      <td>157.798278</td>\n",
       "      <td>152.0</td>\n",
       "      <td>5.798278</td>\n",
       "      <td>-2.055000</td>\n",
       "      <td>-0.635000</td>\n",
       "    </tr>\n",
       "    <tr>\n",
       "      <th>...</th>\n",
       "      <td>...</td>\n",
       "      <td>...</td>\n",
       "      <td>...</td>\n",
       "      <td>...</td>\n",
       "      <td>...</td>\n",
       "      <td>...</td>\n",
       "      <td>...</td>\n",
       "      <td>...</td>\n",
       "      <td>...</td>\n",
       "    </tr>\n",
       "    <tr>\n",
       "      <th>163</th>\n",
       "      <td>42920</td>\n",
       "      <td>42921</td>\n",
       "      <td>55.850951</td>\n",
       "      <td>37.348591</td>\n",
       "      <td>193.788267</td>\n",
       "      <td>176.0</td>\n",
       "      <td>17.788267</td>\n",
       "      <td>1.107500</td>\n",
       "      <td>-1.525000</td>\n",
       "    </tr>\n",
       "    <tr>\n",
       "      <th>164</th>\n",
       "      <td>41097</td>\n",
       "      <td>41098</td>\n",
       "      <td>55.563750</td>\n",
       "      <td>37.644380</td>\n",
       "      <td>170.006253</td>\n",
       "      <td>175.0</td>\n",
       "      <td>-4.993747</td>\n",
       "      <td>1.293417</td>\n",
       "      <td>1.095774</td>\n",
       "    </tr>\n",
       "    <tr>\n",
       "      <th>165</th>\n",
       "      <td>48427</td>\n",
       "      <td>48428</td>\n",
       "      <td>55.595953</td>\n",
       "      <td>37.598865</td>\n",
       "      <td>195.139890</td>\n",
       "      <td>172.0</td>\n",
       "      <td>23.139890</td>\n",
       "      <td>1.027500</td>\n",
       "      <td>-0.297500</td>\n",
       "    </tr>\n",
       "    <tr>\n",
       "      <th>166</th>\n",
       "      <td>35514</td>\n",
       "      <td>35515</td>\n",
       "      <td>55.650000</td>\n",
       "      <td>37.490000</td>\n",
       "      <td>222.871522</td>\n",
       "      <td>200.0</td>\n",
       "      <td>22.871522</td>\n",
       "      <td>-1.580000</td>\n",
       "      <td>-0.575000</td>\n",
       "    </tr>\n",
       "    <tr>\n",
       "      <th>167</th>\n",
       "      <td>51384</td>\n",
       "      <td>51385</td>\n",
       "      <td>55.682000</td>\n",
       "      <td>37.462000</td>\n",
       "      <td>242.722745</td>\n",
       "      <td>155.0</td>\n",
       "      <td>87.722745</td>\n",
       "      <td>2.100000</td>\n",
       "      <td>0.740000</td>\n",
       "    </tr>\n",
       "  </tbody>\n",
       "</table>\n",
       "<p>168 rows × 9 columns</p>\n",
       "</div>"
      ],
      "text/plain": [
       "     sds_sensor  bme_sensor        lat        lon    sealevel  surface_alt  \\\n",
       "0         43811       43812  55.703017  37.459441  198.441012        163.0   \n",
       "1         46280       46281  55.677867  37.456325  179.953347        176.0   \n",
       "2         33626       33627  55.874089  37.510001  168.125266        176.0   \n",
       "3         45568       45569  55.625773  37.525268  263.580603        230.0   \n",
       "4         27213       27214  55.814000  37.460000  157.798278        152.0   \n",
       "..          ...         ...        ...        ...         ...          ...   \n",
       "163       42920       42921  55.850951  37.348591  193.788267        176.0   \n",
       "164       41097       41098  55.563750  37.644380  170.006253        175.0   \n",
       "165       48427       48428  55.595953  37.598865  195.139890        172.0   \n",
       "166       35514       35515  55.650000  37.490000  222.871522        200.0   \n",
       "167       51384       51385  55.682000  37.462000  242.722745        155.0   \n",
       "\n",
       "     surface_level   p1_diff   p2_diff  \n",
       "0        35.441012 -2.920000 -2.172500  \n",
       "1         3.953347 -1.095000 -0.065000  \n",
       "2        -7.874734  4.960000  0.755000  \n",
       "3        33.580603 -0.601250 -0.277500  \n",
       "4         5.798278 -2.055000 -0.635000  \n",
       "..             ...       ...       ...  \n",
       "163      17.788267  1.107500 -1.525000  \n",
       "164      -4.993747  1.293417  1.095774  \n",
       "165      23.139890  1.027500 -0.297500  \n",
       "166      22.871522 -1.580000 -0.575000  \n",
       "167      87.722745  2.100000  0.740000  \n",
       "\n",
       "[168 rows x 9 columns]"
      ]
     },
     "execution_count": 20,
     "metadata": {},
     "output_type": "execute_result"
    }
   ],
   "source": [
    "sensors"
   ]
  },
  {
   "cell_type": "code",
   "execution_count": 21,
   "metadata": {},
   "outputs": [
    {
     "data": {
      "text/plain": [
       "(<AxesSubplot:xlabel='sealevel', ylabel='p1_diff'>,\n",
       " <AxesSubplot:xlabel='surface_level', ylabel='p1_diff'>)"
      ]
     },
     "execution_count": 21,
     "metadata": {},
     "output_type": "execute_result"
    },
    {
     "data": {
      "image/png": "[encoded data removed]",
      "text/plain": [
       "<Figure size 432x288 with 1 Axes>"
      ]
     },
     "metadata": {
      "needs_background": "light"
     },
     "output_type": "display_data"
    },
    {
     "data": {
      "image/png": "[encoded data removed]",
      "text/plain": [
       "<Figure size 432x288 with 1 Axes>"
      ]
     },
     "metadata": {
      "needs_background": "light"
     },
     "output_type": "display_data"
    }
   ],
   "source": [
    "sensors.plot.scatter('sealevel', 'p1_diff'), sensors.plot.scatter('surface_level', 'p1_diff')"
   ]
  },
  {
   "cell_type": "code",
   "execution_count": 22,
   "metadata": {},
   "outputs": [
    {
     "data": {
      "text/plain": [
       "(<AxesSubplot:xlabel='sealevel', ylabel='p2_diff'>,\n",
       " <AxesSubplot:xlabel='surface_level', ylabel='p2_diff'>)"
      ]
     },
     "execution_count": 22,
     "metadata": {},
     "output_type": "execute_result"
    },
    {
     "data": {
      "image/png": "[encoded data removed]",
      "text/plain": [
       "<Figure size 432x288 with 1 Axes>"
      ]
     },
     "metadata": {
      "needs_background": "light"
     },
     "output_type": "display_data"
    },
    {
     "data": {
      "image/png": "[encoded data removed]",
      "text/plain": [
       "<Figure size 432x288 with 1 Axes>"
      ]
     },
     "metadata": {
      "needs_background": "light"
     },
     "output_type": "display_data"
    }
   ],
   "source": [
    "sensors.plot.scatter('sealevel', 'p2_diff'), sensors.plot.scatter('surface_level', 'p2_diff')"
   ]
  },
  {
   "cell_type": "code",
   "execution_count": 23,
   "metadata": {},
   "outputs": [
    {
     "data": {
      "text/html": [
       "<div>\n",
       "<style scoped>\n",
       "    .dataframe tbody tr th:only-of-type {\n",
       "        vertical-align: middle;\n",
       "    }\n",
       "\n",
       "    .dataframe tbody tr th {\n",
       "        vertical-align: top;\n",
       "    }\n",
       "\n",
       "    .dataframe thead th {\n",
       "        text-align: right;\n",
       "    }\n",
       "</style>\n",
       "<table border=\"1\" class=\"dataframe\">\n",
       "  <thead>\n",
       "    <tr style=\"text-align: right;\">\n",
       "      <th></th>\n",
       "      <th>sealevel</th>\n",
       "      <th>surface_level</th>\n",
       "      <th>surface_alt</th>\n",
       "      <th>p1_diff</th>\n",
       "      <th>p2_diff</th>\n",
       "    </tr>\n",
       "  </thead>\n",
       "  <tbody>\n",
       "    <tr>\n",
       "      <th>sealevel</th>\n",
       "      <td>1.000000</td>\n",
       "      <td>0.701180</td>\n",
       "      <td>0.770160</td>\n",
       "      <td>0.032344</td>\n",
       "      <td>0.042379</td>\n",
       "    </tr>\n",
       "    <tr>\n",
       "      <th>surface_level</th>\n",
       "      <td>0.701180</td>\n",
       "      <td>1.000000</td>\n",
       "      <td>0.085243</td>\n",
       "      <td>-0.009893</td>\n",
       "      <td>0.021850</td>\n",
       "    </tr>\n",
       "    <tr>\n",
       "      <th>surface_alt</th>\n",
       "      <td>0.770160</td>\n",
       "      <td>0.085243</td>\n",
       "      <td>1.000000</td>\n",
       "      <td>0.054146</td>\n",
       "      <td>0.039433</td>\n",
       "    </tr>\n",
       "    <tr>\n",
       "      <th>p1_diff</th>\n",
       "      <td>0.032344</td>\n",
       "      <td>-0.009893</td>\n",
       "      <td>0.054146</td>\n",
       "      <td>1.000000</td>\n",
       "      <td>0.865719</td>\n",
       "    </tr>\n",
       "    <tr>\n",
       "      <th>p2_diff</th>\n",
       "      <td>0.042379</td>\n",
       "      <td>0.021850</td>\n",
       "      <td>0.039433</td>\n",
       "      <td>0.865719</td>\n",
       "      <td>1.000000</td>\n",
       "    </tr>\n",
       "  </tbody>\n",
       "</table>\n",
       "</div>"
      ],
      "text/plain": [
       "               sealevel  surface_level  surface_alt   p1_diff   p2_diff\n",
       "sealevel       1.000000       0.701180     0.770160  0.032344  0.042379\n",
       "surface_level  0.701180       1.000000     0.085243 -0.009893  0.021850\n",
       "surface_alt    0.770160       0.085243     1.000000  0.054146  0.039433\n",
       "p1_diff        0.032344      -0.009893     0.054146  1.000000  0.865719\n",
       "p2_diff        0.042379       0.021850     0.039433  0.865719  1.000000"
      ]
     },
     "execution_count": 23,
     "metadata": {},
     "output_type": "execute_result"
    }
   ],
   "source": [
    "sensors[['sealevel','surface_level', 'surface_alt', 'p1_diff', 'p2_diff']].corr()"
   ]
  },
  {
   "cell_type": "code",
   "execution_count": 26,
   "metadata": {},
   "outputs": [
    {
     "data": {
      "text/plain": [
       "168"
      ]
     },
     "execution_count": 26,
     "metadata": {},
     "output_type": "execute_result"
    }
   ],
   "source": [
    "len(sensors)"
   ]
  },
  {
   "cell_type": "code",
   "execution_count": null,
   "metadata": {},
   "outputs": [],
   "source": []
  }
 ],
 "metadata": {
  "kernelspec": {
   "display_name": "Python 3",
   "language": "python",
   "name": "python3"
  },
  "language_info": {
   "codemirror_mode": {
    "name": "ipython",
    "version": 3
   },
   "file_extension": ".py",
   "mimetype": "text/x-python",
   "name": "python",
   "nbconvert_exporter": "python",
   "pygments_lexer": "ipython3",
   "version": "3.7.4"
  },
  "toc": {
   "base_numbering": 1,
   "nav_menu": {},
   "number_sections": true,
   "sideBar": true,
   "skip_h1_title": false,
   "title_cell": "Table of Contents",
   "title_sidebar": "Contents",
   "toc_cell": false,
   "toc_position": {},
   "toc_section_display": true,
   "toc_window_display": false
  },
  "varInspector": {
   "cols": {
    "lenName": 16,
    "lenType": 16,
    "lenVar": 40
   },
   "kernels_config": {
    "python": {
     "delete_cmd_postfix": "",
     "delete_cmd_prefix": "del ",
     "library": "var_list.py",
     "varRefreshCmd": "print(var_dic_list())"
    },
    "r": {
     "delete_cmd_postfix": ") ",
     "delete_cmd_prefix": "rm(",
     "library": "var_list.r",
     "varRefreshCmd": "cat(var_dic_list()) "
    }
   },
   "types_to_exclude": [
    "module",
    "function",
    "builtin_function_or_method",
    "instance",
    "_Feature"
   ],
   "window_display": false
  }
 },
 "nbformat": 4,
 "nbformat_minor": 2
}
